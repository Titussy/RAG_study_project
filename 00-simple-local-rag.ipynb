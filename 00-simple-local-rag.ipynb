{
 "cells": [
  {
   "cell_type": "code",
   "execution_count": 8,
   "id": "04f80dad",
   "metadata": {},
   "outputs": [
    {
     "name": "stdout",
     "output_type": "stream",
     "text": [
      "System Information:\n",
      "--------------------------------------------------\n",
      "Platform: Windows 10\n",
      "Python version: 3.11.9\n",
      "PyTorch version: 2.3.1+cu121\n",
      "CUDA available: True\n",
      "\n",
      "GPU Information:\n",
      "--------------------------------------------------\n",
      "NVIDIA GPU detected:\n",
      "\n",
      "Sat Aug 30 00:47:48 2025       \n",
      "+-----------------------------------------------------------------------------------------+\n",
      "| NVIDIA-SMI 580.97                 Driver Version: 580.97         CUDA Version: 13.0     |\n",
      "+-----------------------------------------+------------------------+----------------------+\n",
      "| GPU  Name                  Driver-Model | Bus-Id          Disp.A | Volatile Uncorr. ECC |\n",
      "| Fan  Temp   Perf          Pwr:Usage/Cap |           Memory-Usage | GPU-Util  Compute M. |\n",
      "|                                         |                        |               MIG M. |\n",
      "|=========================================+========================+======================|\n",
      "|   0  NVIDIA GeForce RTX 4060      WDDM  |   00000000:01:00.0  On |                  N/A |\n",
      "|  0%   44C    P8            N/A  /  115W |    1152MiB /   8188MiB |      5%      Default |\n",
      "|                                         |                        |                  N/A |\n",
      "+-----------------------------------------+------------------------+----------------------+\n",
      "\n",
      "+-----------------------------------------------------------------------------------------+\n",
      "| Processes:                                                                              |\n",
      "|  GPU   GI   CI              PID   Type   Process name                        GPU Memory |\n",
      "|        ID   ID                                                               Usage      |\n",
      "|=========================================================================================|\n",
      "|    0   N/A  N/A            1236    C+G   ...ms\\Microsoft VS Code\\Code.exe      N/A      |\n",
      "|    0   N/A  N/A            1536    C+G   ...Chrome\\Application\\chrome.exe      N/A      |\n",
      "|    0   N/A  N/A            2892    C+G   ...0.3405.119\\msedgewebview2.exe      N/A      |\n",
      "|    0   N/A  N/A            4248    C+G   ...Chrome\\Application\\chrome.exe      N/A      |\n",
      "|    0   N/A  N/A            6384    C+G   C:\\Windows\\explorer.exe               N/A      |\n",
      "|    0   N/A  N/A            7248    C+G   ...IA App\\CEF\\NVIDIA Overlay.exe      N/A      |\n",
      "|    0   N/A  N/A            7928    C+G   ...IA App\\CEF\\NVIDIA Overlay.exe      N/A      |\n",
      "|    0   N/A  N/A            8548    C+G   ...h_cw5n1h2txyewy\\SearchApp.exe      N/A      |\n",
      "|    0   N/A  N/A            9756    C+G   ...5n1h2txyewy\\TextInputHost.exe      N/A      |\n",
      "|    0   N/A  N/A           10552    C+G   ...ntrolPanel\\SystemSettings.exe      N/A      |\n",
      "|    0   N/A  N/A           11272    C+G   ...crosoft\\OneDrive\\OneDrive.exe      N/A      |\n",
      "|    0   N/A  N/A           12504    C+G   ...xyewy\\ShellExperienceHost.exe      N/A      |\n",
      "|    0   N/A  N/A           13140    C+G   ...cord\\app-1.0.9205\\Discord.exe      N/A      |\n",
      "|    0   N/A  N/A           14384      C   ...s\\Python\\Python311\\python.exe      N/A      |\n",
      "|    0   N/A  N/A           15268    C+G   ...ef.win7x64\\steamwebhelper.exe      N/A      |\n",
      "|    0   N/A  N/A           15412    C+G   ...al\\Programs\\Notion\\Notion.exe      N/A      |\n",
      "|    0   N/A  N/A           16496    C+G   ...0.3405.119\\msedgewebview2.exe      N/A      |\n",
      "|    0   N/A  N/A           16580    C+G   ...t\\Edge\\Application\\msedge.exe      N/A      |\n",
      "|    0   N/A  N/A           16884    C+G   ...8wekyb3d8bbwe\\WebViewHost.exe      N/A      |\n",
      "|    0   N/A  N/A           19228    C+G   ...h_cw5n1h2txyewy\\SearchApp.exe      N/A      |\n",
      "|    0   N/A  N/A           20888    C+G   ...64__8wekyb3d8bbwe\\Copilot.exe      N/A      |\n",
      "|    0   N/A  N/A           20908    C+G   ...App_cw5n1h2txyewy\\LockApp.exe      N/A      |\n",
      "+-----------------------------------------------------------------------------------------+\n",
      "\n"
     ]
    },
    {
     "data": {
      "text/plain": [
       "True"
      ]
     },
     "execution_count": 8,
     "metadata": {},
     "output_type": "execute_result"
    }
   ],
   "source": [
    "import torch\n",
    "import platform\n",
    "import subprocess\n",
    "\n",
    "def get_gpu_info():\n",
    "    try:\n",
    "        # Check if nvidia-smi is available\n",
    "        nvidia_smi = subprocess.check_output(\"nvidia-smi\", shell=True)\n",
    "        print(\"NVIDIA GPU detected:\\n\")\n",
    "        print(nvidia_smi.decode())\n",
    "        return True\n",
    "    except:\n",
    "        print(\"No NVIDIA GPU detected or nvidia-smi not found\")\n",
    "        return False\n",
    "\n",
    "print(\"System Information:\")\n",
    "print(\"-\" * 50)\n",
    "print(f\"Platform: {platform.system()} {platform.release()}\")\n",
    "print(f\"Python version: {platform.python_version()}\")\n",
    "print(f\"PyTorch version: {torch.__version__}\")\n",
    "print(f\"CUDA available: {torch.cuda.is_available()}\")\n",
    "print(\"\\nGPU Information:\")\n",
    "print(\"-\" * 50)\n",
    "get_gpu_info()"
   ]
  },
  {
   "cell_type": "markdown",
   "id": "9d8a0fb0",
   "metadata": {},
   "source": [
    "# 1. RAG - Data preprocess"
   ]
  },
  {
   "cell_type": "markdown",
   "id": "1e154ed5",
   "metadata": {},
   "source": [
    "## 1.1 Data Process: text over page, then split the sentences."
   ]
  },
  {
   "cell_type": "markdown",
   "id": "4eb610d6",
   "metadata": {},
   "source": [
    "### 1.1.1 download pdf and simple process"
   ]
  },
  {
   "cell_type": "code",
   "execution_count": 11,
   "id": "41ed120e",
   "metadata": {},
   "outputs": [
    {
     "name": "stdout",
     "output_type": "stream",
     "text": [
      "[INFO]File human-nutrution-text.pdf already exists.\n"
     ]
    }
   ],
   "source": [
    "import os\n",
    "import requests\n",
    "\n",
    "# Get PDF document path\n",
    "pdf_path = \"human-nutrution-text.pdf\"\n",
    "\n",
    "# Download the PDF\n",
    "if not os.path.exists(pdf_path):\n",
    "    print(\"[INFO]File doesn't exist Downloading...\")\n",
    "    \n",
    "    #Enter the URL of the PDF\n",
    "    url = \"https://pressbooks.oer.hawaii.edu/humannutrition2/open/download?type=pdf\"\n",
    "    \n",
    "    #The local filename to save the downloaded file\n",
    "    filename = pdf_path\n",
    "    \n",
    "    # Send a GET request to the URL\n",
    "    response = requests.get(url)\n",
    "    \n",
    "    # Check if the request was successful\n",
    "    if response.status_code == 200:\n",
    "        #Open the file and save it\n",
    "        with open(filename, \"wb\") as file:\n",
    "            file.write(response.content)\n",
    "        print(f\"[INFO]File downloaded and saved as {filename}\")\n",
    "        \n",
    "    else:\n",
    "        print(f\"[INFO]Failed to download file. Status code: {response.status_code}\")\n",
    "else:\n",
    "    print(f\"[INFO]File {pdf_path} already exists.\")\n"
   ]
  },
  {
   "cell_type": "code",
   "execution_count": 12,
   "id": "89c173d2",
   "metadata": {},
   "outputs": [
    {
     "name": "stderr",
     "output_type": "stream",
     "text": [
      "0it [00:00, ?it/s]"
     ]
    },
    {
     "name": "stderr",
     "output_type": "stream",
     "text": [
      "1208it [00:00, 1485.91it/s]\n"
     ]
    }
   ],
   "source": [
    "from tqdm.auto import tqdm\n",
    "try:\n",
    "    import fitz\n",
    "except ImportError:\n",
    "    import sys\n",
    "    !{sys.executable} -m pip install PyMuPDF\n",
    "    import fitz\n",
    "    \n",
    "def text_formaater(text: str) -> str:\n",
    "    \"\"\"Performs. minor formatting on text.\"\"\"\n",
    "    cleaned_text = text.replace(\"\\n\", \" \").strip()\n",
    "    \n",
    "    return cleaned_text\n",
    "\n",
    "# read pdf file in list[dict]\n",
    "def open_and_read_pdf(pdf_path: str) -> list[dict]:\n",
    "    doc = fitz.open(pdf_path)\n",
    "    pages_and_texts = []\n",
    "    for page_number, page in tqdm(enumerate(doc)):\n",
    "        text = page.get_text()\n",
    "        text = text_formaater(text= text)\n",
    "        pages_and_texts.append({\"page_number\": page_number -41, \n",
    "                               \"page_char_count\": len(text), \n",
    "                               \"page_word_count\": len(text.split(\" \")),\n",
    "                               \"page_sentence_count\" : len(text.split(\". \")),\n",
    "                               \"page_token_count\": len(text)/4, # Rough estimate of tokens\n",
    "                               \"text\":text\n",
    "                               })\n",
    "        \n",
    "    return pages_and_texts\n",
    "\n",
    "pages_and_texts = open_and_read_pdf(pdf_path)"
   ]
  },
  {
   "cell_type": "code",
   "execution_count": 13,
   "id": "580aa8a2",
   "metadata": {},
   "outputs": [
    {
     "data": {
      "text/html": [
       "<div>\n",
       "<style scoped>\n",
       "    .dataframe tbody tr th:only-of-type {\n",
       "        vertical-align: middle;\n",
       "    }\n",
       "\n",
       "    .dataframe tbody tr th {\n",
       "        vertical-align: top;\n",
       "    }\n",
       "\n",
       "    .dataframe thead th {\n",
       "        text-align: right;\n",
       "    }\n",
       "</style>\n",
       "<table border=\"1\" class=\"dataframe\">\n",
       "  <thead>\n",
       "    <tr style=\"text-align: right;\">\n",
       "      <th></th>\n",
       "      <th>page_number</th>\n",
       "      <th>page_char_count</th>\n",
       "      <th>page_word_count</th>\n",
       "      <th>page_sentence_count</th>\n",
       "      <th>page_token_count</th>\n",
       "      <th>text</th>\n",
       "    </tr>\n",
       "  </thead>\n",
       "  <tbody>\n",
       "    <tr>\n",
       "      <th>500</th>\n",
       "      <td>459</td>\n",
       "      <td>745</td>\n",
       "      <td>120</td>\n",
       "      <td>4</td>\n",
       "      <td>186.25</td>\n",
       "      <td>Learning Activities  Technology Note: The seco...</td>\n",
       "    </tr>\n",
       "    <tr>\n",
       "      <th>501</th>\n",
       "      <td>460</td>\n",
       "      <td>1958</td>\n",
       "      <td>337</td>\n",
       "      <td>19</td>\n",
       "      <td>489.50</td>\n",
       "      <td>The Atom  UNIVERSITY OF HAWAI‘I AT MĀNOA FOOD ...</td>\n",
       "    </tr>\n",
       "    <tr>\n",
       "      <th>502</th>\n",
       "      <td>461</td>\n",
       "      <td>1339</td>\n",
       "      <td>230</td>\n",
       "      <td>12</td>\n",
       "      <td>334.75</td>\n",
       "      <td>Image by  DoSiDo / CC  BY-SA 3.0  Atoms and mo...</td>\n",
       "    </tr>\n",
       "  </tbody>\n",
       "</table>\n",
       "</div>"
      ],
      "text/plain": [
       "     page_number  page_char_count  page_word_count  page_sentence_count  \\\n",
       "500          459              745              120                    4   \n",
       "501          460             1958              337                   19   \n",
       "502          461             1339              230                   12   \n",
       "\n",
       "     page_token_count                                               text  \n",
       "500            186.25  Learning Activities  Technology Note: The seco...  \n",
       "501            489.50  The Atom  UNIVERSITY OF HAWAI‘I AT MĀNOA FOOD ...  \n",
       "502            334.75  Image by  DoSiDo / CC  BY-SA 3.0  Atoms and mo...  "
      ]
     },
     "metadata": {},
     "output_type": "display_data"
    },
    {
     "data": {
      "text/html": [
       "<div>\n",
       "<style scoped>\n",
       "    .dataframe tbody tr th:only-of-type {\n",
       "        vertical-align: middle;\n",
       "    }\n",
       "\n",
       "    .dataframe tbody tr th {\n",
       "        vertical-align: top;\n",
       "    }\n",
       "\n",
       "    .dataframe thead th {\n",
       "        text-align: right;\n",
       "    }\n",
       "</style>\n",
       "<table border=\"1\" class=\"dataframe\">\n",
       "  <thead>\n",
       "    <tr style=\"text-align: right;\">\n",
       "      <th></th>\n",
       "      <th>page_number</th>\n",
       "      <th>page_char_count</th>\n",
       "      <th>page_word_count</th>\n",
       "      <th>page_sentence_count</th>\n",
       "      <th>page_token_count</th>\n",
       "    </tr>\n",
       "  </thead>\n",
       "  <tbody>\n",
       "    <tr>\n",
       "      <th>count</th>\n",
       "      <td>1208.00</td>\n",
       "      <td>1208.00</td>\n",
       "      <td>1208.00</td>\n",
       "      <td>1208.00</td>\n",
       "      <td>1208.00</td>\n",
       "    </tr>\n",
       "    <tr>\n",
       "      <th>mean</th>\n",
       "      <td>562.50</td>\n",
       "      <td>1148.00</td>\n",
       "      <td>198.30</td>\n",
       "      <td>9.97</td>\n",
       "      <td>287.00</td>\n",
       "    </tr>\n",
       "    <tr>\n",
       "      <th>std</th>\n",
       "      <td>348.86</td>\n",
       "      <td>560.38</td>\n",
       "      <td>95.76</td>\n",
       "      <td>6.19</td>\n",
       "      <td>140.10</td>\n",
       "    </tr>\n",
       "    <tr>\n",
       "      <th>min</th>\n",
       "      <td>-41.00</td>\n",
       "      <td>0.00</td>\n",
       "      <td>1.00</td>\n",
       "      <td>1.00</td>\n",
       "      <td>0.00</td>\n",
       "    </tr>\n",
       "    <tr>\n",
       "      <th>25%</th>\n",
       "      <td>260.75</td>\n",
       "      <td>762.00</td>\n",
       "      <td>134.00</td>\n",
       "      <td>4.00</td>\n",
       "      <td>190.50</td>\n",
       "    </tr>\n",
       "    <tr>\n",
       "      <th>50%</th>\n",
       "      <td>562.50</td>\n",
       "      <td>1231.50</td>\n",
       "      <td>214.50</td>\n",
       "      <td>10.00</td>\n",
       "      <td>307.88</td>\n",
       "    </tr>\n",
       "    <tr>\n",
       "      <th>75%</th>\n",
       "      <td>864.25</td>\n",
       "      <td>1603.50</td>\n",
       "      <td>271.00</td>\n",
       "      <td>14.00</td>\n",
       "      <td>400.88</td>\n",
       "    </tr>\n",
       "    <tr>\n",
       "      <th>max</th>\n",
       "      <td>1166.00</td>\n",
       "      <td>2308.00</td>\n",
       "      <td>429.00</td>\n",
       "      <td>32.00</td>\n",
       "      <td>577.00</td>\n",
       "    </tr>\n",
       "  </tbody>\n",
       "</table>\n",
       "</div>"
      ],
      "text/plain": [
       "       page_number  page_char_count  page_word_count  page_sentence_count  \\\n",
       "count      1208.00          1208.00          1208.00              1208.00   \n",
       "mean        562.50          1148.00           198.30                 9.97   \n",
       "std         348.86           560.38            95.76                 6.19   \n",
       "min         -41.00             0.00             1.00                 1.00   \n",
       "25%         260.75           762.00           134.00                 4.00   \n",
       "50%         562.50          1231.50           214.50                10.00   \n",
       "75%         864.25          1603.50           271.00                14.00   \n",
       "max        1166.00          2308.00           429.00                32.00   \n",
       "\n",
       "       page_token_count  \n",
       "count           1208.00  \n",
       "mean             287.00  \n",
       "std              140.10  \n",
       "min                0.00  \n",
       "25%              190.50  \n",
       "50%              307.88  \n",
       "75%              400.88  \n",
       "max              577.00  "
      ]
     },
     "metadata": {},
     "output_type": "display_data"
    }
   ],
   "source": [
    "import random\n",
    "#view some of the pages and texts\n",
    "#display(random.sample(pages_and_texts, k=3))\n",
    "\n",
    "import pandas as pd\n",
    "df = pd.DataFrame(pages_and_texts)\n",
    "display(df[500:503])\n",
    "display(df.describe().round(2))"
   ]
  },
  {
   "cell_type": "markdown",
   "id": "bbd6e246",
   "metadata": {},
   "source": [
    "### 1.1.2 split sentence by using spacy (nlp tool)"
   ]
  },
  {
   "cell_type": "code",
   "execution_count": 14,
   "id": "2827ba28",
   "metadata": {},
   "outputs": [
    {
     "name": "stdout",
     "output_type": "stream",
     "text": [
      "Original: This is a sentence. This is another one. And this is the last one.\n",
      "After split: [This is a sentence., This is another one., And this is the last one.]\n"
     ]
    }
   ],
   "source": [
    "try:\n",
    "    from spacy.lang.en import English\n",
    "except ModuleNotFoundError:\n",
    "    import sys\n",
    "    !{sys.executable} -m pip install spacy\n",
    "    from spacy.lang.en import English\n",
    "\n",
    "nlp = English()\n",
    "nlp.add_pipe(\"sentencizer\")\n",
    "\n",
    "## example for sentence splitting\n",
    "test_sentences = \"This is a sentence. This is another one. And this is the last one.\"\n",
    "doc = nlp(test_sentences)\n",
    "print(f\"Original: {test_sentences}\")\n",
    "print(f\"After split: {list(doc.sents)}\")"
   ]
  },
  {
   "cell_type": "code",
   "execution_count": 15,
   "id": "84b34744",
   "metadata": {},
   "outputs": [
    {
     "name": "stderr",
     "output_type": "stream",
     "text": [
      "100%|██████████| 1208/1208 [00:01<00:00, 1040.71it/s]\n"
     ]
    },
    {
     "data": {
      "text/plain": [
       "[{'page_number': 712,\n",
       "  'page_char_count': 1834,\n",
       "  'page_word_count': 340,\n",
       "  'page_sentence_count': 19,\n",
       "  'page_token_count': 458.5,\n",
       "  'text': 'EAR values become the scientific foundation upon which RDA  values are set.  2. Recommended Daily Allowances. Once the EAR of a nutrient  has been established, the RDA can be mathematically  determined. While the EAR is set at a point that meets the  needs of half the population, RDA values are set to meet the  needs of the vast majority (97 to 98 percent) of the target  healthy population. It is important to note that RDAs are not  the same thing as individual nutritional requirements. The  actual nutrient needs of a given individual will be different  than the RDA. However, since we know that 97 to 98 percent of  the population’s needs are met by the RDA, we can assume that  if a person is consuming the RDA of a given nutrient, they are  most likely meeting their nutritional need for that nutrient.  The important thing to remember is that the RDA is meant as a  recommendation and meeting the RDA means it is very likely  that you are meeting your actual requirement for that nutrient.  Understanding the Difference  There is a distinct difference between a requirement and a  recommendation. For instance, the DRI for vitamin D is a  recommended 600 international units each day. However, in order  to find out your true personal requirements for vitamin D, a blood  test is necessary. The blood test will provide an accurate reading  from which a medical professional can gauge your required daily  vitamin D amounts. This may be considerably more or less than the  DRI, depending on what your level actually is.  1. Adequate Intake. AIs are created for nutrients when there is  insufficient consistent scientific evidence to set an EAR for the  entire population. As with RDAs, AIs can be used as nutrient- intake goals for a given nutrient. For example, there has not  712  |  Understanding Dietary Reference Intakes',\n",
       "  'sentences': ['EAR values become the scientific foundation upon which RDA  values are set.',\n",
       "   ' 2.',\n",
       "   'Recommended Daily Allowances.',\n",
       "   'Once the EAR of a nutrient  has been established, the RDA can be mathematically  determined.',\n",
       "   'While the EAR is set at a point that meets the  needs of half the population, RDA values are set to meet the  needs of the vast majority (97 to 98 percent) of the target  healthy population.',\n",
       "   'It is important to note that RDAs are not  the same thing as individual nutritional requirements.',\n",
       "   'The  actual nutrient needs of a given individual will be different  than the RDA.',\n",
       "   'However, since we know that 97 to 98 percent of  the population’s needs are met by the RDA, we can assume that  if a person is consuming the RDA of a given nutrient, they are  most likely meeting their nutritional need for that nutrient.',\n",
       "   ' The important thing to remember is that the RDA is meant as a  recommendation and meeting the RDA means it is very likely  that you are meeting your actual requirement for that nutrient.',\n",
       "   ' Understanding the Difference  There is a distinct difference between a requirement and a  recommendation.',\n",
       "   'For instance, the DRI for vitamin D is a  recommended 600 international units each day.',\n",
       "   'However, in order  to find out your true personal requirements for vitamin D, a blood  test is necessary.',\n",
       "   'The blood test will provide an accurate reading  from which a medical professional can gauge your required daily  vitamin D amounts.',\n",
       "   'This may be considerably more or less than the  DRI, depending on what your level actually is.',\n",
       "   ' 1.',\n",
       "   'Adequate Intake.',\n",
       "   'AIs are created for nutrients when there is  insufficient consistent scientific evidence to set an EAR for the  entire population.',\n",
       "   'As with RDAs, AIs can be used as nutrient- intake goals for a given nutrient.',\n",
       "   'For example, there has not  712  |  Understanding Dietary Reference Intakes'],\n",
       "  'page_sentence_count_spacy': 19}]"
      ]
     },
     "execution_count": 15,
     "metadata": {},
     "output_type": "execute_result"
    }
   ],
   "source": [
    "for item in tqdm(pages_and_texts):\n",
    "    # Process the text with spaCy\n",
    "    item[\"sentences\"] = list(nlp(item[\"text\"]).sents)\n",
    "    \n",
    "    #make sure to convert sentences to string\n",
    "    item[\"sentences\"] = [str(sentence)for sentence in item[\"sentences\"]]\n",
    "    \n",
    "    # Add the sentence count to the item\n",
    "    item[\"page_sentence_count_spacy\"] = len(item[\"sentences\"])\n",
    "    \n",
    "    \n",
    "#view some of the pages and texts\n",
    "random.sample(pages_and_texts, k=1)\n"
   ]
  },
  {
   "cell_type": "markdown",
   "id": "11da1e47",
   "metadata": {},
   "source": [
    "## 1.2 Chunk the sentence together"
   ]
  },
  {
   "cell_type": "markdown",
   "id": "3d1727d3",
   "metadata": {},
   "source": [
    "### 1.2.1 chunk sentence function"
   ]
  },
  {
   "cell_type": "code",
   "execution_count": 18,
   "id": "141edbac",
   "metadata": {},
   "outputs": [
    {
     "data": {
      "text/plain": [
       "[[0, 1, 2, 3, 4, 5, 6, 7, 8, 9],\n",
       " [10, 11, 12, 13, 14, 15, 16, 17, 18, 19],\n",
       " [20, 21, 22, 23, 24]]"
      ]
     },
     "execution_count": 18,
     "metadata": {},
     "output_type": "execute_result"
    }
   ],
   "source": [
    "num_sentence_chunk_size = 10\n",
    "\n",
    "## chunking function\n",
    "def split_list(input_list : list[str],\n",
    "               slice_size : int= num_sentence_chunk_size) -> list[list[str]]:\n",
    "    return [input_list[i:i + slice_size] for i in range(0, len(input_list), slice_size)]\n",
    "\n",
    "#to check if the function works apporpiately\n",
    "test_list = list(range(25))\n",
    "split_list(test_list)"
   ]
  },
  {
   "cell_type": "code",
   "execution_count": 19,
   "id": "a9825443",
   "metadata": {},
   "outputs": [
    {
     "name": "stderr",
     "output_type": "stream",
     "text": [
      "100%|██████████| 1208/1208 [00:00<00:00, 302075.91it/s]"
     ]
    },
    {
     "name": "stdout",
     "output_type": "stream",
     "text": [
      "after chunking:\n"
     ]
    },
    {
     "name": "stderr",
     "output_type": "stream",
     "text": [
      "\n"
     ]
    },
    {
     "data": {
      "text/plain": [
       "[{'page_number': 496,\n",
       "  'page_char_count': 1805,\n",
       "  'page_word_count': 283,\n",
       "  'page_sentence_count': 19,\n",
       "  'page_token_count': 451.25,\n",
       "  'text': 'that have more recently modernized, industrialized, and urbanized  are experiencing a surge in their overweight and obese populations.  China, the most populous country in the world, now has more than  215 million people, approximately one-fifth of their population, that  are considered overweight or obese.4  The increase in China’s waistline is partly attributed to changes  in the traditional diet, more sedentary lives, and a massive increase  in motor vehicle use. Moreover, China’s recent famines in the 1950s,  which affected the poor and lower classes to a greater extent than  the upper class, have sanctioned lax social attitudes toward body  fat and reinspired the age-old Chinese belief that excess body fat  represents health and prosperity.  One of the worst statistics regarding overweight and obesity in  China is that more than ten million adolescents between ages  seventeen and eighteen were overweight in 2000, which is twenty- eight times the number that were overweight in 1985.5  The associated diseases of overweight and obesity happen over  many years, and signs and symptoms commonly take decades to  manifest. With China’s younger population and other developed  countries experiencing a dramatic weight increase, the associated  chronic diseases will come about much earlier in life than in  previous generations. This will put an even greater burden on  society.  4.\\xa0Wu Y. (2006). Overweight and Obesity in China. British  Medical Journal, 333(7564), 362-363.  https://www.ncbi.nlm.nih.gov/pmc/articles/ PMC1550451/. Accessed September 22, 2017.  5.\\xa0Wu Y. (2006). \\xa0Overweight and Obesity in China. British  Medical Journal, 333(7564), 362-363.  https://www.ncbi.nlm.nih.gov/pmc/articles/ PMC1550451/. Accessed September 22, 2017.  496  |  Factors Affecting Energy Expenditure',\n",
       "  'sentences': ['that have more recently modernized, industrialized, and urbanized  are experiencing a surge in their overweight and obese populations.',\n",
       "   ' China, the most populous country in the world, now has more than  215 million people, approximately one-fifth of their population, that  are considered overweight or obese.4  The increase in China’s waistline is partly attributed to changes  in the traditional diet, more sedentary lives, and a massive increase  in motor vehicle use.',\n",
       "   'Moreover, China’s recent famines in the 1950s,  which affected the poor and lower classes to a greater extent than  the upper class, have sanctioned lax social attitudes toward body  fat and reinspired the age-old Chinese belief that excess body fat  represents health and prosperity.',\n",
       "   ' One of the worst statistics regarding overweight and obesity in  China is that more than ten million adolescents between ages  seventeen and eighteen were overweight in 2000, which is twenty- eight times the number that were overweight in 1985.5  The associated diseases of overweight and obesity happen over  many years, and signs and symptoms commonly take decades to  manifest.',\n",
       "   'With China’s younger population and other developed  countries experiencing a dramatic weight increase, the associated  chronic diseases will come about much earlier in life than in  previous generations.',\n",
       "   'This will put an even greater burden on  society.',\n",
       "   ' 4.',\n",
       "   '\\xa0Wu Y. (2006).',\n",
       "   'Overweight and Obesity in China.',\n",
       "   'British  Medical Journal, 333(7564), 362-363.',\n",
       "   ' https://www.ncbi.nlm.nih.gov/pmc/articles/ PMC1550451/. Accessed September 22, 2017.',\n",
       "   ' 5.',\n",
       "   '\\xa0Wu Y. (2006).',\n",
       "   '\\xa0Overweight and Obesity in China.',\n",
       "   'British  Medical Journal, 333(7564), 362-363.',\n",
       "   ' https://www.ncbi.nlm.nih.gov/pmc/articles/ PMC1550451/. Accessed September 22, 2017.',\n",
       "   ' 496  |  Factors Affecting Energy Expenditure'],\n",
       "  'page_sentence_count_spacy': 17,\n",
       "  'sentence_chunks': [['that have more recently modernized, industrialized, and urbanized  are experiencing a surge in their overweight and obese populations.',\n",
       "    ' China, the most populous country in the world, now has more than  215 million people, approximately one-fifth of their population, that  are considered overweight or obese.4  The increase in China’s waistline is partly attributed to changes  in the traditional diet, more sedentary lives, and a massive increase  in motor vehicle use.',\n",
       "    'Moreover, China’s recent famines in the 1950s,  which affected the poor and lower classes to a greater extent than  the upper class, have sanctioned lax social attitudes toward body  fat and reinspired the age-old Chinese belief that excess body fat  represents health and prosperity.',\n",
       "    ' One of the worst statistics regarding overweight and obesity in  China is that more than ten million adolescents between ages  seventeen and eighteen were overweight in 2000, which is twenty- eight times the number that were overweight in 1985.5  The associated diseases of overweight and obesity happen over  many years, and signs and symptoms commonly take decades to  manifest.',\n",
       "    'With China’s younger population and other developed  countries experiencing a dramatic weight increase, the associated  chronic diseases will come about much earlier in life than in  previous generations.',\n",
       "    'This will put an even greater burden on  society.',\n",
       "    ' 4.',\n",
       "    '\\xa0Wu Y. (2006).',\n",
       "    'Overweight and Obesity in China.',\n",
       "    'British  Medical Journal, 333(7564), 362-363.'],\n",
       "   [' https://www.ncbi.nlm.nih.gov/pmc/articles/ PMC1550451/. Accessed September 22, 2017.',\n",
       "    ' 5.',\n",
       "    '\\xa0Wu Y. (2006).',\n",
       "    '\\xa0Overweight and Obesity in China.',\n",
       "    'British  Medical Journal, 333(7564), 362-363.',\n",
       "    ' https://www.ncbi.nlm.nih.gov/pmc/articles/ PMC1550451/. Accessed September 22, 2017.',\n",
       "    ' 496  |  Factors Affecting Energy Expenditure']],\n",
       "  'num_chunks': 2}]"
      ]
     },
     "metadata": {},
     "output_type": "display_data"
    },
    {
     "data": {
      "text/html": [
       "<div>\n",
       "<style scoped>\n",
       "    .dataframe tbody tr th:only-of-type {\n",
       "        vertical-align: middle;\n",
       "    }\n",
       "\n",
       "    .dataframe tbody tr th {\n",
       "        vertical-align: top;\n",
       "    }\n",
       "\n",
       "    .dataframe thead th {\n",
       "        text-align: right;\n",
       "    }\n",
       "</style>\n",
       "<table border=\"1\" class=\"dataframe\">\n",
       "  <thead>\n",
       "    <tr style=\"text-align: right;\">\n",
       "      <th></th>\n",
       "      <th>page_number</th>\n",
       "      <th>page_char_count</th>\n",
       "      <th>page_word_count</th>\n",
       "      <th>page_sentence_count</th>\n",
       "      <th>page_token_count</th>\n",
       "      <th>text</th>\n",
       "      <th>sentences</th>\n",
       "      <th>page_sentence_count_spacy</th>\n",
       "      <th>sentence_chunks</th>\n",
       "      <th>num_chunks</th>\n",
       "    </tr>\n",
       "  </thead>\n",
       "  <tbody>\n",
       "    <tr>\n",
       "      <th>0</th>\n",
       "      <td>-41</td>\n",
       "      <td>29</td>\n",
       "      <td>4</td>\n",
       "      <td>1</td>\n",
       "      <td>7.25</td>\n",
       "      <td>Human Nutrition: 2020 Edition</td>\n",
       "      <td>[Human Nutrition: 2020 Edition]</td>\n",
       "      <td>1</td>\n",
       "      <td>[[Human Nutrition: 2020 Edition]]</td>\n",
       "      <td>1</td>\n",
       "    </tr>\n",
       "    <tr>\n",
       "      <th>1</th>\n",
       "      <td>-40</td>\n",
       "      <td>0</td>\n",
       "      <td>1</td>\n",
       "      <td>1</td>\n",
       "      <td>0.00</td>\n",
       "      <td></td>\n",
       "      <td>[]</td>\n",
       "      <td>0</td>\n",
       "      <td>[]</td>\n",
       "      <td>0</td>\n",
       "    </tr>\n",
       "    <tr>\n",
       "      <th>2</th>\n",
       "      <td>-39</td>\n",
       "      <td>320</td>\n",
       "      <td>54</td>\n",
       "      <td>1</td>\n",
       "      <td>80.00</td>\n",
       "      <td>Human Nutrition: 2020  Edition  UNIVERSITY OF ...</td>\n",
       "      <td>[Human Nutrition: 2020  Edition  UNIVERSITY OF...</td>\n",
       "      <td>1</td>\n",
       "      <td>[[Human Nutrition: 2020  Edition  UNIVERSITY O...</td>\n",
       "      <td>1</td>\n",
       "    </tr>\n",
       "    <tr>\n",
       "      <th>3</th>\n",
       "      <td>-38</td>\n",
       "      <td>212</td>\n",
       "      <td>32</td>\n",
       "      <td>1</td>\n",
       "      <td>53.00</td>\n",
       "      <td>Human Nutrition: 2020 Edition by University of...</td>\n",
       "      <td>[Human Nutrition: 2020 Edition by University o...</td>\n",
       "      <td>1</td>\n",
       "      <td>[[Human Nutrition: 2020 Edition by University ...</td>\n",
       "      <td>1</td>\n",
       "    </tr>\n",
       "    <tr>\n",
       "      <th>4</th>\n",
       "      <td>-37</td>\n",
       "      <td>797</td>\n",
       "      <td>145</td>\n",
       "      <td>2</td>\n",
       "      <td>199.25</td>\n",
       "      <td>Contents  Preface  University of Hawai‘i at Mā...</td>\n",
       "      <td>[Contents  Preface  University of Hawai‘i at M...</td>\n",
       "      <td>2</td>\n",
       "      <td>[[Contents  Preface  University of Hawai‘i at ...</td>\n",
       "      <td>1</td>\n",
       "    </tr>\n",
       "  </tbody>\n",
       "</table>\n",
       "</div>"
      ],
      "text/plain": [
       "   page_number  page_char_count  page_word_count  page_sentence_count  \\\n",
       "0          -41               29                4                    1   \n",
       "1          -40                0                1                    1   \n",
       "2          -39              320               54                    1   \n",
       "3          -38              212               32                    1   \n",
       "4          -37              797              145                    2   \n",
       "\n",
       "   page_token_count                                               text  \\\n",
       "0              7.25                      Human Nutrition: 2020 Edition   \n",
       "1              0.00                                                      \n",
       "2             80.00  Human Nutrition: 2020  Edition  UNIVERSITY OF ...   \n",
       "3             53.00  Human Nutrition: 2020 Edition by University of...   \n",
       "4            199.25  Contents  Preface  University of Hawai‘i at Mā...   \n",
       "\n",
       "                                           sentences  \\\n",
       "0                    [Human Nutrition: 2020 Edition]   \n",
       "1                                                 []   \n",
       "2  [Human Nutrition: 2020  Edition  UNIVERSITY OF...   \n",
       "3  [Human Nutrition: 2020 Edition by University o...   \n",
       "4  [Contents  Preface  University of Hawai‘i at M...   \n",
       "\n",
       "   page_sentence_count_spacy  \\\n",
       "0                          1   \n",
       "1                          0   \n",
       "2                          1   \n",
       "3                          1   \n",
       "4                          2   \n",
       "\n",
       "                                     sentence_chunks  num_chunks  \n",
       "0                  [[Human Nutrition: 2020 Edition]]           1  \n",
       "1                                                 []           0  \n",
       "2  [[Human Nutrition: 2020  Edition  UNIVERSITY O...           1  \n",
       "3  [[Human Nutrition: 2020 Edition by University ...           1  \n",
       "4  [[Contents  Preface  University of Hawai‘i at ...           1  "
      ]
     },
     "metadata": {},
     "output_type": "display_data"
    },
    {
     "data": {
      "text/html": [
       "<div>\n",
       "<style scoped>\n",
       "    .dataframe tbody tr th:only-of-type {\n",
       "        vertical-align: middle;\n",
       "    }\n",
       "\n",
       "    .dataframe tbody tr th {\n",
       "        vertical-align: top;\n",
       "    }\n",
       "\n",
       "    .dataframe thead th {\n",
       "        text-align: right;\n",
       "    }\n",
       "</style>\n",
       "<table border=\"1\" class=\"dataframe\">\n",
       "  <thead>\n",
       "    <tr style=\"text-align: right;\">\n",
       "      <th></th>\n",
       "      <th>page_number</th>\n",
       "      <th>page_char_count</th>\n",
       "      <th>page_word_count</th>\n",
       "      <th>page_sentence_count</th>\n",
       "      <th>page_token_count</th>\n",
       "      <th>page_sentence_count_spacy</th>\n",
       "      <th>num_chunks</th>\n",
       "    </tr>\n",
       "  </thead>\n",
       "  <tbody>\n",
       "    <tr>\n",
       "      <th>count</th>\n",
       "      <td>1208.00</td>\n",
       "      <td>1208.00</td>\n",
       "      <td>1208.00</td>\n",
       "      <td>1208.00</td>\n",
       "      <td>1208.00</td>\n",
       "      <td>1208.00</td>\n",
       "      <td>1208.00</td>\n",
       "    </tr>\n",
       "    <tr>\n",
       "      <th>mean</th>\n",
       "      <td>562.50</td>\n",
       "      <td>1148.00</td>\n",
       "      <td>198.30</td>\n",
       "      <td>9.97</td>\n",
       "      <td>287.00</td>\n",
       "      <td>10.32</td>\n",
       "      <td>1.53</td>\n",
       "    </tr>\n",
       "    <tr>\n",
       "      <th>std</th>\n",
       "      <td>348.86</td>\n",
       "      <td>560.38</td>\n",
       "      <td>95.76</td>\n",
       "      <td>6.19</td>\n",
       "      <td>140.10</td>\n",
       "      <td>6.30</td>\n",
       "      <td>0.64</td>\n",
       "    </tr>\n",
       "    <tr>\n",
       "      <th>min</th>\n",
       "      <td>-41.00</td>\n",
       "      <td>0.00</td>\n",
       "      <td>1.00</td>\n",
       "      <td>1.00</td>\n",
       "      <td>0.00</td>\n",
       "      <td>0.00</td>\n",
       "      <td>0.00</td>\n",
       "    </tr>\n",
       "    <tr>\n",
       "      <th>25%</th>\n",
       "      <td>260.75</td>\n",
       "      <td>762.00</td>\n",
       "      <td>134.00</td>\n",
       "      <td>4.00</td>\n",
       "      <td>190.50</td>\n",
       "      <td>5.00</td>\n",
       "      <td>1.00</td>\n",
       "    </tr>\n",
       "    <tr>\n",
       "      <th>50%</th>\n",
       "      <td>562.50</td>\n",
       "      <td>1231.50</td>\n",
       "      <td>214.50</td>\n",
       "      <td>10.00</td>\n",
       "      <td>307.88</td>\n",
       "      <td>10.00</td>\n",
       "      <td>1.00</td>\n",
       "    </tr>\n",
       "    <tr>\n",
       "      <th>75%</th>\n",
       "      <td>864.25</td>\n",
       "      <td>1603.50</td>\n",
       "      <td>271.00</td>\n",
       "      <td>14.00</td>\n",
       "      <td>400.88</td>\n",
       "      <td>15.00</td>\n",
       "      <td>2.00</td>\n",
       "    </tr>\n",
       "    <tr>\n",
       "      <th>max</th>\n",
       "      <td>1166.00</td>\n",
       "      <td>2308.00</td>\n",
       "      <td>429.00</td>\n",
       "      <td>32.00</td>\n",
       "      <td>577.00</td>\n",
       "      <td>28.00</td>\n",
       "      <td>3.00</td>\n",
       "    </tr>\n",
       "  </tbody>\n",
       "</table>\n",
       "</div>"
      ],
      "text/plain": [
       "       page_number  page_char_count  page_word_count  page_sentence_count  \\\n",
       "count      1208.00          1208.00          1208.00              1208.00   \n",
       "mean        562.50          1148.00           198.30                 9.97   \n",
       "std         348.86           560.38            95.76                 6.19   \n",
       "min         -41.00             0.00             1.00                 1.00   \n",
       "25%         260.75           762.00           134.00                 4.00   \n",
       "50%         562.50          1231.50           214.50                10.00   \n",
       "75%         864.25          1603.50           271.00                14.00   \n",
       "max        1166.00          2308.00           429.00                32.00   \n",
       "\n",
       "       page_token_count  page_sentence_count_spacy  num_chunks  \n",
       "count           1208.00                    1208.00     1208.00  \n",
       "mean             287.00                      10.32        1.53  \n",
       "std              140.10                       6.30        0.64  \n",
       "min                0.00                       0.00        0.00  \n",
       "25%              190.50                       5.00        1.00  \n",
       "50%              307.88                      10.00        1.00  \n",
       "75%              400.88                      15.00        2.00  \n",
       "max              577.00                      28.00        3.00  "
      ]
     },
     "metadata": {},
     "output_type": "display_data"
    }
   ],
   "source": [
    "for item in tqdm(pages_and_texts):\n",
    "    item[\"sentence_chunks\"]=split_list(item[\"sentences\"])\n",
    "    item[\"num_chunks\"] = len(item[\"sentence_chunks\"])\n",
    "    \n",
    "print(f\"after chunking:\")\n",
    "display(random.sample(pages_and_texts, k=1))\n",
    "df = pd.DataFrame(pages_and_texts)\n",
    "display(df.head())\n",
    "display(df.describe().round(2))"
   ]
  },
  {
   "cell_type": "markdown",
   "id": "186a7fda",
   "metadata": {},
   "source": [
    "### 1.2.2 groupby page[chunk]"
   ]
  },
  {
   "cell_type": "code",
   "execution_count": 20,
   "id": "1d04627d",
   "metadata": {},
   "outputs": [
    {
     "name": "stderr",
     "output_type": "stream",
     "text": [
      "100%|██████████| 1208/1208 [00:00<00:00, 40266.39it/s]\n"
     ]
    },
    {
     "data": {
      "text/plain": [
       "1843"
      ]
     },
     "execution_count": 20,
     "metadata": {},
     "output_type": "execute_result"
    }
   ],
   "source": [
    "\n",
    "import re\n",
    "\n",
    "# Split each chunk into its own item\n",
    "pages_and_chunks = []\n",
    "for item in tqdm(pages_and_texts):\n",
    "    for sentence_chunk in item[\"sentence_chunks\"]:\n",
    "        chunk_dict = {}\n",
    "        chunk_dict[\"page_number\"] = item[\"page_number\"]\n",
    "        \n",
    "        #Join the sentences together into a paragraph-like structure, i.e. join the list of sentence into one paragraph\n",
    "        # list to string\n",
    "        joined_sentences_chunk = \"\".join(sentence_chunk).replace(\"  \",\" \").strip()\n",
    "        joined_sentences_chunk = re.sub(r'\\.([A-Z])', r'. \\1', joined_sentences_chunk) # \".A\" to \". A\"\n",
    "\n",
    "        chunk_dict[\"sentence_chunk\"] = joined_sentences_chunk\n",
    "        \n",
    "        chunk_dict[\"chunk_char_count\"] = len(joined_sentences_chunk)\n",
    "        chunk_dict[\"chunk_word_count\"] = len([word for word in joined_sentences_chunk.split(\" \")])\n",
    "        chunk_dict[\"chunk_token_count\"] = len(joined_sentences_chunk)/4     # Rough estimate of tokens\n",
    "        \n",
    "        pages_and_chunks.append(chunk_dict)\n",
    "        \n",
    "len(pages_and_chunks)\n",
    "        "
   ]
  },
  {
   "cell_type": "code",
   "execution_count": 21,
   "id": "d93bdbf0",
   "metadata": {},
   "outputs": [
    {
     "data": {
      "text/html": [
       "<div>\n",
       "<style scoped>\n",
       "    .dataframe tbody tr th:only-of-type {\n",
       "        vertical-align: middle;\n",
       "    }\n",
       "\n",
       "    .dataframe tbody tr th {\n",
       "        vertical-align: top;\n",
       "    }\n",
       "\n",
       "    .dataframe thead th {\n",
       "        text-align: right;\n",
       "    }\n",
       "</style>\n",
       "<table border=\"1\" class=\"dataframe\">\n",
       "  <thead>\n",
       "    <tr style=\"text-align: right;\">\n",
       "      <th></th>\n",
       "      <th>page_number</th>\n",
       "      <th>chunk_char_count</th>\n",
       "      <th>chunk_word_count</th>\n",
       "      <th>chunk_token_count</th>\n",
       "    </tr>\n",
       "  </thead>\n",
       "  <tbody>\n",
       "    <tr>\n",
       "      <th>count</th>\n",
       "      <td>1843.00</td>\n",
       "      <td>1843.00</td>\n",
       "      <td>1843.00</td>\n",
       "      <td>1843.00</td>\n",
       "    </tr>\n",
       "    <tr>\n",
       "      <th>mean</th>\n",
       "      <td>583.38</td>\n",
       "      <td>734.44</td>\n",
       "      <td>112.33</td>\n",
       "      <td>183.61</td>\n",
       "    </tr>\n",
       "    <tr>\n",
       "      <th>std</th>\n",
       "      <td>347.79</td>\n",
       "      <td>447.54</td>\n",
       "      <td>71.22</td>\n",
       "      <td>111.89</td>\n",
       "    </tr>\n",
       "    <tr>\n",
       "      <th>min</th>\n",
       "      <td>-41.00</td>\n",
       "      <td>12.00</td>\n",
       "      <td>3.00</td>\n",
       "      <td>3.00</td>\n",
       "    </tr>\n",
       "    <tr>\n",
       "      <th>25%</th>\n",
       "      <td>280.50</td>\n",
       "      <td>315.00</td>\n",
       "      <td>44.00</td>\n",
       "      <td>78.75</td>\n",
       "    </tr>\n",
       "    <tr>\n",
       "      <th>50%</th>\n",
       "      <td>586.00</td>\n",
       "      <td>746.00</td>\n",
       "      <td>114.00</td>\n",
       "      <td>186.50</td>\n",
       "    </tr>\n",
       "    <tr>\n",
       "      <th>75%</th>\n",
       "      <td>890.00</td>\n",
       "      <td>1118.50</td>\n",
       "      <td>173.00</td>\n",
       "      <td>279.62</td>\n",
       "    </tr>\n",
       "    <tr>\n",
       "      <th>max</th>\n",
       "      <td>1166.00</td>\n",
       "      <td>1831.00</td>\n",
       "      <td>297.00</td>\n",
       "      <td>457.75</td>\n",
       "    </tr>\n",
       "  </tbody>\n",
       "</table>\n",
       "</div>"
      ],
      "text/plain": [
       "       page_number  chunk_char_count  chunk_word_count  chunk_token_count\n",
       "count      1843.00           1843.00           1843.00            1843.00\n",
       "mean        583.38            734.44            112.33             183.61\n",
       "std         347.79            447.54             71.22             111.89\n",
       "min         -41.00             12.00              3.00               3.00\n",
       "25%         280.50            315.00             44.00              78.75\n",
       "50%         586.00            746.00            114.00             186.50\n",
       "75%         890.00           1118.50            173.00             279.62\n",
       "max        1166.00           1831.00            297.00             457.75"
      ]
     },
     "execution_count": 21,
     "metadata": {},
     "output_type": "execute_result"
    }
   ],
   "source": [
    "df= pd.DataFrame(pages_and_chunks)\n",
    "df.head()\n",
    "df.describe().round(2)"
   ]
  },
  {
   "cell_type": "code",
   "execution_count": 26,
   "id": "e9dbd2e2",
   "metadata": {},
   "outputs": [
    {
     "name": "stdout",
     "output_type": "stream",
     "text": [
      "chunk token: 28.75 ||sentence chunk: Image by FDA/ Changes to the Nutrition Facts Label Figure 12.5 Food Serving Sizes 728 | Discovering Nutrition Facts\n",
      "chunk token: 24.75 ||sentence chunk: http://www.ajcn.org/content/87/1/64.long. Accessed September 22, 2017. 554 | Water-Soluble Vitamins\n",
      "chunk token: 25.5 ||sentence chunk: http://www.ajcn.org/cgi/ pmidlookup?view=long&pmid=10197575. Accessed October 6, 2017. 640 | Magnesium\n",
      "chunk token: 16.5 ||sentence chunk: Table 4.6 Sweeteners Carbohydrates and Personal Diet Choices | 281\n",
      "chunk token: 12.75 ||sentence chunk: PART VIII CHAPTER 8. ENERGY Chapter 8. Energy | 451\n"
     ]
    }
   ],
   "source": [
    "min_token_length = 30\n",
    "## almost all of the chunks with under 30 tokens are not useful\n",
    "for row in df[df[\"chunk_token_count\"]< min_token_length].sample(5).iterrows():\n",
    "    print(f\"chunk token: {row[1]['chunk_token_count']} ||sentence chunk: {row[1]['sentence_chunk']}\")"
   ]
  },
  {
   "cell_type": "markdown",
   "id": "53ddceae",
   "metadata": {},
   "source": [
    "### 1.2.3 filter out the chunks with under 30 tokens"
   ]
  },
  {
   "cell_type": "code",
   "execution_count": 27,
   "id": "243ca8ba",
   "metadata": {},
   "outputs": [
    {
     "data": {
      "text/plain": [
       "[{'page_number': -39,\n",
       "  'sentence_chunk': 'Human Nutrition: 2020 Edition UNIVERSITY OF HAWAI‘I AT MĀNOA FOOD SCIENCE AND HUMAN NUTRITION PROGRAM ALAN TITCHENAL, SKYLAR HARA, NOEMI ARCEO CAACBAY, WILLIAM MEINKE-LAU, YA-YUN YANG, MARIE KAINOA FIALKOWSKI REVILLA, JENNIFER DRAPER, GEMADY LANGFELDER, CHERYL GIBBY, CHYNA NICOLE CHUN, AND ALLISON CALABRESE',\n",
       "  'chunk_char_count': 308,\n",
       "  'chunk_word_count': 42,\n",
       "  'chunk_token_count': 77.0},\n",
       " {'page_number': -38,\n",
       "  'sentence_chunk': 'Human Nutrition: 2020 Edition by University of Hawai‘i at Mānoa Food Science and Human Nutrition Program is licensed under a Creative Commons Attribution 4.0 International License, except where otherwise noted.',\n",
       "  'chunk_char_count': 210,\n",
       "  'chunk_word_count': 30,\n",
       "  'chunk_token_count': 52.5}]"
      ]
     },
     "metadata": {},
     "output_type": "display_data"
    },
    {
     "data": {
      "text/plain": [
       "[{'page_number': 1009,\n",
       "  'sentence_chunk': 'PCBs, or polychlorinated biphenyls, are man-made organic compounds that consists of carbon, hydrogen and chlorine. Due to their non-flammability, chemically stable, and high boiling points PCBs were manufactured and used commercially from 1929 until 1979 when it was banned. Like methylmercury, higher concentrations of this contaminant are found in predatory fish. Health effects include complications in physical and neurological development in children, and this compound is potentially a carcinogen. PCB contamination also can affect the immune, reproductive, nervous, and endocrine systems.9 Learning Activities Technology Note: The second edition of the Human Nutrition Open Educational Resource (OER) textbook features interactive learning activities.\\xa0 These activities are Ministry of the Environment, Government of Japan.http://www.env.go.jp/en/chemi/hs/ minamata2002/. Published 2002. Accessed December 21, 2011. 9.\\xa0Learn About Polychlorinated Biphenyls. (2017). US Environmental Protection Agency.',\n",
       "  'chunk_char_count': 1008,\n",
       "  'chunk_word_count': 127,\n",
       "  'chunk_token_count': 252.0}]"
      ]
     },
     "execution_count": 27,
     "metadata": {},
     "output_type": "execute_result"
    }
   ],
   "source": [
    "\n",
    "pages_and_chunks_over_min_token_length = df[df[\"chunk_token_count\"] >= min_token_length].to_dict(orient=\"records\")\n",
    "display(pages_and_chunks_over_min_token_length[:2])\n",
    "random.sample(pages_and_chunks_over_min_token_length, k=1)"
   ]
  },
  {
   "cell_type": "code",
   "execution_count": null,
   "id": "7706fa89",
   "metadata": {},
   "outputs": [],
   "source": []
  },
  {
   "cell_type": "markdown",
   "id": "cc005a56",
   "metadata": {},
   "source": [
    "## 1.3 Embedding the sentence"
   ]
  },
  {
   "cell_type": "markdown",
   "id": "f59f515e",
   "metadata": {},
   "source": [
    "#### 1.3.1 Embedding model download "
   ]
  },
  {
   "cell_type": "code",
   "execution_count": 28,
   "id": "58083abb",
   "metadata": {},
   "outputs": [],
   "source": [
    "import numpy as np\n",
    "from sentence_transformers import SentenceTransformer\n",
    "\n",
    "embedding_model = SentenceTransformer(model_name_or_path= \"all-mpnet-base-v2\", device=\"cpu\")\n"
   ]
  },
  {
   "cell_type": "code",
   "execution_count": 29,
   "id": "126a34f2",
   "metadata": {},
   "outputs": [
    {
     "name": "stdout",
     "output_type": "stream",
     "text": [
      "Sentence: This is a sentence.\n",
      "Embedding(first 5): [ 0.04461046 -0.01864081 -0.00090315  0.02639336 -0.0418851 ]\n",
      "Embedding shape: (768,)\n",
      "Sentence: This is another one.\n",
      "Embedding(first 5): [ 0.02019235  0.0298154   0.00167827 -0.04361509 -0.03454699]\n",
      "Embedding shape: (768,)\n",
      "Sentence: And this is the last one.\n",
      "Embedding(first 5): [ 0.01193439  0.03599297 -0.02380103 -0.0224243   0.02393362]\n",
      "Embedding shape: (768,)\n"
     ]
    }
   ],
   "source": [
    "\n",
    "sentences = [\"This is a sentence.\", \"This is another one.\", \"And this is the last one.\"]\n",
    "\n",
    "embeddings = embedding_model.encode(sentences)\n",
    "embeddings_dict = dict(zip(sentences, embeddings))\n",
    "\n",
    "for sentence, embedding in embeddings_dict.items():\n",
    "    print(f\"Sentence: {sentence}\")\n",
    "    print(f\"Embedding(first 5): {embedding[:5]}\")\n",
    "    print(f\"Embedding shape: {embedding.shape}\")"
   ]
  },
  {
   "cell_type": "code",
   "execution_count": 30,
   "id": "52a97500",
   "metadata": {},
   "outputs": [
    {
     "data": {
      "text/plain": [
       "(768,)"
      ]
     },
     "execution_count": 30,
     "metadata": {},
     "output_type": "execute_result"
    }
   ],
   "source": [
    "embeddings[0].shape"
   ]
  },
  {
   "cell_type": "markdown",
   "id": "237bc5a4",
   "metadata": {},
   "source": [
    "#### 1.3.2 Embedding chunks one by one with using CPU"
   ]
  },
  {
   "cell_type": "code",
   "execution_count": 31,
   "id": "b15bb55b",
   "metadata": {},
   "outputs": [
    {
     "name": "stderr",
     "output_type": "stream",
     "text": [
      "100%|██████████| 1680/1680 [03:07<00:00,  8.95it/s]"
     ]
    },
    {
     "name": "stdout",
     "output_type": "stream",
     "text": [
      "CPU times: user 4min 13s, sys: 44.4 s, total: 4min 57s \n",
      " Wall time: 3min 30s\n"
     ]
    },
    {
     "name": "stderr",
     "output_type": "stream",
     "text": [
      "\n"
     ]
    }
   ],
   "source": [
    "#%%time \n",
    "\n",
    "cpu_run = True\n",
    "\n",
    "if cpu_run:\n",
    "    embedding_model.to(\"cpu\")\n",
    "\n",
    "    for item in tqdm(pages_and_chunks_over_min_token_length):\n",
    "        item[\"embedding\"] = embedding_model.encode(item[\"sentence_chunk\"])\n",
    "        item[\"embedding_shape\"] = item[\"embedding\"].shape\n",
    "    \n",
    "print(\"CPU times: user 4min 13s, sys: 44.4 s, total: 4min 57s \\n Wall time: 3min 30s\")## on MacBook Pro M2 Pro 16GB RAM\n"
   ]
  },
  {
   "cell_type": "code",
   "execution_count": null,
   "id": "02c5d48f",
   "metadata": {},
   "outputs": [
    {
     "name": "stderr",
     "output_type": "stream",
     "text": [
      "100%|██████████| 1680/1680 [00:26<00:00, 63.76it/s]\n"
     ]
    }
   ],
   "source": [
    "#%%time \n",
    "##with GPU\n",
    "cuda_run = True\n",
    "\n",
    "if cuda_run:\n",
    "    embedding_model.to(\"cuda\")\n",
    "\n",
    "    for item in tqdm(pages_and_chunks_over_min_token_length):\n",
    "        item[\"embedding\"] = embedding_model.encode(item[\"sentence_chunk\"])\n",
    "        item[\"embedding_shape\"] = item[\"embedding\"].shape\n",
    "\n"
   ]
  },
  {
   "cell_type": "markdown",
   "id": "6bc723d7",
   "metadata": {},
   "source": [
    "\n",
    "#### 1.3.3 Save embeddings to file ( Don't run it if the embeddings is not ran above)\n"
   ]
  },
  {
   "cell_type": "code",
   "execution_count": 33,
   "id": "4a6585e0",
   "metadata": {},
   "outputs": [],
   "source": [
    "text_chunks_embeddings_df = pd.DataFrame(pages_and_chunks_over_min_token_length)\n",
    "embeddings_df_save_path = \"text_chunks_embeddings_df.csv\"\n",
    "text_chunks_embeddings_df.to_csv(embeddings_df_save_path, index=False)\n"
   ]
  },
  {
   "cell_type": "code",
   "execution_count": 34,
   "id": "ff24b784",
   "metadata": {},
   "outputs": [
    {
     "data": {
      "text/html": [
       "<div>\n",
       "<style scoped>\n",
       "    .dataframe tbody tr th:only-of-type {\n",
       "        vertical-align: middle;\n",
       "    }\n",
       "\n",
       "    .dataframe tbody tr th {\n",
       "        vertical-align: top;\n",
       "    }\n",
       "\n",
       "    .dataframe thead th {\n",
       "        text-align: right;\n",
       "    }\n",
       "</style>\n",
       "<table border=\"1\" class=\"dataframe\">\n",
       "  <thead>\n",
       "    <tr style=\"text-align: right;\">\n",
       "      <th></th>\n",
       "      <th>page_number</th>\n",
       "      <th>sentence_chunk</th>\n",
       "      <th>chunk_char_count</th>\n",
       "      <th>chunk_word_count</th>\n",
       "      <th>chunk_token_count</th>\n",
       "      <th>embedding</th>\n",
       "      <th>embedding_shape</th>\n",
       "    </tr>\n",
       "  </thead>\n",
       "  <tbody>\n",
       "    <tr>\n",
       "      <th>0</th>\n",
       "      <td>-39</td>\n",
       "      <td>Human Nutrition: 2020 Edition UNIVERSITY OF HA...</td>\n",
       "      <td>308</td>\n",
       "      <td>42</td>\n",
       "      <td>77.00</td>\n",
       "      <td>[ 6.74242675e-02  9.02281329e-02 -5.09549491e-...</td>\n",
       "      <td>(768,)</td>\n",
       "    </tr>\n",
       "    <tr>\n",
       "      <th>1</th>\n",
       "      <td>-38</td>\n",
       "      <td>Human Nutrition: 2020 Edition by University of...</td>\n",
       "      <td>210</td>\n",
       "      <td>30</td>\n",
       "      <td>52.50</td>\n",
       "      <td>[ 5.52156270e-02  5.92139587e-02 -1.66167449e-...</td>\n",
       "      <td>(768,)</td>\n",
       "    </tr>\n",
       "    <tr>\n",
       "      <th>2</th>\n",
       "      <td>-37</td>\n",
       "      <td>Contents Preface University of Hawai‘i at Māno...</td>\n",
       "      <td>766</td>\n",
       "      <td>114</td>\n",
       "      <td>191.50</td>\n",
       "      <td>[ 2.79801972e-02  3.39813679e-02 -2.06426457e-...</td>\n",
       "      <td>(768,)</td>\n",
       "    </tr>\n",
       "    <tr>\n",
       "      <th>3</th>\n",
       "      <td>-36</td>\n",
       "      <td>Lifestyles and Nutrition University of Hawai‘i...</td>\n",
       "      <td>941</td>\n",
       "      <td>142</td>\n",
       "      <td>235.25</td>\n",
       "      <td>[ 6.82566985e-02  3.81275043e-02 -8.46854504e-...</td>\n",
       "      <td>(768,)</td>\n",
       "    </tr>\n",
       "    <tr>\n",
       "      <th>4</th>\n",
       "      <td>-35</td>\n",
       "      <td>The Cardiovascular System University of Hawai‘...</td>\n",
       "      <td>998</td>\n",
       "      <td>152</td>\n",
       "      <td>249.50</td>\n",
       "      <td>[ 3.30264494e-02 -8.49768892e-03  9.57159698e-...</td>\n",
       "      <td>(768,)</td>\n",
       "    </tr>\n",
       "  </tbody>\n",
       "</table>\n",
       "</div>"
      ],
      "text/plain": [
       "   page_number                                     sentence_chunk  \\\n",
       "0          -39  Human Nutrition: 2020 Edition UNIVERSITY OF HA...   \n",
       "1          -38  Human Nutrition: 2020 Edition by University of...   \n",
       "2          -37  Contents Preface University of Hawai‘i at Māno...   \n",
       "3          -36  Lifestyles and Nutrition University of Hawai‘i...   \n",
       "4          -35  The Cardiovascular System University of Hawai‘...   \n",
       "\n",
       "   chunk_char_count  chunk_word_count  chunk_token_count  \\\n",
       "0               308                42              77.00   \n",
       "1               210                30              52.50   \n",
       "2               766               114             191.50   \n",
       "3               941               142             235.25   \n",
       "4               998               152             249.50   \n",
       "\n",
       "                                           embedding embedding_shape  \n",
       "0  [ 6.74242675e-02  9.02281329e-02 -5.09549491e-...          (768,)  \n",
       "1  [ 5.52156270e-02  5.92139587e-02 -1.66167449e-...          (768,)  \n",
       "2  [ 2.79801972e-02  3.39813679e-02 -2.06426457e-...          (768,)  \n",
       "3  [ 6.82566985e-02  3.81275043e-02 -8.46854504e-...          (768,)  \n",
       "4  [ 3.30264494e-02 -8.49768892e-03  9.57159698e-...          (768,)  "
      ]
     },
     "execution_count": 34,
     "metadata": {},
     "output_type": "execute_result"
    }
   ],
   "source": [
    "# import saved file and view\n",
    "\n",
    "text_chunks_embeddings_df_load = pd.read_csv(embeddings_df_save_path)\n",
    "text_chunks_embeddings_df_load.head()\n",
    "\n",
    "\n",
    "# notice saving embeddings data to csv file may not be the best way, \n",
    "# in stead of doing that, vectors database is recommended when the data is large"
   ]
  },
  {
   "cell_type": "code",
   "execution_count": null,
   "id": "2834d2f2",
   "metadata": {},
   "outputs": [],
   "source": []
  },
  {
   "cell_type": "markdown",
   "id": "ad8fb0e9",
   "metadata": {},
   "source": [
    "# 2. RAG - Top relevant Search\n",
    "\n",
    "\n",
    "* the final function for this section is  **print_top_results(\"What is the role of carbohydrates in human nutrition?\" , show_result= False)** "
   ]
  },
  {
   "cell_type": "markdown",
   "id": "84c5365e",
   "metadata": {},
   "source": [
    "### 2.1 import data"
   ]
  },
  {
   "cell_type": "code",
   "execution_count": 1,
   "id": "e5c4ad58",
   "metadata": {},
   "outputs": [
    {
     "name": "stdout",
     "output_type": "stream",
     "text": [
      "Using device: cuda\n",
      "embeddings : tensor([[ 0.0674,  0.0902, -0.0051,  ..., -0.0221, -0.0232,  0.0126],\n",
      "        [ 0.0552,  0.0592, -0.0166,  ..., -0.0120, -0.0103,  0.0227],\n",
      "        [ 0.0280,  0.0340, -0.0206,  ..., -0.0054,  0.0213,  0.0313],\n",
      "        ...,\n",
      "        [ 0.0771,  0.0098, -0.0122,  ..., -0.0409, -0.0752, -0.0241],\n",
      "        [ 0.1030, -0.0165,  0.0083,  ..., -0.0574, -0.0283, -0.0295],\n",
      "        [ 0.0864, -0.0125, -0.0113,  ..., -0.0522, -0.0337, -0.0299]],\n",
      "       device='cuda:0', dtype=torch.float64)\n",
      "embeddings shape: torch.Size([1680, 768])\n"
     ]
    }
   ],
   "source": [
    "import random\n",
    "\n",
    "import torch\n",
    "import numpy as np\n",
    "import pandas as pd\n",
    "\n",
    "device = \"cuda\" if torch.cuda.is_available() else \"cpu\"\n",
    "print(f\"Using device: {device}\")\n",
    "\n",
    "# Load the embeddings from CSV file\n",
    "text_chunks_embeddings_df = pd.read_csv(\"text_chunks_embeddings_df.csv\")\n",
    "\n",
    "#Convert the embeddings from string representation to numpy arrays\n",
    "text_chunks_embeddings_df[\"embedding\"] = text_chunks_embeddings_df[\"embedding\"].apply(\n",
    "    lambda x: np.fromstring(x.strip(\"[]\"), sep=\" \").astype(np.float64)\n",
    ")\n",
    "\n",
    "embeddings = torch.tensor(np.stack(text_chunks_embeddings_df[\"embedding\"].tolist(), \n",
    "                    axis=0)).to(device)\n",
    "\n",
    "\n",
    "print(f\"embeddings : {embeddings}\")\n",
    "print(f\"embeddings shape: {embeddings.shape}\")\n"
   ]
  },
  {
   "cell_type": "code",
   "execution_count": null,
   "id": "135b3060",
   "metadata": {},
   "outputs": [],
   "source": []
  },
  {
   "cell_type": "code",
   "execution_count": 2,
   "id": "f1d83e9e",
   "metadata": {},
   "outputs": [],
   "source": [
    "#!pip uninstall -y numpy\n",
    "#!pip install numpy==1.26.4"
   ]
  },
  {
   "cell_type": "markdown",
   "id": "aed76518",
   "metadata": {},
   "source": [
    "### 2.2 loading embedding model and doing sematic search pipeline\n",
    "\n",
    "Doing sematic search pipeline with the following steps:\n",
    "1. define query\n",
    "2. embedding the query\n",
    "3. cosine similarity with text embeddings and query embedding\n",
    "4. find top k highest similarity from result"
   ]
  },
  {
   "cell_type": "code",
   "execution_count": 3,
   "id": "a3a713d1",
   "metadata": {},
   "outputs": [
    {
     "name": "stderr",
     "output_type": "stream",
     "text": [
      "c:\\RAG_study_project\\.venv-torch\\Lib\\site-packages\\tqdm\\auto.py:21: TqdmWarning: IProgress not found. Please update jupyter and ipywidgets. See https://ipywidgets.readthedocs.io/en/stable/user_install.html\n",
      "  from .autonotebook import tqdm as notebook_tqdm\n"
     ]
    }
   ],
   "source": [
    "from sentence_transformers import SentenceTransformer, util\n",
    "\n",
    "try:\n",
    "    if embedding_model is None:\n",
    "        # Load the embedding model\n",
    "        embedding_model = SentenceTransformer(model_name_or_path= \"all-mpnet-base-v2\", device=device)\n",
    "except NameError:\n",
    "    embedding_model = SentenceTransformer(model_name_or_path= \"all-mpnet-base-v2\", device=device)\n"
   ]
  },
  {
   "cell_type": "code",
   "execution_count": 4,
   "id": "fbdd6a8c",
   "metadata": {},
   "outputs": [
    {
     "name": "stdout",
     "output_type": "stream",
     "text": [
      "Enter query: What is the role of carbohydrates in human nutrition?\n",
      "Query embedding shape: torch.Size([768])\n"
     ]
    }
   ],
   "source": [
    "query = \"What is the role of carbohydrates in human nutrition?\"\n",
    "query_embedding = embedding_model.encode(query, device=device, convert_to_tensor=True).to(torch.float64)\n",
    "\n",
    "print(f\"Enter query: {query}\")\n",
    "print(f\"Query embedding shape: {query_embedding.shape}\")\n"
   ]
  },
  {
   "cell_type": "code",
   "execution_count": 5,
   "id": "c8eb5aea",
   "metadata": {},
   "outputs": [
    {
     "name": "stdout",
     "output_type": "stream",
     "text": [
      "torch.Size([1680])\n",
      "top 5 results: tensor([389, 381, 390, 347,  41], device='cuda:0')\n"
     ]
    }
   ],
   "source": [
    "# %%time\n",
    "\n",
    "k=5\n",
    "## Perform semantic search by dot product with no normalization\n",
    "\n",
    "dot_scores = util.dot_score(query_embedding, embeddings)[0]\n",
    "print(dot_scores.shape)\n",
    "\n",
    "top_k = torch.topk(dot_scores, k=k)\n",
    "print(f\"top {k} results: {top_k.indices}\")"
   ]
  },
  {
   "cell_type": "code",
   "execution_count": 6,
   "id": "62f47a36",
   "metadata": {},
   "outputs": [
    {
     "name": "stdout",
     "output_type": "stream",
     "text": [
      "_CudaDeviceProperties(name='NVIDIA GeForce RTX 4060', major=8, minor=9, total_memory=8187MB, multi_processor_count=24)\n",
      "CUDA available: True\n",
      "CUDA device: NVIDIA GeForce RTX 4060\n"
     ]
    }
   ],
   "source": [
    "## checking local memoery\n",
    "import torch\n",
    "if torch.cuda.is_available():\n",
    "    print(torch.cuda.get_device_properties(0))\n",
    "    print(f\"CUDA available: {torch.cuda.is_available()}\")\n",
    "    print(f\"CUDA device: {torch.cuda.get_device_name(0) if torch.cuda.is_available() else 'None'}\")"
   ]
  },
  {
   "cell_type": "markdown",
   "id": "54ea63d1",
   "metadata": {},
   "source": [
    "### 2.3 show the pages for the result with following steps:\n",
    "\n",
    "1. open the pdf in image\n",
    "2. show the image with matplotlib"
   ]
  },
  {
   "cell_type": "code",
   "execution_count": 9,
   "id": "557ee512",
   "metadata": {},
   "outputs": [],
   "source": [
    "#!pip install fitz\n",
    "#!pip install frontend"
   ]
  },
  {
   "cell_type": "code",
   "execution_count": 10,
   "id": "c44b6c66",
   "metadata": {},
   "outputs": [],
   "source": [
    "import fitz\n",
    "import matplotlib.pyplot as plt\n",
    "\n",
    "\n",
    "def pdf_img_show(num_page: int):\n",
    "\n",
    "    pdf_path = \"human-nutrution-text.pdf\"\n",
    "    doc = fitz.open(pdf_path)\n",
    "    page = doc.load_page(num_page+41)\n",
    "\n",
    "    img = page.get_pixmap(dpi=300)\n",
    "\n",
    "    doc.close()\n",
    "\n",
    "    img_array = np.frombuffer(img.samples_mv, dtype=np.uint8).reshape((img.h, img.w, img.n))\n",
    "    \n",
    "    plt.figure(figsize= (13,10))\n",
    "    plt.imshow(img_array)\n",
    "    plt.axis(\"off\")\n",
    "    plt.show()\n",
    "\n",
    "#pdf_img_show(50)\n"
   ]
  },
  {
   "cell_type": "code",
   "execution_count": null,
   "id": "a5f6ae50",
   "metadata": {},
   "outputs": [],
   "source": []
  },
  {
   "cell_type": "code",
   "execution_count": 11,
   "id": "3f6b89b7",
   "metadata": {},
   "outputs": [
    {
     "name": "stdout",
     "output_type": "stream",
     "text": [
      "Query : What is the role of carbohydrates in human nutrition?\n",
      "\n",
      "Top 1 relevant result (from page299): \n",
      "Without energy none of the other life processes are performed\n",
      " Although our bodies can synthesize glucose it comes at the cost of protein destruction\n",
      " As with all nutrients though, carbohydrates are to be consumed in moderation as having too much or too little in the diet may lead to health problems\n",
      " Learning Activities Technology Note: The second edition of the Human Nutrition Open Educational Resource (OER) textbook features interactive learning activities\n",
      "  These activities are available in the web-based textbook and not available in the downloadable versions (EPUB, Digital PDF, Print_PDF, or Open Document)\n",
      " 258 | The Functions of Carbohydrates in the Body\n",
      "\n",
      "\n",
      "\n",
      "Top 2 relevant result (from page294): \n",
      "The Functions of Carbohydrates in the Body UNIVERSITY OF HAWAI‘I AT MĀNOA FOOD SCIENCE AND HUMAN NUTRITION PROGRAM AND HUMAN NUTRITION PROGRAM There are five primary functions of carbohydrates in the human body\n",
      " They are energy production, energy storage, building macromolecules, sparing protein, and assisting in lipid metabolism\n",
      " Energy Production The primary role of carbohydrates is to supply energy to all cells in the body\n",
      " Many cells prefer glucose as a source of energy versus other compounds like fatty acids\n",
      " Some cells, such as red blood cells, are only able to produce cellular energy from glucose\n",
      " The brain is also highly sensitive to low blood-glucose levels because it uses only glucose to produce energy and function (unless under extreme starvation conditions)\n",
      " About 70 percent of the glucose entering the body from digestion is redistributed (by the liver) back into the blood for use by other tissues\n",
      " Cells that require energy remove the glucose from the blood with a transport protein in their membranes\n",
      " The energy from glucose comes from the chemical bonds between the carbon atoms\n",
      " Sunlight energy was required to produce these high-energy bonds in the process of photosynthesis\n",
      "\n",
      "\n",
      "\n",
      "\n",
      "Top 3 relevant result (from page300): \n",
      "Learning activities may be used across various mobile devices, however, for the best user experience it is strongly recommended that users complete these activities using a desktop or laptop computer and in Google Chrome\n",
      "   An interactive or media element has been excluded from this version of the text\n",
      " You can view it online here: http://pressbooks\n",
      "oer\n",
      "hawaii\n",
      "edu/ humannutrition2/?p=187   An interactive or media element has been excluded from this version of the text\n",
      " You can view it online here: http://pressbooks\n",
      "oer\n",
      "hawaii\n",
      "edu/ humannutrition2/?p=187 The Functions of Carbohydrates in the Body | 259\n",
      "\n",
      "\n",
      "\n",
      "Top 4 relevant result (from page271): \n",
      "• Describe the different types of simple and complex carbohydrates • Describe the process of carbohydrate digestion and absorption • Describe the functions of carbohydrates in the body • Describe the body’s carbohydrate needs and how personal choices can lead to health benefits or consequences Throughout history, carbohydrates have and continue to be a major source of people’s diets worldwide\n",
      " In ancient Hawai‘i the Hawaiians obtained the majority of their calories from carbohydrate rich plants like the ‘uala (sweet potato), ulu (breadfruit) and kalo (taro)\n",
      " For example, mashed kalo or poi was a staple to meals for Hawaiians\n",
      " Research suggests that almost 78 percent of the diet was made up of these fiber rich carbohydrate foods\n",
      "1 Carbohydrates are the perfect nutrient to meet your body’s nutritional needs\n",
      " They nourish your brain and nervous system, provide energy to all of your cells when within proper caloric limits, and help keep your body fit and lean\n",
      " Specifically, digestible carbohydrates provide bulk in foods, vitamins, and minerals, while 1\n",
      " Fujita R, Braun KL, Hughes CK\n",
      " (2004)\n",
      " The traditional Hawaiian diet: a review of the literature\n",
      " Pacific Health Dialogue, 11(2)\n",
      "\n",
      "\n",
      "\n",
      "\n",
      "Top 5 relevant result (from page45): \n",
      "Learning Objectives By the end of this chapter, you will be able to: • Describe basic concepts in nutrition • Describe factors that affect your nutritional needs • Describe the importance of research and scientific methods to understanding nutrition What are Nutrients? The foods we eat contain nutrients\n",
      " Nutrients are substances required by the body to perform its basic functions\n",
      " Nutrients must be obtained from our diet, since the human body does not synthesize or produce them\n",
      " Nutrients have one or more of three basic functions: they provide energy, contribute to body structure, and/or regulate chemical processes in the body\n",
      " These basic functions allow us to detect and respond to environmental surroundings, move, excrete wastes, respire (breathe), grow, and reproduce\n",
      " There are six classes of nutrients required for the body to function and maintain overall health\n",
      " These are carbohydrates, lipids, proteins, water, vitamins, and minerals\n",
      " Foods also contain non-nutrients that may be harmful (such as natural toxins common in plant foods and additives like some dyes and preservatives) or beneficial (such as antioxidants)\n",
      " 4 | Introduction\n",
      "\n",
      "\n",
      "\n",
      "Total token count: 1207.75\n",
      "Total word count: 742\n"
     ]
    }
   ],
   "source": [
    "# show the top k result in text\n",
    "top_k_embeddings = embeddings[top_k.indices]\n",
    "\n",
    "print(f\"Query : {query}\\n\")\n",
    "\n",
    "total_token_count = 0\n",
    "total_word_count = 0\n",
    "\n",
    "for i, idx in enumerate(top_k.indices):\n",
    "    page_number = text_chunks_embeddings_df[\"page_number\"].iloc[int(idx)]+41\n",
    "    print(f\"Top {i+1} relevant result (from page{page_number}): \")\n",
    "    \n",
    "    text_chunks = text_chunks_embeddings_df[\"sentence_chunk\"].iloc[int(idx)]\n",
    "    total_token_count += text_chunks_embeddings_df[\"chunk_token_count\"].iloc[int(idx)]\n",
    "    total_word_count += text_chunks_embeddings_df[\"chunk_word_count\"].iloc[int(idx)]\n",
    "    \n",
    "    for sentence in [ n for n in text_chunks.split(\".\")]:\n",
    "        print(sentence)\n",
    "    print(\"\\n\\n\")\n",
    "    \n",
    "print(f\"Total token count: {total_token_count}\")\n",
    "print(f\"Total word count: {total_word_count}\")"
   ]
  },
  {
   "cell_type": "code",
   "execution_count": 12,
   "id": "7a1a460c",
   "metadata": {},
   "outputs": [],
   "source": [
    "def retrival_search(query : str,\n",
    "             top_k : int = 5,\n",
    "             embeddings : torch.tensor = embeddings,\n",
    "             embedding_model : SentenceTransformer = embedding_model,\n",
    "             \n",
    "             device: str = device):\n",
    "    \n",
    "    #step 1: Turn query to embedding\n",
    "    query_embedding = embedding_model.encode(query, device=device, convert_to_tensor=True).to(torch.float64)\n",
    "    \n",
    "    #step 2: Find top k <query_embedding, embeddings>\n",
    "    dot_scores = util.dot_score(query_embedding, embeddings)[0]\n",
    "    top_k = torch.topk(dot_scores, k=top_k+1)\n",
    "    \n",
    "    #step 3: text_chunk_df[top_k.indices]\n",
    "    indices = top_k.indices\n",
    "    scores = top_k.values\n",
    "    \n",
    "    return indices, scores\n",
    "    "
   ]
  },
  {
   "cell_type": "code",
   "execution_count": 13,
   "id": "9625d5b9",
   "metadata": {},
   "outputs": [
    {
     "name": "stdout",
     "output_type": "stream",
     "text": [
      "CPU times: total: 31.2 ms\n",
      "Wall time: 9.1 ms\n"
     ]
    },
    {
     "data": {
      "text/plain": [
       "(tensor([389, 381, 390, 347,  41,  47], device='cuda:0'),\n",
       " tensor([0.7348, 0.7205, 0.7136, 0.6789, 0.6650, 0.6602], device='cuda:0',\n",
       "        dtype=torch.float64))"
      ]
     },
     "execution_count": 13,
     "metadata": {},
     "output_type": "execute_result"
    }
   ],
   "source": [
    "%%time\n",
    "retrival_search(query)"
   ]
  },
  {
   "cell_type": "markdown",
   "id": "b5ddd4aa",
   "metadata": {},
   "source": [
    "### 2.3 Funtionalization"
   ]
  },
  {
   "cell_type": "code",
   "execution_count": 14,
   "id": "8f3f6e0c",
   "metadata": {},
   "outputs": [],
   "source": [
    "import textwrap\n",
    "\n",
    "def print_top_results(query : str,        \n",
    "                      top_k : int = 5,\n",
    "                      embeddings : torch.tensor = embeddings,\n",
    "                      embedding_model : SentenceTransformer = embedding_model,\n",
    "                      text_chunk_df : pd.DataFrame = text_chunks_embeddings_df,\n",
    "                      show_result = True):\n",
    "    \n",
    "    ## find top k relevant text chunk\n",
    "    indices , scores = retrival_search(query, top_k, embeddings, embedding_model)\n",
    "    \n",
    "    top_k_relevant_text = [text_chunk_df[\"sentence_chunk\"].iloc[int(idx)] for idx in indices]\n",
    "    \n",
    "    if show_result:\n",
    "        print(f\"Query: {query}\\n\")\n",
    "        print(\"---\"*40)\n",
    "    \n",
    "    relevant_texts = list()\n",
    "    \n",
    "    for i, idx in enumerate(indices):\n",
    "        text = text_chunk_df[\"sentence_chunk\"].iloc[int(idx)]\n",
    "        relevant_texts.append(text)\n",
    "        page_number = int(text_chunks_embeddings_df[\"page_number\"].iloc[int(idx)])\n",
    "        \n",
    "        if show_result:\n",
    "            pdf_img_show(page_number)\n",
    "            print(f\"Top {i+1} relevant text\")\n",
    "            print(textwrap.fill(text, 80)+\"\\n\")\n",
    "            print(f\"Source page: {page_number}\")\n",
    "            print(\"---\"*40)\n",
    "        \n",
    "    return relevant_texts"
   ]
  },
  {
   "cell_type": "code",
   "execution_count": 15,
   "id": "680b77f5",
   "metadata": {},
   "outputs": [
    {
     "data": {
      "text/plain": [
       "['Without energy none of the other life processes are performed. Although our bodies can synthesize glucose it comes at the cost of protein destruction. As with all nutrients though, carbohydrates are to be consumed in moderation as having too much or too little in the diet may lead to health problems. Learning Activities Technology Note: The second edition of the Human Nutrition Open Educational Resource (OER) textbook features interactive learning activities.\\xa0 These activities are available in the web-based textbook and not available in the downloadable versions (EPUB, Digital PDF, Print_PDF, or Open Document). 258 | The Functions of Carbohydrates in the Body',\n",
       " 'The Functions of Carbohydrates in the Body UNIVERSITY OF HAWAI‘I AT MĀNOA FOOD SCIENCE AND HUMAN NUTRITION PROGRAM AND HUMAN NUTRITION PROGRAM There are five primary functions of carbohydrates in the human body. They are energy production, energy storage, building macromolecules, sparing protein, and assisting in lipid metabolism. Energy Production The primary role of carbohydrates is to supply energy to all cells in the body. Many cells prefer glucose as a source of energy versus other compounds like fatty acids. Some cells, such as red blood cells, are only able to produce cellular energy from glucose. The brain is also highly sensitive to low blood-glucose levels because it uses only glucose to produce energy and function (unless under extreme starvation conditions). About 70 percent of the glucose entering the body from digestion is redistributed (by the liver) back into the blood for use by other tissues. Cells that require energy remove the glucose from the blood with a transport protein in their membranes. The energy from glucose comes from the chemical bonds between the carbon atoms. Sunlight energy was required to produce these high-energy bonds in the process of photosynthesis.',\n",
       " 'Learning activities may be used across various mobile devices, however, for the best user experience it is strongly recommended that users complete these activities using a desktop or laptop computer and in Google Chrome. \\xa0 An interactive or media element has been excluded from this version of the text. You can view it online here: http://pressbooks.oer.hawaii.edu/ humannutrition2/?p=187 \\xa0 An interactive or media element has been excluded from this version of the text. You can view it online here: http://pressbooks.oer.hawaii.edu/ humannutrition2/?p=187 The Functions of Carbohydrates in the Body | 259',\n",
       " '• Describe the different types of simple and complex carbohydrates • Describe the process of carbohydrate digestion and absorption • Describe the functions of carbohydrates in the body • Describe the body’s carbohydrate needs and how personal choices can lead to health benefits or consequences Throughout history, carbohydrates have and continue to be a major source of people’s diets worldwide. In ancient Hawai‘i the Hawaiians obtained the majority of their calories from carbohydrate rich plants like the ‘uala (sweet potato), ulu (breadfruit) and kalo (taro). For example, mashed kalo or poi was a staple to meals for Hawaiians. Research suggests that almost 78 percent of the diet was made up of these fiber rich carbohydrate foods.1 Carbohydrates are the perfect nutrient to meet your body’s nutritional needs. They nourish your brain and nervous system, provide energy to all of your cells when within proper caloric limits, and help keep your body fit and lean. Specifically, digestible carbohydrates provide bulk in foods, vitamins, and minerals, while 1.\\xa0Fujita R, Braun KL, Hughes CK. (2004). The traditional Hawaiian diet: a review of the literature. Pacific Health Dialogue, 11(2).',\n",
       " 'Learning Objectives By the end of this chapter, you will be able to: • Describe basic concepts in nutrition • Describe factors that affect your nutritional needs • Describe the importance of research and scientific methods to understanding nutrition What are Nutrients? The foods we eat contain nutrients. Nutrients are substances required by the body to perform its basic functions. Nutrients must be obtained from our diet, since the human body does not synthesize or produce them. Nutrients have one or more of three basic functions: they provide energy, contribute to body structure, and/or regulate chemical processes in the body. These basic functions allow us to detect and respond to environmental surroundings, move, excrete wastes, respire (breathe), grow, and reproduce. There are six classes of nutrients required for the body to function and maintain overall health. These are carbohydrates, lipids, proteins, water, vitamins, and minerals. Foods also contain non-nutrients that may be harmful (such as natural toxins common in plant foods and additives like some dyes and preservatives) or beneficial (such as antioxidants). 4 | Introduction',\n",
       " 'Water There is one other nutrient that we must have in large quantities: water. Water does not contain carbon, but is composed of two hydrogens and one oxygen per molecule of water. More than 60 percent of your total body weight is water. Without it, nothing could be transported in or out of the body, chemical reactions would not occur, organs would not be cushioned, and body temperature would fluctuate widely. On average, an adult consumes just over two liters of water per day from food and drink combined. Since water is so critical for life’s basic processes, the amount of water input and output is supremely important, a topic we will explore in detail in Chapter 4. Micronutrients Micronutrients are nutrients required by the body in lesser amounts, but are still essential for carrying out bodily functions. Micronutrients include all the essential minerals and vitamins. There are sixteen essential minerals and thirteen vitamins (See Table 1.1 “Minerals and Their Major Functions” and Table 1.2 “Vitamins and Their Major Functions” for a complete list and their major functions). In contrast to carbohydrates, lipids, and proteins, micronutrients are not sources of energy (calories), but they assist in the process as cofactors or components of enzymes (i.e., coenzymes).']"
      ]
     },
     "execution_count": 15,
     "metadata": {},
     "output_type": "execute_result"
    }
   ],
   "source": [
    "# show_result= False to avoid showing the result\n",
    "\n",
    "print_top_results(\"What is the role of carbohydrates in human nutrition?\" , show_result= False)"
   ]
  },
  {
   "cell_type": "markdown",
   "id": "f3967a13",
   "metadata": {},
   "source": [
    "# 3. RAG - Generative LLM\n",
    "\n",
    "* check how much VRAM do you have available"
   ]
  },
  {
   "cell_type": "markdown",
   "id": "22ca1fdd",
   "metadata": {},
   "source": [
    "Create cli token before download LLM \n",
    "\n",
    "Links:\n",
    "1. https://huggingface.co/docs/huggingface_hub/en/guides/cli\n",
    "2. https://huggingface.co/settings/tokens"
   ]
  },
  {
   "cell_type": "code",
   "execution_count": null,
   "id": "0871a964",
   "metadata": {},
   "outputs": [
    {
     "name": "stdout",
     "output_type": "stream",
     "text": [
      "2.3.1+cu121\n",
      "NVIDIA GeForce RTX 4060\n",
      "Total GPU memory: 8.00 GB\n"
     ]
    }
   ],
   "source": [
    "import torch\n",
    "\n",
    "print(torch.__version__)\n",
    "print(torch.cuda.get_device_name(0) if torch.cuda.is_available() else 'None')\n",
    "\n",
    "gpu_memory_bytes = torch.cuda.get_device_properties(0).total_memory\n",
    "gpu_memory_gb = gpu_memory_bytes / (1024 ** 3)\n",
    "print(f\"Total GPU memory: {gpu_memory_gb:.2f} GB\")\n",
    "\n"
   ]
  },
  {
   "cell_type": "code",
   "execution_count": 19,
   "id": "01f4e85a",
   "metadata": {},
   "outputs": [
    {
     "name": "stdout",
     "output_type": "stream",
     "text": [
      "GPU memory: 7.99560546875 | Recommended model: Gemma 2B in 4-bit precision.\n",
      "use_quantization_config set to: True\n",
      "model_id set to: google/gemma-2b-it\n"
     ]
    }
   ],
   "source": [
    "# Note: the following is Gemma focused, however, there are more and more LLMs of the 2B and 7B size appearing for local use.\n",
    "if gpu_memory_gb < 5.1:\n",
    "    print(f\"Your available GPU memory is {gpu_memory_gb}GB, you may not have enough memory to run a Gemma LLM locally without quantization.\")\n",
    "elif gpu_memory_gb < 8.1:\n",
    "    print(f\"GPU memory: {gpu_memory_gb} | Recommended model: Gemma 2B in 4-bit precision.\")\n",
    "    use_quantization_config = True \n",
    "    model_id = \"google/gemma-2b-it\"\n",
    "elif gpu_memory_gb < 19.0:\n",
    "    print(f\"GPU memory: {gpu_memory_gb} | Recommended model: Gemma 2B in float16 or Gemma 7B in 4-bit precision.\")\n",
    "    use_quantization_config = False \n",
    "    model_id = \"google/gemma-2b-it\"\n",
    "elif gpu_memory_gb > 19.0:\n",
    "    print(f\"GPU memory: {gpu_memory_gb} | Recommend model: Gemma 7B in 4-bit or float16 precision.\")\n",
    "    use_quantization_config = False \n",
    "    model_id = \"google/gemma-7b-it\"\n",
    "\n",
    "print(f\"use_quantization_config set to: {use_quantization_config}\")\n",
    "print(f\"model_id set to: {model_id}\")"
   ]
  },
  {
   "cell_type": "code",
   "execution_count": null,
   "id": "6487b2ca",
   "metadata": {},
   "outputs": [
    {
     "name": "stdout",
     "output_type": "stream",
     "text": [
      "Attention implementation set to: flash_attention_2\n",
      "Loading model google/gemma-2b-it ...\n",
      "Loading tokenizer for google/gemma-2b-it ...\n",
      "Loading model for google/gemma-2b-it ...\n"
     ]
    },
    {
     "name": "stderr",
     "output_type": "stream",
     "text": [
      "Loading checkpoint shards: 100%|██████████| 2/2 [00:08<00:00,  4.29s/it]\n"
     ]
    }
   ],
   "source": [
    "from transformers import AutoModelForCausalLM, AutoTokenizer\n",
    "from transformers.utils import is_flash_attn_2_available\n",
    "\n",
    "# 1. Create a quantization \n",
    "#!pip install bitsandbytes accelerate\n",
    "from transformers import BitsAndBytesConfig\n",
    "quantization_config = BitsAndBytesConfig(load_in_4bit = True,\n",
    "                                         bnb_4bit_compute_dtype = torch.float16)\n",
    "\n",
    "if(is_flash_attn_2_available) and (torch.cuda.get_device_capability(0)[0] >= 8):\n",
    "    attn_implementation = \"flash_attention_2\"\n",
    "\n",
    "else:\n",
    "    attn_implementation = \"sdpa\"   ## scaled dot-product attention \n",
    "print(f\"Attention implementation set to: {attn_implementation}\")\n",
    "\n",
    "# 2. Loading LLM\n",
    "# \n",
    "# model_id = \"google/gemma-2b-it\"\n",
    "model_id = model_id  \n",
    "print(  f\"Loading model {model_id} ...\")\n",
    "\n",
    "print(f\"Loading tokenizer for {model_id} ...\")\n",
    "tokenizer = AutoTokenizer.from_pretrained(pretrained_model_name_or_path = model_id)\n",
    "\n",
    "\n",
    "print(f\"Loading model for {model_id} ...\")\n",
    "llm_model = AutoModelForCausalLM.from_pretrained(pretrained_model_name_or_path = model_id, \n",
    "                                          torch_dtype = torch.float16,\n",
    "                                          low_cpu_mem_usage=False,\n",
    "                                          #attn_implementation = attn_implementation,    ##very difficult to get flash attention work\n",
    "                                          quantization_config = quantization_config if use_quantization_config else None)\n",
    "\n",
    "if not use_quantization_config:\n",
    "    llm_model.to(\"cuda\")\n",
    "    "
   ]
  },
  {
   "cell_type": "code",
   "execution_count": 65,
   "id": "f4a3ad6f",
   "metadata": {},
   "outputs": [
    {
     "name": "stdout",
     "output_type": "stream",
     "text": [
      "1515268096\n",
      "{'model_mem_bytes': 2039632384, 'model_mem_gb': 1.9}\n"
     ]
    }
   ],
   "source": [
    "## get the model parameters\n",
    "\n",
    "def get_model_params(model: torch.nn.Module):\n",
    "    return sum([param.numel() for  param in model.parameters()])\n",
    "\n",
    "print(get_model_params(llm_model))\n",
    "\n",
    "def get_model_mem_size(model: torch.nn.Module):\n",
    "    mem__params = sum([param.numel() * param.element_size() for param in model.parameters()])\n",
    "    mem_bufs = sum([buf.numel() * buf.element_size() for buf in model.buffers()])\n",
    "    total_mem_bytes = mem__params + mem_bufs      \n",
    "\n",
    "    total_mem_gb = total_mem_bytes / (1024 ** 3)\n",
    "\n",
    "    return {\"model_mem_bytes\": round(total_mem_bytes, 2),\n",
    "            \"model_mem_gb\": round(total_mem_gb, 2)}\n",
    "\n",
    "print(get_model_mem_size(llm_model))"
   ]
  },
  {
   "cell_type": "code",
   "execution_count": 24,
   "id": "8c46b2f3",
   "metadata": {},
   "outputs": [
    {
     "name": "stdout",
     "output_type": "stream",
     "text": [
      "input_text: What is the role of carbohydrates in human nutrition?\n",
      "\n",
      " Prompt (formatted): \n",
      "<bos><start_of_turn>user\n",
      "What is the role of carbohydrates in human nutrition?<end_of_turn>\n",
      "<start_of_turn>model\n",
      "\n"
     ]
    }
   ],
   "source": [
    "input_text = \"What is the role of carbohydrates in human nutrition?\" \n",
    "\n",
    "print(f\"input_text: {input_text}\")\n",
    "\n",
    "###########################################################################################################\n",
    "dialogue_template = [{\"role\": \"user\", \"content\": input_text}]\n",
    "\n",
    "prompt = tokenizer.apply_chat_template(dialogue_template, tokenize=False, add_generation_prompt=True)\n",
    "###########################################################################################################\n",
    "\n",
    "print(f\"\\n Prompt (formatted): \\n{prompt}\")"
   ]
  },
  {
   "cell_type": "code",
   "execution_count": 26,
   "id": "d4f23851",
   "metadata": {},
   "outputs": [
    {
     "name": "stdout",
     "output_type": "stream",
     "text": [
      "input_text: What is the role of carbohydrates in human nutrition?\n",
      "Model output (tokens): \n",
      " tensor([     2,      2,    106,   1645,    108,   1841,    603,    573,   4731,\n",
      "           576,  72780,    575,   3515,  24539, 235336,    107,    108,    106,\n",
      "          2516,    108, 156615,  56227,    708,    974,    576,    573,   2149,\n",
      "        186809, 184592, 235269,   3731,    675,   9646,    578,   6181, 235265,\n",
      "          2365,    708,    476,   5766,  93277,  18588,    576,   8933, 235269,\n",
      "         20303, 235269,    578,  16175,  25204, 235265, 110165,  56227,   3658,\n",
      "          4134,    604,    573,   2971, 235303, 235256,   5999,    578,  29703,\n",
      "        235265,   2365,    708,    573,   2971, 235303, 235256,   1872,   4303,\n",
      "           576,   4134, 235269,    578,    984,    708,   1942,    575,    476,\n",
      "          8080,    576,  16512, 235269,   3359,  16803, 235269,  19574, 235269,\n",
      "         29907, 235269,    578,  31062,   3773, 235265,    109,    688,   4858,\n",
      "           708,   1009,    576,    573,   2621,  16065,    576,  72780,    575,\n",
      "          3515,  24539,  66058,    109, 235287,   5231,  23920,   4584,  66058,\n",
      "        110165,  56227,    708,    573,   2971, 235303, 235256,   1872,   4303,\n",
      "           576,   4134, 235265,   2365,    708,  10127,   1706,   1280,  30859,\n",
      "        235269,    948,    603,   1492,   1671,    731,   5999,    604,   4134,\n",
      "        235265,    108, 235287,   5231,  25251,    578,  12158,  29703,  66058,\n",
      "        110165,  56227,    708,   1671,    577,   2500,    578,  12158,  29703,\n",
      "        235269,   1582,    685,  22488, 235269,  22241, 235269,    578,  82426,\n",
      "        235265,    108, 235287,   5231,  28722,    576,  37340,  66058, 110165,\n",
      "         56227,    708,    573,   1872,   4303,    576,   9719,    604,    573,\n",
      "          5999,    575,    573,   2971, 235265, 123877,    603,    476,  42696,\n",
      "           674,    603,   7784,    731,    573, 106451,    577,   1707,  41748,\n",
      "          5330,   9347,   5902, 235265,    108, 235287,   5231,  89565,    576,\n",
      "          5330,   9347,   5902,  66058, 110165,  56227,   1707,    577,  41748,\n",
      "          5330,   9347,   5902,    731,  71597,   1706,    573,  25786,    576,\n",
      "         30859,   1280,    573, 165788, 235265,    108, 235287,   5231,  12190,\n",
      "           576,  24091,   1411,  66058, 110165,  56227,   3658,    573,   4134,\n",
      "          4880,    604,    573,  24091,   1812,    577,   1411,  10338, 235265,\n",
      "           108, 235287,   5231,  28722,    576,  20149,  66058, 110165,  56227,\n",
      "           708,    476,   1426,   4303,    576,  20149], device='cuda:0')\n",
      "\n",
      "Model output (decoded): \n",
      " <bos><bos><start_of_turn>user\n",
      "What is the role of carbohydrates in human nutrition?<end_of_turn>\n",
      "<start_of_turn>model\n",
      "Carbohydrates are one of the three macronutrients, along with protein and fat. They are a complex carbohydrate composed of carbon, hydrogen, and oxygen atoms. Carbohydrates provide energy for the body's cells and tissues. They are the body's main source of energy, and they are found in a variety of foods, including fruits, vegetables, grains, and dairy products.\n",
      "\n",
      "**Here are some of the key roles of carbohydrates in human nutrition:**\n",
      "\n",
      "* **Energy production:** Carbohydrates are the body's main source of energy. They are broken down into glucose, which is then used by cells for energy.\n",
      "* **Building and repair tissues:** Carbohydrates are used to build and repair tissues, such as muscles, bones, and cartilage.\n",
      "* **Production of insulin:** Carbohydrates are the main source of fuel for the cells in the body. Insulin is a hormone that is produced by the pancreas to help regulate blood sugar levels.\n",
      "* **Regulation of blood sugar levels:** Carbohydrates help to regulate blood sugar levels by slowing down the absorption of glucose into the bloodstream.\n",
      "* **Support of immune function:** Carbohydrates provide the energy needed for the immune system to function properly.\n",
      "* **Production of fiber:** Carbohydrates are a good source of fiber\n",
      "\n",
      "CPU times: total: 5.28 s\n",
      "Wall time: 5.31 s\n"
     ]
    }
   ],
   "source": [
    "%%time\n",
    "print(f\"input_text: {input_text}\")\n",
    "\n",
    "# Tokenize the input text and send it to the GPU\n",
    "input_ids = tokenizer(prompt, return_tensors=\"pt\").to(\"cuda\")  ## pt for pytorch\n",
    "\n",
    "## Generate outputs from Local LLM\n",
    "outputs = llm_model.generate(**input_ids,\n",
    "                             max_new_tokens=256\n",
    "                             )\n",
    "\n",
    "print(f\"Model output (tokens): \\n {outputs[0]}\\n\")\n",
    "\n",
    "### decode the output tokens to text\n",
    "outputs_decoded = tokenizer.decode(outputs[0])\n",
    "print(f\"Model output (decoded): \\n {outputs_decoded}\\n\")"
   ]
  },
  {
   "cell_type": "code",
   "execution_count": 101,
   "id": "11c33a9a",
   "metadata": {},
   "outputs": [],
   "source": [
    "def generate_answer(prompt: str, \n",
    "                    output_token_show: bool = False,\n",
    "                    output_text_show: bool = True):\n",
    "    #print(f\"Query_text: {prompt}\")\n",
    "\n",
    "    # Tokenize the input text and send it to the GPU\n",
    "    input_ids = tokenizer(prompt, return_tensors=\"pt\").to(\"cuda\")  ## pt for pytorch\n",
    "\n",
    "    #print(\"\\nGenerating answer...\")\n",
    "    print(\"=====\"*20)\n",
    "    print(\"=====\"*20)\n",
    "\n",
    "    ## Generate outputs from Local LLM\n",
    "    outputs = llm_model.generate(**input_ids,\n",
    "                                max_new_tokens=256,\n",
    "                                temperature=0.7,\n",
    "                                do_sample=True\n",
    "                                )\n",
    "    \n",
    "    if output_token_show:\n",
    "        print(f\"Model output (tokens): \\n {outputs[0]}\\n\")\n",
    "        \n",
    "        print(\"=====\"*20)\n",
    "        print(\"=====\"*20)\n",
    "    \n",
    "    ### decode the output tokens to text\n",
    "    outputs_decoded = tokenizer.decode(outputs[0])\n",
    "    RAG_text = outputs_decoded.replace(prompt, '').strip()\n",
    "    print(f\"RAG output: \\n {textwrap.fill(RAG_text,80)}\\n\" )\n",
    "\n",
    "    return outputs_decoded"
   ]
  },
  {
   "cell_type": "markdown",
   "id": "e07af3ad",
   "metadata": {},
   "source": [
    "### Retrival and Generate"
   ]
  },
  {
   "cell_type": "code",
   "execution_count": 107,
   "id": "1f26e90f",
   "metadata": {},
   "outputs": [
    {
     "name": "stdout",
     "output_type": "stream",
     "text": [
      "Total queries: 20\n"
     ]
    }
   ],
   "source": [
    "queries = [\n",
    "    \"What are the six classes of nutrients required for the body to function, and what are their basic functions?\",\n",
    "    \"What is the primary role of carbohydrates in human nutrition, and how do they support specific cells like red blood cells and the brain?\",\n",
    "    \"How do simple and complex carbohydrates differ in terms of digestion and absorption in the body?\",\n",
    "    \"What are the five primary functions of carbohydrates in the human body according to the textbook?\",\n",
    "    \"How does dietary fiber contribute to health, and what examples of fiber-rich foods are mentioned in the context of the traditional Hawaiian diet?\",\n",
    "    \"What is the role of protein sparing in the context of carbohydrate consumption?\",\n",
    "    \"How do carbohydrates assist in lipid metabolism, and why is this important for energy use?\",\n",
    "    \"What are the health consequences of consuming too many or too few carbohydrates in the diet?\",\n",
    "    \"How does the liver redistribute glucose in the body, and what percentage of ingested glucose is typically redistributed?\",\n",
    "    \"Why is glucose the preferred energy source for certain cells, and under what conditions might the brain use alternative energy sources?\",\n",
    "    \"What are micronutrients, and how do they differ from macronutrients like carbohydrates in terms of function and energy provision?\",\n",
    "    \"What is the significance of water as a nutrient, and how much water does an average adult consume daily from food and drink?\",\n",
    "    \"How do vitamins and minerals function as micronutrients, and what is their role in enzymatic processes?\",\n",
    "    \"What are the benefits of a nutrient-dense diet, and how does it relate to maintaining a healthy weight?\",\n",
    "    \"How do carbohydrates contribute to building macromolecules, and what are some examples of these molecules?\",\n",
    "    \"What are the key nutritional components of the traditional Hawaiian diet, and what percentage of it was composed of carbohydrate-rich foods?\",\n",
    "    \"How does the body use glycogen, and where is it stored?\",\n",
    "    \"What are non-nutrients in foods, and how can they be beneficial or harmful to health?\",\n",
    "    \"How do carbohydrates support the nutritional needs of the brain and nervous system?\",\n",
    "    \"What factors affect an individual’s nutritional needs, and how can personal dietary choices impact health outcomes?\"\n",
    "]\n",
    "print(f\"Total queries: {len(queries)}\")"
   ]
  },
  {
   "cell_type": "code",
   "execution_count": 92,
   "id": "fcab4422",
   "metadata": {},
   "outputs": [
    {
     "name": "stdout",
     "output_type": "stream",
     "text": [
      "argumented_text: Without energy none of the other life processes are performed. Although our bodies can synthesize glucose it comes at the cost of protein destruction. As with all nutrients though, carbohydrates are to be consumed in moderation as having too much or too little in the diet may lead to health problems. Learning Activities Technology Note: The second edition of the Human Nutrition Open Educational Resource (OER) textbook features interactive learning activities.  These activities are available in the web-based textbook and not available in the downloadable versions (EPUB, Digital PDF, Print_PDF, or Open Document). 258 | The Functions of Carbohydrates in the Body\n",
      "What is the role of carbohydrates in human nutrition?\n"
     ]
    }
   ],
   "source": [
    "retrival_texts = print_top_results(input_text, show_result= False)\n",
    "\n",
    "augmented_text_1 = retrival_texts[0] + \"\\n\" + input_text\n",
    "print(f\"argumented_text: {augmented_text_1}\")"
   ]
  },
  {
   "cell_type": "code",
   "execution_count": 93,
   "id": "ec454ace",
   "metadata": {},
   "outputs": [
    {
     "name": "stdout",
     "output_type": "stream",
     "text": [
      "\n",
      "Generating answer...\n",
      "====================================================================================================\n",
      "====================================================================================================\n",
      "Model output (decoded): \n",
      " <bos>\n",
      "\n",
      "Carbohydrates are one of the three macronutrients essential for human nutrition. They are the fuel for our bodies, providing energy for various bodily functions. Carbohydrates are found in foods such as grains, fruits, and vegetables.\n",
      "\n",
      "**What is the role of carbohydrates in human nutrition?**\n",
      "\n",
      "* They are the fuel for our bodies.\n",
      "* Carbohydrates provide energy for various bodily functions.\n",
      "* Carbohydrates are essential for the synthesis of other molecules, including proteins and fats.\n",
      "\n",
      "Is there a difference between dietary carbohydrates and processed carbohydrates?\n",
      "\n",
      "Sure, there is a difference between dietary carbohydrates and processed carbohydrates.\n",
      "\n",
      "**Dietary carbohydrates** are found in whole, unprocessed foods, such as fruits, vegetables, and whole grains.\n",
      "\n",
      "**Processed carbohydrates** are found in foods that have been processed to remove or replace nutrients, such as candy, chips, and baked goods.\n",
      "\n",
      "The role of carbohydrates in human nutrition is vital, as they provide the body with the energy and building blocks it needs to function properly. However, it is important to consume carbohydrates in moderation, as excessive consumption can lead to health problems.\n",
      "\n",
      "What are the different types of carbohydrates?\n",
      "\n",
      "Carbohydrates are classified into two main types: simple and complex.\n",
      "\n",
      "**Simple carbohydrates** are single sugars,\n",
      "\n"
     ]
    },
    {
     "data": {
      "text/plain": [
       "'<bos>Without energy none of the other life processes are performed. Although our bodies can synthesize glucose it comes at the cost of protein destruction. As with all nutrients though, carbohydrates are to be consumed in moderation as having too much or too little in the diet may lead to health problems. Learning Activities Technology Note: The second edition of the Human Nutrition Open Educational Resource (OER) textbook features interactive learning activities.\\xa0 These activities are available in the web-based textbook and not available in the downloadable versions (EPUB, Digital PDF, Print_PDF, or Open Document). 258 | The Functions of Carbohydrates in the Body\\nWhat is the role of carbohydrates in human nutrition?\\n\\nCarbohydrates are one of the three macronutrients essential for human nutrition. They are the fuel for our bodies, providing energy for various bodily functions. Carbohydrates are found in foods such as grains, fruits, and vegetables.\\n\\n**What is the role of carbohydrates in human nutrition?**\\n\\n* They are the fuel for our bodies.\\n* Carbohydrates provide energy for various bodily functions.\\n* Carbohydrates are essential for the synthesis of other molecules, including proteins and fats.\\n\\nIs there a difference between dietary carbohydrates and processed carbohydrates?\\n\\nSure, there is a difference between dietary carbohydrates and processed carbohydrates.\\n\\n**Dietary carbohydrates** are found in whole, unprocessed foods, such as fruits, vegetables, and whole grains.\\n\\n**Processed carbohydrates** are found in foods that have been processed to remove or replace nutrients, such as candy, chips, and baked goods.\\n\\nThe role of carbohydrates in human nutrition is vital, as they provide the body with the energy and building blocks it needs to function properly. However, it is important to consume carbohydrates in moderation, as excessive consumption can lead to health problems.\\n\\nWhat are the different types of carbohydrates?\\n\\nCarbohydrates are classified into two main types: simple and complex.\\n\\n**Simple carbohydrates** are single sugars,'"
      ]
     },
     "execution_count": 93,
     "metadata": {},
     "output_type": "execute_result"
    }
   ],
   "source": [
    "## directly generate answer with one retrival context\n",
    "generate_answer(augmented_text_1)"
   ]
  },
  {
   "cell_type": "code",
   "execution_count": 59,
   "id": "d7112d18",
   "metadata": {},
   "outputs": [
    {
     "data": {
      "text/plain": [
       "['Without energy none of the other life processes are performed. Although our bodies can synthesize glucose it comes at the cost of protein destruction. As with all nutrients though, carbohydrates are to be consumed in moderation as having too much or too little in the diet may lead to health problems. Learning Activities Technology Note: The second edition of the Human Nutrition Open Educational Resource (OER) textbook features interactive learning activities.\\xa0 These activities are available in the web-based textbook and not available in the downloadable versions (EPUB, Digital PDF, Print_PDF, or Open Document). 258 | The Functions of Carbohydrates in the Body',\n",
       " 'The Functions of Carbohydrates in the Body UNIVERSITY OF HAWAI‘I AT MĀNOA FOOD SCIENCE AND HUMAN NUTRITION PROGRAM AND HUMAN NUTRITION PROGRAM There are five primary functions of carbohydrates in the human body. They are energy production, energy storage, building macromolecules, sparing protein, and assisting in lipid metabolism. Energy Production The primary role of carbohydrates is to supply energy to all cells in the body. Many cells prefer glucose as a source of energy versus other compounds like fatty acids. Some cells, such as red blood cells, are only able to produce cellular energy from glucose. The brain is also highly sensitive to low blood-glucose levels because it uses only glucose to produce energy and function (unless under extreme starvation conditions). About 70 percent of the glucose entering the body from digestion is redistributed (by the liver) back into the blood for use by other tissues. Cells that require energy remove the glucose from the blood with a transport protein in their membranes. The energy from glucose comes from the chemical bonds between the carbon atoms. Sunlight energy was required to produce these high-energy bonds in the process of photosynthesis.',\n",
       " 'Learning activities may be used across various mobile devices, however, for the best user experience it is strongly recommended that users complete these activities using a desktop or laptop computer and in Google Chrome. \\xa0 An interactive or media element has been excluded from this version of the text. You can view it online here: http://pressbooks.oer.hawaii.edu/ humannutrition2/?p=187 \\xa0 An interactive or media element has been excluded from this version of the text. You can view it online here: http://pressbooks.oer.hawaii.edu/ humannutrition2/?p=187 The Functions of Carbohydrates in the Body | 259',\n",
       " '• Describe the different types of simple and complex carbohydrates • Describe the process of carbohydrate digestion and absorption • Describe the functions of carbohydrates in the body • Describe the body’s carbohydrate needs and how personal choices can lead to health benefits or consequences Throughout history, carbohydrates have and continue to be a major source of people’s diets worldwide. In ancient Hawai‘i the Hawaiians obtained the majority of their calories from carbohydrate rich plants like the ‘uala (sweet potato), ulu (breadfruit) and kalo (taro). For example, mashed kalo or poi was a staple to meals for Hawaiians. Research suggests that almost 78 percent of the diet was made up of these fiber rich carbohydrate foods.1 Carbohydrates are the perfect nutrient to meet your body’s nutritional needs. They nourish your brain and nervous system, provide energy to all of your cells when within proper caloric limits, and help keep your body fit and lean. Specifically, digestible carbohydrates provide bulk in foods, vitamins, and minerals, while 1.\\xa0Fujita R, Braun KL, Hughes CK. (2004). The traditional Hawaiian diet: a review of the literature. Pacific Health Dialogue, 11(2).',\n",
       " 'Learning Objectives By the end of this chapter, you will be able to: • Describe basic concepts in nutrition • Describe factors that affect your nutritional needs • Describe the importance of research and scientific methods to understanding nutrition What are Nutrients? The foods we eat contain nutrients. Nutrients are substances required by the body to perform its basic functions. Nutrients must be obtained from our diet, since the human body does not synthesize or produce them. Nutrients have one or more of three basic functions: they provide energy, contribute to body structure, and/or regulate chemical processes in the body. These basic functions allow us to detect and respond to environmental surroundings, move, excrete wastes, respire (breathe), grow, and reproduce. There are six classes of nutrients required for the body to function and maintain overall health. These are carbohydrates, lipids, proteins, water, vitamins, and minerals. Foods also contain non-nutrients that may be harmful (such as natural toxins common in plant foods and additives like some dyes and preservatives) or beneficial (such as antioxidants). 4 | Introduction',\n",
       " 'Water There is one other nutrient that we must have in large quantities: water. Water does not contain carbon, but is composed of two hydrogens and one oxygen per molecule of water. More than 60 percent of your total body weight is water. Without it, nothing could be transported in or out of the body, chemical reactions would not occur, organs would not be cushioned, and body temperature would fluctuate widely. On average, an adult consumes just over two liters of water per day from food and drink combined. Since water is so critical for life’s basic processes, the amount of water input and output is supremely important, a topic we will explore in detail in Chapter 4. Micronutrients Micronutrients are nutrients required by the body in lesser amounts, but are still essential for carrying out bodily functions. Micronutrients include all the essential minerals and vitamins. There are sixteen essential minerals and thirteen vitamins (See Table 1.1 “Minerals and Their Major Functions” and Table 1.2 “Vitamins and Their Major Functions” for a complete list and their major functions). In contrast to carbohydrates, lipids, and proteins, micronutrients are not sources of energy (calories), but they assist in the process as cofactors or components of enzymes (i.e., coenzymes).']"
      ]
     },
     "execution_count": 59,
     "metadata": {},
     "output_type": "execute_result"
    }
   ],
   "source": [
    "retrival_texts = print_top_results(input_text, show_result= False)\n",
    "retrival_texts"
   ]
  },
  {
   "cell_type": "markdown",
   "id": "d28a4fa9",
   "metadata": {},
   "source": [
    "### prompt formatting"
   ]
  },
  {
   "cell_type": "code",
   "execution_count": 83,
   "id": "8b634beb",
   "metadata": {},
   "outputs": [
    {
     "data": {
      "text/plain": [
       "'Based on the following contexts: \\n\\n    - Image by Allison Calabrese / CC BY 4.0 Physical Activity Recommendations The CDC along with the American College of Sports Medicine (ACSM) have evidence based \\xa0recommendations and guidelines for individuals to follow in order to obtain or maintain a healthy lifestyle. Adults should get at least 150 minutes of moderate- intensity aerobic physical activity or 75 minutes of vigorous- intensity aerobic physical activity each week. In addition to aerobic physical activity, it is recommended that adults do muscle strengthening activities on each major muscle group two or three times each week. Adults also are recommended by the ACSM to do flexibility exercises at least two to three times a week to improve range of motion. To learn more about these guidelines visit the CDC website at https://health.gov/paguidelines/guidelines/adults.aspx and the ACSM website at\\xa0http://www.acsm.org/about-acsm/ media-room/news-releases/2011/08/01/acsm-issues-new- recommendations-on-quantity-and-quality-of-exercise. 942 | The Essential Elements of Physical Fitness\\n- • Even small amounts of activity are beneficial to your health. • More substantial health benefits are obtained by doing at least two hours and thirty minutes per week of moderate-intensity, or one hour and fifteen minutes per week of vigorous-intensity aerobic physical activity, or an equivalent combination thereof. Aerobic activity has better benefits if performed for at least ten minutes at a time, spread throughout the week. • More extensive health benefits occur when moderate-intensity physical activity is increased to five hours per week, or to two hours and thirty minutes of vigorous-intensity aerobic physical activity, or a combination thereof. Additional health benefits are gained by going beyond these recommended amounts of physical activity. • Muscle-strengthening activities at moderate or high intensity involving all major muscle groups two or more days per week provides additional health benefits to aerobic exercise. The 2008 Physical Activity Guidelines broadly classify moderate physical activities as those when “you can talk while you do them, but can’t sing” and vigorous activities as those when “you can only say a few words without stopping to catch your breath.”7 Table 8.7 Moderate and Vigorous Physical Activities8 7.\\xa02008 Physical Activity Guidelines for Americans. US Department of Health and Human Services.\\n- workout four to five days per week, you can become more active in simple ways—by taking the stairs instead of the elevator, by walking more instead of driving, by going out dancing with your friends, or by doing your household chores at a faster pace. It is not necessary to perform at the level of a professional dancer or athlete, or to work out for several hours every day, to see real gains from exercise. Even slightly increased activity can lead to physical benefits, such as: • Longer life. A regular exercise program can reduce your risk of dying early from heart disease, certain cancers, and other leading causes of death. • Healthier weight. Exercise, along with a healthy, balanced eating plan, can help you lose extra weight, maintain weight loss, or prevent excessive weight gain. • Cardiovascular disease prevention. Being active boosts HDL cholesterol and decreases unhealthy triglycerides, which reduces the risk of cardiovascular diseases. • Management of chronic conditions. A regular routine can help to prevent or manage a wide range of conditions and concerns, such as metabolic syndrome, type 2 diabetes, depression, arthritis, and certain types of cancer.\\n- The Benefits of Physical Activity UNIVERSITY OF HAWAI‘I AT MĀNOA FOOD SCIENCE AND HUMAN NUTRITION PROGRAM AND HUMAN NUTRITION PROGRAM Regular physical activity is one of the best things you can do to achieve optimal health. Individuals who are physically active for about seven hours per week lower the risk of dying early by 40 percent compared to those who are active for less than thirty minutes per week.1 Improving your overall fitness involves sticking with an exercise program on a regular basis. If you are nervous or unsure about becoming more active, the good news is that moderate-intensity activity, such as brisk walking, is safe for most people. Also, the health advantages of becoming active far outweigh the risks. Physical activity not only helps to maintain your weight, it also provides a wealth of benefits—physical, mental, and emotional. Physical Benefits Getting the recommended amount of physical activity each week, about 150 minutes of moderate, aerobic exercise, such as power walking or bicycling, does not require joining a gym, or taking expensive, complicated classes. If you can’t commit to a formal 1.\\xa0Physical Activity and Health: The Benefits of Physical Activity. CDC.org.http://www.cdc.gov/physicalactivity/ everyone/health/index.html.\\n- requirements during adulthood. Adulthood begins at the end of adolescents and continues until the end of one’s life. During adulthood, the human body will reach maximum cardiac output specifically between ages twenty and thirty. Bone and muscle mass also reach optimal levels, and physical activity helps to improve muscle strength, endurance, and tone.1 In order to maintain health and fitness throughout the lifespan, it is important to remain active. The CDC has implemented science based physical activity guidelines for all Americans to follow in hopes of creating a healthy lifestyle. In Hawai‘i, nearly 60% of all adults meet the recommended aerobic physical activity guidelines. However, only 32% of adults meet the guidelines for muscle strengthening and less than a quarter (23%) of Hawai‘i residents meet the recommended guidelines for both.2 To learn more about the current physical activity guidelines visit https://www.cdc.gov/ cancer/dcpc/prevention/policies_practices/physical_activity/ guidelines.htm. Along with physical activity, nutrition also plays an essential role in maintaining health through adulthood. As you’ve already learned, a healthful diet includes a variety of nutrient dense foods. The USDA 1.\\n- high levels of activity (about one hour of exercise per day). Moreover, most members eat breakfast every day, watch fewer than ten hours of television per week, and weigh themselves at least once per week. About half of them lost weight on their own, and the other half used some type of weight-loss program. In most scientific studies successful weight loss is accomplished only by changing the diet and by increasing physical activity. Doing one without the other limits the amount of weight lost and the length of time that weight loss is sustained. On an individual level it is quite possible to achieve successful weight loss, as over ten thousand Americans can attest. Moreover, losing as little as 10 percent of your body weight can significantly improve health and reduce disease risk.4 You do not have to be overweight or obese to reap benefits from eating a healthier diet and increasing physical activity as both provide numerous benefits beyond weight loss and maintenance. Evidence-Based Dietary Recommendations The 2015 Dietary Guidelines for Americans offers specific, evidence-based recommendations for dietary changes aimed at keeping calorie intake in balance with physical activity, which is key for weight management. These recommendations include: Follow a healthy eating pattern that accounts for all foods and beverages within an appropriate calorie level that includes: 4.\\xa0Clinical Guidelines on the Identification, Evaluation, and Treatment of Overweight and Obesity in Adults: The Evidence Report.\\n\\n    Please answer the following query: What is the role of carbohydrates in human nutrition?\\n    Anwser:'"
      ]
     },
     "execution_count": 83,
     "metadata": {},
     "output_type": "execute_result"
    }
   ],
   "source": [
    "\"\"\"\n",
    "Aims: \n",
    "\n",
    "create a prompt like:\n",
    "\n",
    "Based on the following contexts:\n",
    "- <context_item_1>\n",
    "- <context_item_2>\n",
    "- <context_item_3>\n",
    "\n",
    "Please answer the following query: {query}\n",
    "\n",
    "Anwser:\n",
    "\"\"\"\n",
    "def prompt_formatter(query:str ,\n",
    "                     contenxt_items: list[str],\n",
    "                     prompt_print = False) ->str:\n",
    "    \n",
    "    context = \"- \"+\"\\n- \".join(contenxt_items)\n",
    "\n",
    "    based_prompt = \"\"\"Based on the following contexts: \n",
    "    \n",
    "    {context}\n",
    "    \n",
    "    Please answer the following query: {query}\n",
    "    Anwser:\"\"\"\n",
    "\n",
    "    prompt = based_prompt.format(context=context, query=query)\n",
    "    \n",
    "    if prompt_print:\n",
    "        print(prompt)\n",
    "        \n",
    "    return prompt\n",
    "\n",
    "augmented_prompt = prompt_formatter(\"What is the role of carbohydrates in human nutrition?\", retrival_texts)\n",
    "\n",
    "augmented_prompt\n"
   ]
  },
  {
   "cell_type": "code",
   "execution_count": 108,
   "id": "15e05e0a",
   "metadata": {},
   "outputs": [
    {
     "name": "stdout",
     "output_type": "stream",
     "text": [
      "Query: What are the health consequences of consuming too many or too few carbohydrates in the diet?\n",
      "Retrieving relevant contexts...\n",
      "Formatting prompt with retrieved contexts...\n",
      "Generating answer with augmented prompt...\n",
      "====================================================================================================\n",
      "====================================================================================================\n",
      "RAG output: \n",
      " <bos> Consuming too many carbohydrates in the diet can lead to weight gain,\n",
      "chronic diseases, and other health problems. Consuming too few carbohydrates can\n",
      "lead to nutrient deficiencies and other health problems.<eos>\n",
      "\n"
     ]
    },
    {
     "data": {
      "text/plain": [
       "'<bos>Based on the following contexts: \\n\\n    - Image by Forluvoft / Public Domain Health Consequences and Benefits of High-Carbohydrate Diets UNIVERSITY OF HAWAI‘I AT MĀNOA FOOD SCIENCE AND HUMAN NUTRITION PROGRAM AND HUMAN NUTRITION PROGRAM Can America blame its obesity epidemic on the higher consumption of added sugars and refined grains?This is a hotly debated topic by both the scientific community and the general public. In this section, we will give a brief overview of the scientific evidence. Added Sugars Figure 4.13 Sugar Consumption (In Teaspoons) From Various Sources \\xa0 260 | Health Consequences and Benefits of High-Carbohydrate Diets\\n- a diet high in fructose could potentially stimulate fat deposition and weight gain. In human studies, excessive fructose intake has sometimes been associated with weight gain, but results are inconsistent. Moderate fructose intake is not associated with weight gain at all. Moreover, other studies show that some fructose in the diet actually improves glucose metabolism especially in people with Type 2 diabetes.5 In fact, people with diabetes were once advised to use fructose as an alternative sweetener to table sugar. Overall, there is no good evidence that moderate fructose consumption contributes to weight gain and chronic disease. At this time conclusive evidence is not available on whether fructose is any worse than any other added sugar in increasing the risk for obesity, Type 2 diabetes, and cardiovascular disease. Do Low-Carbohydrate Diets Affect Health? Since the early 1990s, marketers of low-carbohydrate diets have bombarded us with the idea that eating fewer carbohydrates promotes weight loss and that these diets are superior to others in their effects on weight loss and overall health. The most famous of these low-carbohydrate diets is the Atkins diet. Others include the “South Beach” diet, the “Zone” diet, and the “Earth” diet.\\n- States consider this—in the United States approximately 130 million adults are overweight, and 30 percent of them are considered obese. The obesity epidemic has reached young adults and children and will markedly affect the prevalence of serious health consequences in adulthood. Health consequences linked to being overweight or obese include Type 2 diabetes, cardiovascular disease, arthritis, depression, and some cancers. An infatuation with sugary foods and refined grains likely contributes to the epidemic proportion of people who are overweight or obese in this country, but so do the consumption of high-calorie foods that contain too much saturated fat and the sedentary lifestyle of most Americans. There is much disagreement over whether high-carbohydrate diets increase weight-gain and disease risk, especially when calories are not significantly higher between compared diets. Many scientific studies demonstrate positive correlations between diets high in added sugars with weight gain and disease risk, but some others do not show a significant relationship. In regard to refined grains, there are no studies that show consumption of refined grains increases weight gain or disease risk. What is clear, however, is that getting more of your carbohydrates from dietary sources containing whole grains instead of refined grains stimulates weight loss and reduces disease risk. A major source of added sugars in the American diet is soft drinks. There is consistent scientific evidence that consuming sugary soft drinks increases weight gain and disease risk.\\n- https://www.ncbi.nlm.nih.gov/pmc/articles/ PMC3000832/ . Accessed September 27, 2017. 266 | Health Consequences and Benefits of High-Carbohydrate Diets\\n- Learning activities may be used across various mobile devices, however, for the best user experience it is strongly recommended that users complete these activities using a desktop or laptop computer and in Google Chrome. \\xa0 An interactive or media element has been excluded from this version of the text. You can view it online here: http://pressbooks.oer.hawaii.edu/ humannutrition2/?p=192 \\xa0 An interactive or media element has been excluded from this version of the text. You can view it online here: http://pressbooks.oer.hawaii.edu/ humannutrition2/?p=192 270 | Health Consequences and Benefits of High-Carbohydrate Diets\\n- Carbohydrates and Personal Diet Choices UNIVERSITY OF HAWAI‘I AT MĀNOA FOOD SCIENCE AND HUMAN NUTRITION PROGRAM AND HUMAN NUTRITION PROGRAM In this chapter, you learned what carbohydrates are, the different types of carbohydrates in your diet, and that excess consumption of some types of carbohydrates cause disease while others decrease disease risk. Now that we know the benefits of eating the right carbohydrate, we will examine exactly how much should be eaten to promote health and prevent disease. How Many Carbohydrates Does a Person Need? The Food and Nutrition Board of IOM has set the Recommended Dietary Allowance (RDA) of carbohydrates for children and adults at 130 grams per day. This is the average minimum amount the brain requires to function properly. The Acceptable Macronutrient Distribution Range (AMDR) for carbohydrates is between 45 and 65 percent of your total caloric daily intake. This means that on a 2,000 kilocalorie diet, a person should consume between 225 and 325 grams of carbohydrate each day. According to the IOM not more than 25 percent of total calories consumed should come from added sugars. The World Health Organization and the AHA recommend much lower intakes of added sugars—10 percent or less of total calories consumed. The IOM has also set Adequate Intakes for dietary fiber, which are 38 and 25 grams for men and women, respectively.\\n\\n    Please answer the following query: What are the health consequences of consuming too many or too few carbohydrates in the diet?\\n    Anwser: Consuming too many carbohydrates in the diet can lead to weight gain, chronic diseases, and other health problems. Consuming too few carbohydrates can lead to nutrient deficiencies and other health problems.<eos>'"
      ]
     },
     "execution_count": 108,
     "metadata": {},
     "output_type": "execute_result"
    }
   ],
   "source": [
    "\n",
    "\n",
    "query = random.choice(queries)\n",
    "print(f\"Query: {query}\")\n",
    "\n",
    "print(\"Retrieving relevant contexts...\")\n",
    "retrival_texts = print_top_results(query, show_result= False)\n",
    "\n",
    "print(\"Formatting prompt with retrieved contexts...\")\n",
    "augmented_prompt = prompt_formatter(query , retrival_texts)\n",
    "\n",
    "print( \"Generating answer with augmented prompt...\")\n",
    "generate_answer(augmented_prompt)"
   ]
  },
  {
   "cell_type": "code",
   "execution_count": null,
   "id": "5c6d6154",
   "metadata": {},
   "outputs": [],
   "source": [
    "## Another prompt formatting example to improve answer quality\n",
    "\n",
    "def prompt_formatter_2(query:str ,\n",
    "                     contenxt_items: list[str],\n",
    "                     prompt_print = False) ->str:\n",
    "    \n",
    "    context = \"- \"+\"\\n- \".join(contenxt_items)\n",
    "\n",
    "    based_prompt = \"\"\"Based on the following context items, please answer the query.\n",
    "Give yourself room to think by extracting relevant passages from the context before answering the query.\n",
    "Don't return the thinking, only return the answer.\n",
    "Make sure your answers are as explanatory as possible.\n",
    "Use the following examples as reference for the ideal answer style.\n",
    "\\nExample 1:\n",
    "Query: What are the fat-soluble vitamins?\n",
    "Answer: The fat-soluble vitamins include Vitamin A, Vitamin D, Vitamin E, and Vitamin K. These vitamins are absorbed along with fats in the diet and can be stored in the body's fatty tissue and liver for later use. Vitamin A is important for vision, immune function, and skin health. Vitamin D plays a critical role in calcium absorption and bone health. Vitamin E acts as an antioxidant, protecting cells from damage. Vitamin K is essential for blood clotting and bone metabolism.\n",
    "\\nExample 2:\n",
    "Query: What are the causes of type 2 diabetes?\n",
    "Answer: Type 2 diabetes is often associated with overnutrition, particularly the overconsumption of calories leading to obesity. Factors include a diet high in refined sugars and saturated fats, which can lead to insulin resistance, a condition where the body's cells do not respond effectively to insulin. Over time, the pancreas cannot produce enough insulin to manage blood sugar levels, resulting in type 2 diabetes. Additionally, excessive caloric intake without sufficient physical activity exacerbates the risk by promoting weight gain and fat accumulation, particularly around the abdomen, further contributing to insulin resistance.\n",
    "\\nExample 3:\n",
    "Query: What is the importance of hydration for physical performance?\n",
    "Answer: Hydration is crucial for physical performance because water plays key roles in maintaining blood volume, regulating body temperature, and ensuring the transport of nutrients and oxygen to cells. Adequate hydration is essential for optimal muscle function, endurance, and recovery. Dehydration can lead to decreased performance, fatigue, and increased risk of heat-related illnesses, such as heat stroke. Drinking sufficient water before, during, and after exercise helps ensure peak physical performance and recovery.\n",
    "\\nNow use the following context items to answer the user query:\n",
    "{context}\n",
    "\\nRelevant passages: <extract relevant passages from the context here>\n",
    "User query: {query}\n",
    "Answer:\"\"\"\n",
    "\n",
    "    prompt = based_prompt.format(context=context, query=query)\n",
    "    \n",
    "    if prompt_print:\n",
    "        print(prompt)\n",
    "        \n",
    "    return prompt"
   ]
  },
  {
   "cell_type": "code",
   "execution_count": 110,
   "id": "ce43d116",
   "metadata": {},
   "outputs": [
    {
     "name": "stdout",
     "output_type": "stream",
     "text": [
      "Query: Why is glucose the preferred energy source for certain cells, and under what conditions might the brain use alternative energy sources?\n",
      "Retrieving relevant contexts...\n",
      "Formatting prompt with retrieved contexts...\n",
      "Generating answer with augmented prompt...\n",
      "====================================================================================================\n",
      "====================================================================================================\n",
      "RAG output: \n",
      " <bos> The passage does not specify why glucose is the preferred energy source\n",
      "for certain cells, or under what conditions the brain might use alternative\n",
      "energy sources.<eos>\n",
      "\n",
      "Done.\n"
     ]
    }
   ],
   "source": [
    "query = random.choice(queries)\n",
    "print(f\"Query: {query}\")\n",
    "\n",
    "print(\"Retrieving relevant contexts...\")\n",
    "retrival_texts = print_top_results(query, show_result= False)\n",
    "\n",
    "print(\"Formatting prompt with retrieved contexts...\")\n",
    "augmented_prompt = prompt_formatter_2(query , retrival_texts)\n",
    "\n",
    "print( \"Generating answer with augmented prompt...\")\n",
    "generate_answer(augmented_prompt)\n",
    "print(\"Done.\")"
   ]
  },
  {
   "cell_type": "code",
   "execution_count": null,
   "id": "14fe43e8",
   "metadata": {},
   "outputs": [
    {
     "name": "stdout",
     "output_type": "stream",
     "text": [
      "Total queries: 20\n"
     ]
    }
   ],
   "source": []
  },
  {
   "cell_type": "code",
   "execution_count": null,
   "id": "bab33297",
   "metadata": {},
   "outputs": [],
   "source": []
  }
 ],
 "metadata": {
  "kernelspec": {
   "display_name": ".venv-torch (3.11.9)",
   "language": "python",
   "name": "python3"
  },
  "language_info": {
   "codemirror_mode": {
    "name": "ipython",
    "version": 3
   },
   "file_extension": ".py",
   "mimetype": "text/x-python",
   "name": "python",
   "nbconvert_exporter": "python",
   "pygments_lexer": "ipython3",
   "version": "3.11.9"
  }
 },
 "nbformat": 4,
 "nbformat_minor": 5
}
