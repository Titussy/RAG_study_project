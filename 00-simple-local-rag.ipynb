{
 "cells": [
  {
   "cell_type": "markdown",
   "id": "9d8a0fb0",
   "metadata": {},
   "source": [
    "# 1. RAG - Data preprocess"
   ]
  },
  {
   "cell_type": "markdown",
   "id": "1e154ed5",
   "metadata": {},
   "source": [
    "## 1.1 Data Process: text over page, then split the sentences."
   ]
  },
  {
   "cell_type": "markdown",
   "id": "4eb610d6",
   "metadata": {},
   "source": [
    "### 1.1.1 download pdf and simple process"
   ]
  },
  {
   "cell_type": "code",
   "execution_count": 2,
   "id": "41ed120e",
   "metadata": {},
   "outputs": [
    {
     "name": "stdout",
     "output_type": "stream",
     "text": [
      "[INFO]File human-nutrution-text.pdf already exists.\n"
     ]
    }
   ],
   "source": [
    "import os\n",
    "import requests\n",
    "\n",
    "# Get PDF document path\n",
    "pdf_path = \"human-nutrution-text.pdf\"\n",
    "\n",
    "# Download the PDF\n",
    "if not os.path.exists(pdf_path):\n",
    "    print(\"[INFO]File doesn't exist Downloading...\")\n",
    "    \n",
    "    #Enter the URL of the PDF\n",
    "    url = \"https://pressbooks.oer.hawaii.edu/humannutrition2/open/download?type=pdf\"\n",
    "    \n",
    "    #The local filename to save the downloaded file\n",
    "    filename = pdf_path\n",
    "    \n",
    "    # Send a GET request to the URL\n",
    "    response = requests.get(url)\n",
    "    \n",
    "    # Check if the request was successful\n",
    "    if response.status_code == 200:\n",
    "        #Open the file and save it\n",
    "        with open(filename, \"wb\") as file:\n",
    "            file.write(response.content)\n",
    "        print(f\"[INFO]File downloaded and saved as {filename}\")\n",
    "        \n",
    "    else:\n",
    "        print(f\"[INFO]Failed to download file. Status code: {response.status_code}\")\n",
    "else:\n",
    "    print(f\"[INFO]File {pdf_path} already exists.\")\n"
   ]
  },
  {
   "cell_type": "code",
   "execution_count": 3,
   "id": "89c173d2",
   "metadata": {},
   "outputs": [
    {
     "data": {
      "application/vnd.jupyter.widget-view+json": {
       "model_id": "a21856c0a2f54887af149132aaa783b7",
       "version_major": 2,
       "version_minor": 0
      },
      "text/plain": [
       "0it [00:00, ?it/s]"
      ]
     },
     "metadata": {},
     "output_type": "display_data"
    }
   ],
   "source": [
    "from tqdm.auto import tqdm\n",
    "try:\n",
    "    import fitz\n",
    "except ImportError:\n",
    "    import sys\n",
    "    !{sys.executable} -m pip install PyMuPDF\n",
    "    import fitz\n",
    "    \n",
    "def text_formaater(text: str) -> str:\n",
    "    \"\"\"Performs. minor formatting on text.\"\"\"\n",
    "    cleaned_text = text.replace(\"\\n\", \" \").strip()\n",
    "    \n",
    "    return cleaned_text\n",
    "\n",
    "# read pdf file in list[dict]\n",
    "def open_and_read_pdf(pdf_path: str) -> list[dict]:\n",
    "    doc = fitz.open(pdf_path)\n",
    "    pages_and_texts = []\n",
    "    for page_number, page in tqdm(enumerate(doc)):\n",
    "        text = page.get_text()\n",
    "        text = text_formaater(text= text)\n",
    "        pages_and_texts.append({\"page_number\": page_number -41, \n",
    "                               \"page_char_count\": len(text), \n",
    "                               \"page_word_count\": len(text.split(\" \")),\n",
    "                               \"page_sentence_count\" : len(text.split(\". \")),\n",
    "                               \"page_token_count\": len(text)/4, # Rough estimate of tokens\n",
    "                               \"text\":text\n",
    "                               })\n",
    "        \n",
    "    return pages_and_texts\n",
    "\n",
    "pages_and_texts = open_and_read_pdf(pdf_path)"
   ]
  },
  {
   "cell_type": "code",
   "execution_count": 4,
   "id": "580aa8a2",
   "metadata": {},
   "outputs": [
    {
     "name": "stderr",
     "output_type": "stream",
     "text": [
      "/Users/yaukahei/anaconda3/lib/python3.11/site-packages/pandas/core/arrays/masked.py:60: UserWarning: Pandas requires version '1.3.6' or newer of 'bottleneck' (version '1.3.5' currently installed).\n",
      "  from pandas.core import (\n"
     ]
    },
    {
     "data": {
      "text/html": [
       "<div>\n",
       "<style scoped>\n",
       "    .dataframe tbody tr th:only-of-type {\n",
       "        vertical-align: middle;\n",
       "    }\n",
       "\n",
       "    .dataframe tbody tr th {\n",
       "        vertical-align: top;\n",
       "    }\n",
       "\n",
       "    .dataframe thead th {\n",
       "        text-align: right;\n",
       "    }\n",
       "</style>\n",
       "<table border=\"1\" class=\"dataframe\">\n",
       "  <thead>\n",
       "    <tr style=\"text-align: right;\">\n",
       "      <th></th>\n",
       "      <th>page_number</th>\n",
       "      <th>page_char_count</th>\n",
       "      <th>page_word_count</th>\n",
       "      <th>page_sentence_count</th>\n",
       "      <th>page_token_count</th>\n",
       "      <th>text</th>\n",
       "    </tr>\n",
       "  </thead>\n",
       "  <tbody>\n",
       "    <tr>\n",
       "      <th>500</th>\n",
       "      <td>459</td>\n",
       "      <td>745</td>\n",
       "      <td>120</td>\n",
       "      <td>4</td>\n",
       "      <td>186.25</td>\n",
       "      <td>Learning Activities  Technology Note: The seco...</td>\n",
       "    </tr>\n",
       "    <tr>\n",
       "      <th>501</th>\n",
       "      <td>460</td>\n",
       "      <td>1958</td>\n",
       "      <td>337</td>\n",
       "      <td>19</td>\n",
       "      <td>489.50</td>\n",
       "      <td>The Atom  UNIVERSITY OF HAWAI‘I AT MĀNOA FOOD ...</td>\n",
       "    </tr>\n",
       "    <tr>\n",
       "      <th>502</th>\n",
       "      <td>461</td>\n",
       "      <td>1339</td>\n",
       "      <td>230</td>\n",
       "      <td>12</td>\n",
       "      <td>334.75</td>\n",
       "      <td>Image by  DoSiDo / CC  BY-SA 3.0  Atoms and mo...</td>\n",
       "    </tr>\n",
       "  </tbody>\n",
       "</table>\n",
       "</div>"
      ],
      "text/plain": [
       "     page_number  page_char_count  page_word_count  page_sentence_count  \\\n",
       "500          459              745              120                    4   \n",
       "501          460             1958              337                   19   \n",
       "502          461             1339              230                   12   \n",
       "\n",
       "     page_token_count                                               text  \n",
       "500            186.25  Learning Activities  Technology Note: The seco...  \n",
       "501            489.50  The Atom  UNIVERSITY OF HAWAI‘I AT MĀNOA FOOD ...  \n",
       "502            334.75  Image by  DoSiDo / CC  BY-SA 3.0  Atoms and mo...  "
      ]
     },
     "metadata": {},
     "output_type": "display_data"
    },
    {
     "data": {
      "text/html": [
       "<div>\n",
       "<style scoped>\n",
       "    .dataframe tbody tr th:only-of-type {\n",
       "        vertical-align: middle;\n",
       "    }\n",
       "\n",
       "    .dataframe tbody tr th {\n",
       "        vertical-align: top;\n",
       "    }\n",
       "\n",
       "    .dataframe thead th {\n",
       "        text-align: right;\n",
       "    }\n",
       "</style>\n",
       "<table border=\"1\" class=\"dataframe\">\n",
       "  <thead>\n",
       "    <tr style=\"text-align: right;\">\n",
       "      <th></th>\n",
       "      <th>page_number</th>\n",
       "      <th>page_char_count</th>\n",
       "      <th>page_word_count</th>\n",
       "      <th>page_sentence_count</th>\n",
       "      <th>page_token_count</th>\n",
       "    </tr>\n",
       "  </thead>\n",
       "  <tbody>\n",
       "    <tr>\n",
       "      <th>count</th>\n",
       "      <td>1208.00</td>\n",
       "      <td>1208.00</td>\n",
       "      <td>1208.00</td>\n",
       "      <td>1208.00</td>\n",
       "      <td>1208.00</td>\n",
       "    </tr>\n",
       "    <tr>\n",
       "      <th>mean</th>\n",
       "      <td>562.50</td>\n",
       "      <td>1148.00</td>\n",
       "      <td>198.30</td>\n",
       "      <td>9.97</td>\n",
       "      <td>287.00</td>\n",
       "    </tr>\n",
       "    <tr>\n",
       "      <th>std</th>\n",
       "      <td>348.86</td>\n",
       "      <td>560.38</td>\n",
       "      <td>95.76</td>\n",
       "      <td>6.19</td>\n",
       "      <td>140.10</td>\n",
       "    </tr>\n",
       "    <tr>\n",
       "      <th>min</th>\n",
       "      <td>-41.00</td>\n",
       "      <td>0.00</td>\n",
       "      <td>1.00</td>\n",
       "      <td>1.00</td>\n",
       "      <td>0.00</td>\n",
       "    </tr>\n",
       "    <tr>\n",
       "      <th>25%</th>\n",
       "      <td>260.75</td>\n",
       "      <td>762.00</td>\n",
       "      <td>134.00</td>\n",
       "      <td>4.00</td>\n",
       "      <td>190.50</td>\n",
       "    </tr>\n",
       "    <tr>\n",
       "      <th>50%</th>\n",
       "      <td>562.50</td>\n",
       "      <td>1231.50</td>\n",
       "      <td>214.50</td>\n",
       "      <td>10.00</td>\n",
       "      <td>307.88</td>\n",
       "    </tr>\n",
       "    <tr>\n",
       "      <th>75%</th>\n",
       "      <td>864.25</td>\n",
       "      <td>1603.50</td>\n",
       "      <td>271.00</td>\n",
       "      <td>14.00</td>\n",
       "      <td>400.88</td>\n",
       "    </tr>\n",
       "    <tr>\n",
       "      <th>max</th>\n",
       "      <td>1166.00</td>\n",
       "      <td>2308.00</td>\n",
       "      <td>429.00</td>\n",
       "      <td>32.00</td>\n",
       "      <td>577.00</td>\n",
       "    </tr>\n",
       "  </tbody>\n",
       "</table>\n",
       "</div>"
      ],
      "text/plain": [
       "       page_number  page_char_count  page_word_count  page_sentence_count  \\\n",
       "count      1208.00          1208.00          1208.00              1208.00   \n",
       "mean        562.50          1148.00           198.30                 9.97   \n",
       "std         348.86           560.38            95.76                 6.19   \n",
       "min         -41.00             0.00             1.00                 1.00   \n",
       "25%         260.75           762.00           134.00                 4.00   \n",
       "50%         562.50          1231.50           214.50                10.00   \n",
       "75%         864.25          1603.50           271.00                14.00   \n",
       "max        1166.00          2308.00           429.00                32.00   \n",
       "\n",
       "       page_token_count  \n",
       "count           1208.00  \n",
       "mean             287.00  \n",
       "std              140.10  \n",
       "min                0.00  \n",
       "25%              190.50  \n",
       "50%              307.88  \n",
       "75%              400.88  \n",
       "max              577.00  "
      ]
     },
     "metadata": {},
     "output_type": "display_data"
    }
   ],
   "source": [
    "import random\n",
    "#view some of the pages and texts\n",
    "#display(random.sample(pages_and_texts, k=3))\n",
    "\n",
    "import pandas as pd\n",
    "df = pd.DataFrame(pages_and_texts)\n",
    "display(df[500:503])\n",
    "display(df.describe().round(2))"
   ]
  },
  {
   "cell_type": "markdown",
   "id": "bbd6e246",
   "metadata": {},
   "source": [
    "### 1.1.2 split sentence by using spacy (nlp tool)"
   ]
  },
  {
   "cell_type": "code",
   "execution_count": 5,
   "id": "2827ba28",
   "metadata": {},
   "outputs": [
    {
     "name": "stdout",
     "output_type": "stream",
     "text": [
      "Original: This is a sentence. This is another one. And this is the last one.\n",
      "After split: [This is a sentence., This is another one., And this is the last one.]\n"
     ]
    }
   ],
   "source": [
    "try:\n",
    "    from spacy.lang.en import English\n",
    "except ModuleNotFoundError:\n",
    "    import sys\n",
    "    !{sys.executable} -m pip install spacy\n",
    "    from spacy.lang.en import English\n",
    "\n",
    "nlp = English()\n",
    "nlp.add_pipe(\"sentencizer\")\n",
    "\n",
    "## example for sentence splitting\n",
    "test_sentences = \"This is a sentence. This is another one. And this is the last one.\"\n",
    "doc = nlp(test_sentences)\n",
    "print(f\"Original: {test_sentences}\")\n",
    "print(f\"After split: {list(doc.sents)}\")"
   ]
  },
  {
   "cell_type": "code",
   "execution_count": 6,
   "id": "84b34744",
   "metadata": {},
   "outputs": [
    {
     "data": {
      "application/vnd.jupyter.widget-view+json": {
       "model_id": "0c068abf55f9416694b2ad4c976e7984",
       "version_major": 2,
       "version_minor": 0
      },
      "text/plain": [
       "  0%|          | 0/1208 [00:00<?, ?it/s]"
      ]
     },
     "metadata": {},
     "output_type": "display_data"
    },
    {
     "data": {
      "text/plain": [
       "[{'page_number': 121,\n",
       "  'page_char_count': 764,\n",
       "  'page_word_count': 137,\n",
       "  'page_sentence_count': 7,\n",
       "  'page_token_count': 191.0,\n",
       "  'text': '“Axial  Skeleton” by  Openstax  College / CC  BY 3.0\\xa0 providing structural support, red and white blood cells and platelets  are synthesized in bone marrow. Another vital function of bones  is that they act as a storage depot for minerals such as calcium,  phosphorous, and magnesium. Although bone tissue may look  inactive at first glance, at the microscopic level you will find that  bones are continuously breaking down and reforming. Bones also  contain a complex network of canals, blood vessels, and nerves that  allow for nutrient transport and communication with other organ  systems.  Figure 2.25 Human Skeletal Structure  The human skeleton contains 206 bones. It is divided into two main  parts, the axial and appendicular.  The Skeletal System  |  121',\n",
       "  'sentences': ['“Axial  Skeleton” by  Openstax  College / CC  BY 3.0\\xa0 providing structural support, red and white blood cells and platelets  are synthesized in bone marrow.',\n",
       "   'Another vital function of bones  is that they act as a storage depot for minerals such as calcium,  phosphorous, and magnesium.',\n",
       "   'Although bone tissue may look  inactive at first glance, at the microscopic level you will find that  bones are continuously breaking down and reforming.',\n",
       "   'Bones also  contain a complex network of canals, blood vessels, and nerves that  allow for nutrient transport and communication with other organ  systems.',\n",
       "   ' Figure 2.25 Human Skeletal Structure  The human skeleton contains 206 bones.',\n",
       "   'It is divided into two main  parts, the axial and appendicular.',\n",
       "   ' The Skeletal System  |  121'],\n",
       "  'page_sentence_count_spacy': 7}]"
      ]
     },
     "execution_count": 6,
     "metadata": {},
     "output_type": "execute_result"
    }
   ],
   "source": [
    "for item in tqdm(pages_and_texts):\n",
    "    # Process the text with spaCy\n",
    "    item[\"sentences\"] = list(nlp(item[\"text\"]).sents)\n",
    "    \n",
    "    #make sure to convert sentences to string\n",
    "    item[\"sentences\"] = [str(sentence)for sentence in item[\"sentences\"]]\n",
    "    \n",
    "    # Add the sentence count to the item\n",
    "    item[\"page_sentence_count_spacy\"] = len(item[\"sentences\"])\n",
    "    \n",
    "    \n",
    "#view some of the pages and texts\n",
    "random.sample(pages_and_texts, k=1)\n"
   ]
  },
  {
   "cell_type": "markdown",
   "id": "11da1e47",
   "metadata": {},
   "source": [
    "## 1.2 Chunk the sentence together"
   ]
  },
  {
   "cell_type": "markdown",
   "id": "3d1727d3",
   "metadata": {},
   "source": [
    "### 1.2.1 chunk sentence function"
   ]
  },
  {
   "cell_type": "code",
   "execution_count": 7,
   "id": "141edbac",
   "metadata": {},
   "outputs": [
    {
     "data": {
      "text/plain": [
       "[[0, 1, 2, 3, 4, 5, 6, 7, 8, 9],\n",
       " [10, 11, 12, 13, 14, 15, 16, 17, 18, 19],\n",
       " [20, 21, 22, 23, 24]]"
      ]
     },
     "execution_count": 7,
     "metadata": {},
     "output_type": "execute_result"
    }
   ],
   "source": [
    "num_sentence_chunk_size = 10\n",
    "\n",
    "## chunking function\n",
    "def split_list(input_list : list[str],\n",
    "               slice_size : int= num_sentence_chunk_size) -> list[list[str]]:\n",
    "    return [input_list[i:i + slice_size] for i in range(0, len(input_list), slice_size)]\n",
    "\n",
    "#to check if the function works apporpiately\n",
    "test_list = list(range(25))\n",
    "split_list(test_list)"
   ]
  },
  {
   "cell_type": "code",
   "execution_count": 8,
   "id": "a9825443",
   "metadata": {},
   "outputs": [
    {
     "data": {
      "application/vnd.jupyter.widget-view+json": {
       "model_id": "f95fdd01338547b7a87b1ad45e290557",
       "version_major": 2,
       "version_minor": 0
      },
      "text/plain": [
       "  0%|          | 0/1208 [00:00<?, ?it/s]"
      ]
     },
     "metadata": {},
     "output_type": "display_data"
    },
    {
     "name": "stdout",
     "output_type": "stream",
     "text": [
      "after chunking:\n"
     ]
    },
    {
     "data": {
      "text/plain": [
       "[{'page_number': 250,\n",
       "  'page_char_count': 1641,\n",
       "  'page_word_count': 313,\n",
       "  'page_sentence_count': 13,\n",
       "  'page_token_count': 410.25,\n",
       "  'text': 'Pretzels  83  White bread  70  White rice  72  Bagel  72  Rice milk  86  Cheerios  74  Raisin Bran  73  Fruit roll-up  99  Gatorade  78  For  the  Glycemic  Index  on  different  foods,  visit  http://www.mendosa.com/gilists.htm.  The type of carbohydrate within a food affects the GI along with  its fat and fiber content. Increased fat and fiber in foods increases  the time required for digestion and delays the rate of gastric  emptying into the small intestine which, ultimately reduces the GI.  Processing and cooking also affects a food’s GI by increasing their  digestibility. Advancements in the technologies of food processing  and the high consumer demand for convenient, precooked foods in  the United States has created foods that are digested and absorbed  more rapidly, independent of the fiber content. Modern breakfast  cereals, breads, pastas, and many prepared foods have a high GI.  In contrast, most raw foods have a lower GI. (However, the more  ripened a fruit or vegetable is, the higher its GI.)  The GI can be used as a guide for choosing healthier carbohydrate  choices but has some limitations. The first is GI does not take into  account the amount of carbohydrates in a portion of food, only the  type of carbohydrate. Another is that combining low- and high-GI  foods changes the GI for the meal. Also, some nutrient-dense foods  have higher GIs than less nutritious food. (For instance, oatmeal has  a higher GI than chocolate because the fat content of chocolate is  higher.) Lastly, meats and fats do not have a GI since they do not  contain carbohydrates.  250  |  Digestion and Absorption of Carbohydrates',\n",
       "  'sentences': ['Pretzels  83  White bread  70  White rice  72  Bagel  72  Rice milk  86  Cheerios  74  Raisin Bran  73  Fruit roll-up  99  Gatorade  78  For  the  Glycemic  Index  on  different  foods,  visit  http://www.mendosa.com/gilists.htm.',\n",
       "   ' The type of carbohydrate within a food affects the GI along with  its fat and fiber content.',\n",
       "   'Increased fat and fiber in foods increases  the time required for digestion and delays the rate of gastric  emptying into the small intestine which, ultimately reduces the GI.',\n",
       "   ' Processing and cooking also affects a food’s GI by increasing their  digestibility.',\n",
       "   'Advancements in the technologies of food processing  and the high consumer demand for convenient, precooked foods in  the United States has created foods that are digested and absorbed  more rapidly, independent of the fiber content.',\n",
       "   'Modern breakfast  cereals, breads, pastas, and many prepared foods have a high GI.',\n",
       "   ' In contrast, most raw foods have a lower GI. (',\n",
       "   'However, the more  ripened a fruit or vegetable is, the higher its GI.)',\n",
       "   ' The GI can be used as a guide for choosing healthier carbohydrate  choices but has some limitations.',\n",
       "   'The first is GI does not take into  account the amount of carbohydrates in a portion of food, only the  type of carbohydrate.',\n",
       "   'Another is that combining low- and high-GI  foods changes the GI for the meal.',\n",
       "   'Also, some nutrient-dense foods  have higher GIs than less nutritious food. (',\n",
       "   'For instance, oatmeal has  a higher GI than chocolate because the fat content of chocolate is  higher.)',\n",
       "   'Lastly, meats and fats do not have a GI since they do not  contain carbohydrates.',\n",
       "   ' 250  |  Digestion and Absorption of Carbohydrates'],\n",
       "  'page_sentence_count_spacy': 15,\n",
       "  'sentence_chunks': [['Pretzels  83  White bread  70  White rice  72  Bagel  72  Rice milk  86  Cheerios  74  Raisin Bran  73  Fruit roll-up  99  Gatorade  78  For  the  Glycemic  Index  on  different  foods,  visit  http://www.mendosa.com/gilists.htm.',\n",
       "    ' The type of carbohydrate within a food affects the GI along with  its fat and fiber content.',\n",
       "    'Increased fat and fiber in foods increases  the time required for digestion and delays the rate of gastric  emptying into the small intestine which, ultimately reduces the GI.',\n",
       "    ' Processing and cooking also affects a food’s GI by increasing their  digestibility.',\n",
       "    'Advancements in the technologies of food processing  and the high consumer demand for convenient, precooked foods in  the United States has created foods that are digested and absorbed  more rapidly, independent of the fiber content.',\n",
       "    'Modern breakfast  cereals, breads, pastas, and many prepared foods have a high GI.',\n",
       "    ' In contrast, most raw foods have a lower GI. (',\n",
       "    'However, the more  ripened a fruit or vegetable is, the higher its GI.)',\n",
       "    ' The GI can be used as a guide for choosing healthier carbohydrate  choices but has some limitations.',\n",
       "    'The first is GI does not take into  account the amount of carbohydrates in a portion of food, only the  type of carbohydrate.'],\n",
       "   ['Another is that combining low- and high-GI  foods changes the GI for the meal.',\n",
       "    'Also, some nutrient-dense foods  have higher GIs than less nutritious food. (',\n",
       "    'For instance, oatmeal has  a higher GI than chocolate because the fat content of chocolate is  higher.)',\n",
       "    'Lastly, meats and fats do not have a GI since they do not  contain carbohydrates.',\n",
       "    ' 250  |  Digestion and Absorption of Carbohydrates']],\n",
       "  'num_chunks': 2}]"
      ]
     },
     "metadata": {},
     "output_type": "display_data"
    },
    {
     "data": {
      "text/html": [
       "<div>\n",
       "<style scoped>\n",
       "    .dataframe tbody tr th:only-of-type {\n",
       "        vertical-align: middle;\n",
       "    }\n",
       "\n",
       "    .dataframe tbody tr th {\n",
       "        vertical-align: top;\n",
       "    }\n",
       "\n",
       "    .dataframe thead th {\n",
       "        text-align: right;\n",
       "    }\n",
       "</style>\n",
       "<table border=\"1\" class=\"dataframe\">\n",
       "  <thead>\n",
       "    <tr style=\"text-align: right;\">\n",
       "      <th></th>\n",
       "      <th>page_number</th>\n",
       "      <th>page_char_count</th>\n",
       "      <th>page_word_count</th>\n",
       "      <th>page_sentence_count</th>\n",
       "      <th>page_token_count</th>\n",
       "      <th>text</th>\n",
       "      <th>sentences</th>\n",
       "      <th>page_sentence_count_spacy</th>\n",
       "      <th>sentence_chunks</th>\n",
       "      <th>num_chunks</th>\n",
       "    </tr>\n",
       "  </thead>\n",
       "  <tbody>\n",
       "    <tr>\n",
       "      <th>0</th>\n",
       "      <td>-41</td>\n",
       "      <td>29</td>\n",
       "      <td>4</td>\n",
       "      <td>1</td>\n",
       "      <td>7.25</td>\n",
       "      <td>Human Nutrition: 2020 Edition</td>\n",
       "      <td>[Human Nutrition: 2020 Edition]</td>\n",
       "      <td>1</td>\n",
       "      <td>[[Human Nutrition: 2020 Edition]]</td>\n",
       "      <td>1</td>\n",
       "    </tr>\n",
       "    <tr>\n",
       "      <th>1</th>\n",
       "      <td>-40</td>\n",
       "      <td>0</td>\n",
       "      <td>1</td>\n",
       "      <td>1</td>\n",
       "      <td>0.00</td>\n",
       "      <td></td>\n",
       "      <td>[]</td>\n",
       "      <td>0</td>\n",
       "      <td>[]</td>\n",
       "      <td>0</td>\n",
       "    </tr>\n",
       "    <tr>\n",
       "      <th>2</th>\n",
       "      <td>-39</td>\n",
       "      <td>320</td>\n",
       "      <td>54</td>\n",
       "      <td>1</td>\n",
       "      <td>80.00</td>\n",
       "      <td>Human Nutrition: 2020  Edition  UNIVERSITY OF ...</td>\n",
       "      <td>[Human Nutrition: 2020  Edition  UNIVERSITY OF...</td>\n",
       "      <td>1</td>\n",
       "      <td>[[Human Nutrition: 2020  Edition  UNIVERSITY O...</td>\n",
       "      <td>1</td>\n",
       "    </tr>\n",
       "    <tr>\n",
       "      <th>3</th>\n",
       "      <td>-38</td>\n",
       "      <td>212</td>\n",
       "      <td>32</td>\n",
       "      <td>1</td>\n",
       "      <td>53.00</td>\n",
       "      <td>Human Nutrition: 2020 Edition by University of...</td>\n",
       "      <td>[Human Nutrition: 2020 Edition by University o...</td>\n",
       "      <td>1</td>\n",
       "      <td>[[Human Nutrition: 2020 Edition by University ...</td>\n",
       "      <td>1</td>\n",
       "    </tr>\n",
       "    <tr>\n",
       "      <th>4</th>\n",
       "      <td>-37</td>\n",
       "      <td>797</td>\n",
       "      <td>145</td>\n",
       "      <td>2</td>\n",
       "      <td>199.25</td>\n",
       "      <td>Contents  Preface  University of Hawai‘i at Mā...</td>\n",
       "      <td>[Contents  Preface  University of Hawai‘i at M...</td>\n",
       "      <td>2</td>\n",
       "      <td>[[Contents  Preface  University of Hawai‘i at ...</td>\n",
       "      <td>1</td>\n",
       "    </tr>\n",
       "  </tbody>\n",
       "</table>\n",
       "</div>"
      ],
      "text/plain": [
       "   page_number  page_char_count  page_word_count  page_sentence_count  \\\n",
       "0          -41               29                4                    1   \n",
       "1          -40                0                1                    1   \n",
       "2          -39              320               54                    1   \n",
       "3          -38              212               32                    1   \n",
       "4          -37              797              145                    2   \n",
       "\n",
       "   page_token_count                                               text  \\\n",
       "0              7.25                      Human Nutrition: 2020 Edition   \n",
       "1              0.00                                                      \n",
       "2             80.00  Human Nutrition: 2020  Edition  UNIVERSITY OF ...   \n",
       "3             53.00  Human Nutrition: 2020 Edition by University of...   \n",
       "4            199.25  Contents  Preface  University of Hawai‘i at Mā...   \n",
       "\n",
       "                                           sentences  \\\n",
       "0                    [Human Nutrition: 2020 Edition]   \n",
       "1                                                 []   \n",
       "2  [Human Nutrition: 2020  Edition  UNIVERSITY OF...   \n",
       "3  [Human Nutrition: 2020 Edition by University o...   \n",
       "4  [Contents  Preface  University of Hawai‘i at M...   \n",
       "\n",
       "   page_sentence_count_spacy  \\\n",
       "0                          1   \n",
       "1                          0   \n",
       "2                          1   \n",
       "3                          1   \n",
       "4                          2   \n",
       "\n",
       "                                     sentence_chunks  num_chunks  \n",
       "0                  [[Human Nutrition: 2020 Edition]]           1  \n",
       "1                                                 []           0  \n",
       "2  [[Human Nutrition: 2020  Edition  UNIVERSITY O...           1  \n",
       "3  [[Human Nutrition: 2020 Edition by University ...           1  \n",
       "4  [[Contents  Preface  University of Hawai‘i at ...           1  "
      ]
     },
     "metadata": {},
     "output_type": "display_data"
    },
    {
     "data": {
      "text/html": [
       "<div>\n",
       "<style scoped>\n",
       "    .dataframe tbody tr th:only-of-type {\n",
       "        vertical-align: middle;\n",
       "    }\n",
       "\n",
       "    .dataframe tbody tr th {\n",
       "        vertical-align: top;\n",
       "    }\n",
       "\n",
       "    .dataframe thead th {\n",
       "        text-align: right;\n",
       "    }\n",
       "</style>\n",
       "<table border=\"1\" class=\"dataframe\">\n",
       "  <thead>\n",
       "    <tr style=\"text-align: right;\">\n",
       "      <th></th>\n",
       "      <th>page_number</th>\n",
       "      <th>page_char_count</th>\n",
       "      <th>page_word_count</th>\n",
       "      <th>page_sentence_count</th>\n",
       "      <th>page_token_count</th>\n",
       "      <th>page_sentence_count_spacy</th>\n",
       "      <th>num_chunks</th>\n",
       "    </tr>\n",
       "  </thead>\n",
       "  <tbody>\n",
       "    <tr>\n",
       "      <th>count</th>\n",
       "      <td>1208.00</td>\n",
       "      <td>1208.00</td>\n",
       "      <td>1208.00</td>\n",
       "      <td>1208.00</td>\n",
       "      <td>1208.00</td>\n",
       "      <td>1208.00</td>\n",
       "      <td>1208.00</td>\n",
       "    </tr>\n",
       "    <tr>\n",
       "      <th>mean</th>\n",
       "      <td>562.50</td>\n",
       "      <td>1148.00</td>\n",
       "      <td>198.30</td>\n",
       "      <td>9.97</td>\n",
       "      <td>287.00</td>\n",
       "      <td>10.32</td>\n",
       "      <td>1.53</td>\n",
       "    </tr>\n",
       "    <tr>\n",
       "      <th>std</th>\n",
       "      <td>348.86</td>\n",
       "      <td>560.38</td>\n",
       "      <td>95.76</td>\n",
       "      <td>6.19</td>\n",
       "      <td>140.10</td>\n",
       "      <td>6.30</td>\n",
       "      <td>0.64</td>\n",
       "    </tr>\n",
       "    <tr>\n",
       "      <th>min</th>\n",
       "      <td>-41.00</td>\n",
       "      <td>0.00</td>\n",
       "      <td>1.00</td>\n",
       "      <td>1.00</td>\n",
       "      <td>0.00</td>\n",
       "      <td>0.00</td>\n",
       "      <td>0.00</td>\n",
       "    </tr>\n",
       "    <tr>\n",
       "      <th>25%</th>\n",
       "      <td>260.75</td>\n",
       "      <td>762.00</td>\n",
       "      <td>134.00</td>\n",
       "      <td>4.00</td>\n",
       "      <td>190.50</td>\n",
       "      <td>5.00</td>\n",
       "      <td>1.00</td>\n",
       "    </tr>\n",
       "    <tr>\n",
       "      <th>50%</th>\n",
       "      <td>562.50</td>\n",
       "      <td>1231.50</td>\n",
       "      <td>214.50</td>\n",
       "      <td>10.00</td>\n",
       "      <td>307.88</td>\n",
       "      <td>10.00</td>\n",
       "      <td>1.00</td>\n",
       "    </tr>\n",
       "    <tr>\n",
       "      <th>75%</th>\n",
       "      <td>864.25</td>\n",
       "      <td>1603.50</td>\n",
       "      <td>271.00</td>\n",
       "      <td>14.00</td>\n",
       "      <td>400.88</td>\n",
       "      <td>15.00</td>\n",
       "      <td>2.00</td>\n",
       "    </tr>\n",
       "    <tr>\n",
       "      <th>max</th>\n",
       "      <td>1166.00</td>\n",
       "      <td>2308.00</td>\n",
       "      <td>429.00</td>\n",
       "      <td>32.00</td>\n",
       "      <td>577.00</td>\n",
       "      <td>28.00</td>\n",
       "      <td>3.00</td>\n",
       "    </tr>\n",
       "  </tbody>\n",
       "</table>\n",
       "</div>"
      ],
      "text/plain": [
       "       page_number  page_char_count  page_word_count  page_sentence_count  \\\n",
       "count      1208.00          1208.00          1208.00              1208.00   \n",
       "mean        562.50          1148.00           198.30                 9.97   \n",
       "std         348.86           560.38            95.76                 6.19   \n",
       "min         -41.00             0.00             1.00                 1.00   \n",
       "25%         260.75           762.00           134.00                 4.00   \n",
       "50%         562.50          1231.50           214.50                10.00   \n",
       "75%         864.25          1603.50           271.00                14.00   \n",
       "max        1166.00          2308.00           429.00                32.00   \n",
       "\n",
       "       page_token_count  page_sentence_count_spacy  num_chunks  \n",
       "count           1208.00                    1208.00     1208.00  \n",
       "mean             287.00                      10.32        1.53  \n",
       "std              140.10                       6.30        0.64  \n",
       "min                0.00                       0.00        0.00  \n",
       "25%              190.50                       5.00        1.00  \n",
       "50%              307.88                      10.00        1.00  \n",
       "75%              400.88                      15.00        2.00  \n",
       "max              577.00                      28.00        3.00  "
      ]
     },
     "metadata": {},
     "output_type": "display_data"
    }
   ],
   "source": [
    "for item in tqdm(pages_and_texts):\n",
    "    item[\"sentence_chunks\"]=split_list(item[\"sentences\"])\n",
    "    item[\"num_chunks\"] = len(item[\"sentence_chunks\"])\n",
    "    \n",
    "print(f\"after chunking:\")\n",
    "display(random.sample(pages_and_texts, k=1))\n",
    "df = pd.DataFrame(pages_and_texts)\n",
    "display(df.head())\n",
    "display(df.describe().round(2))"
   ]
  },
  {
   "cell_type": "markdown",
   "id": "186a7fda",
   "metadata": {},
   "source": [
    "### 1.2.2 groupby page[chunk]"
   ]
  },
  {
   "cell_type": "code",
   "execution_count": 9,
   "id": "1d04627d",
   "metadata": {},
   "outputs": [
    {
     "data": {
      "application/vnd.jupyter.widget-view+json": {
       "model_id": "7841727ed3644741bcb6e59c23e3364e",
       "version_major": 2,
       "version_minor": 0
      },
      "text/plain": [
       "  0%|          | 0/1208 [00:00<?, ?it/s]"
      ]
     },
     "metadata": {},
     "output_type": "display_data"
    },
    {
     "data": {
      "text/plain": [
       "1843"
      ]
     },
     "execution_count": 9,
     "metadata": {},
     "output_type": "execute_result"
    }
   ],
   "source": [
    "\n",
    "import re\n",
    "\n",
    "# Split each chunk into its own item\n",
    "pages_and_chunks = []\n",
    "for item in tqdm(pages_and_texts):\n",
    "    for sentence_chunk in item[\"sentence_chunks\"]:\n",
    "        chunk_dict = {}\n",
    "        chunk_dict[\"page_number\"] = item[\"page_number\"]\n",
    "        \n",
    "        #Join the sentences together into a paragraph-like structure, i.e. join the list of sentence into one paragraph\n",
    "        # list to string\n",
    "        joined_sentences_chunk = \"\".join(sentence_chunk).replace(\"  \",\" \").strip()\n",
    "        joined_sentences_chunk = re.sub(r'\\.([A-Z])', r'. \\1', joined_sentences_chunk) # \".A\" to \". A\"\n",
    "\n",
    "        chunk_dict[\"sentence_chunk\"] = joined_sentences_chunk\n",
    "        \n",
    "        chunk_dict[\"chunk_char_count\"] = len(joined_sentences_chunk)\n",
    "        chunk_dict[\"chunk_word_count\"] = len([word for word in joined_sentences_chunk.split(\" \")])\n",
    "        chunk_dict[\"chunk_token_count\"] = len(joined_sentences_chunk)/4     # Rough estimate of tokens\n",
    "        \n",
    "        pages_and_chunks.append(chunk_dict)\n",
    "        \n",
    "len(pages_and_chunks)\n",
    "        "
   ]
  },
  {
   "cell_type": "code",
   "execution_count": 10,
   "id": "d93bdbf0",
   "metadata": {},
   "outputs": [
    {
     "data": {
      "text/html": [
       "<div>\n",
       "<style scoped>\n",
       "    .dataframe tbody tr th:only-of-type {\n",
       "        vertical-align: middle;\n",
       "    }\n",
       "\n",
       "    .dataframe tbody tr th {\n",
       "        vertical-align: top;\n",
       "    }\n",
       "\n",
       "    .dataframe thead th {\n",
       "        text-align: right;\n",
       "    }\n",
       "</style>\n",
       "<table border=\"1\" class=\"dataframe\">\n",
       "  <thead>\n",
       "    <tr style=\"text-align: right;\">\n",
       "      <th></th>\n",
       "      <th>page_number</th>\n",
       "      <th>chunk_char_count</th>\n",
       "      <th>chunk_word_count</th>\n",
       "      <th>chunk_token_count</th>\n",
       "    </tr>\n",
       "  </thead>\n",
       "  <tbody>\n",
       "    <tr>\n",
       "      <th>count</th>\n",
       "      <td>1843.00</td>\n",
       "      <td>1843.00</td>\n",
       "      <td>1843.00</td>\n",
       "      <td>1843.00</td>\n",
       "    </tr>\n",
       "    <tr>\n",
       "      <th>mean</th>\n",
       "      <td>583.38</td>\n",
       "      <td>734.44</td>\n",
       "      <td>112.33</td>\n",
       "      <td>183.61</td>\n",
       "    </tr>\n",
       "    <tr>\n",
       "      <th>std</th>\n",
       "      <td>347.79</td>\n",
       "      <td>447.54</td>\n",
       "      <td>71.22</td>\n",
       "      <td>111.89</td>\n",
       "    </tr>\n",
       "    <tr>\n",
       "      <th>min</th>\n",
       "      <td>-41.00</td>\n",
       "      <td>12.00</td>\n",
       "      <td>3.00</td>\n",
       "      <td>3.00</td>\n",
       "    </tr>\n",
       "    <tr>\n",
       "      <th>25%</th>\n",
       "      <td>280.50</td>\n",
       "      <td>315.00</td>\n",
       "      <td>44.00</td>\n",
       "      <td>78.75</td>\n",
       "    </tr>\n",
       "    <tr>\n",
       "      <th>50%</th>\n",
       "      <td>586.00</td>\n",
       "      <td>746.00</td>\n",
       "      <td>114.00</td>\n",
       "      <td>186.50</td>\n",
       "    </tr>\n",
       "    <tr>\n",
       "      <th>75%</th>\n",
       "      <td>890.00</td>\n",
       "      <td>1118.50</td>\n",
       "      <td>173.00</td>\n",
       "      <td>279.62</td>\n",
       "    </tr>\n",
       "    <tr>\n",
       "      <th>max</th>\n",
       "      <td>1166.00</td>\n",
       "      <td>1831.00</td>\n",
       "      <td>297.00</td>\n",
       "      <td>457.75</td>\n",
       "    </tr>\n",
       "  </tbody>\n",
       "</table>\n",
       "</div>"
      ],
      "text/plain": [
       "       page_number  chunk_char_count  chunk_word_count  chunk_token_count\n",
       "count      1843.00           1843.00           1843.00            1843.00\n",
       "mean        583.38            734.44            112.33             183.61\n",
       "std         347.79            447.54             71.22             111.89\n",
       "min         -41.00             12.00              3.00               3.00\n",
       "25%         280.50            315.00             44.00              78.75\n",
       "50%         586.00            746.00            114.00             186.50\n",
       "75%         890.00           1118.50            173.00             279.62\n",
       "max        1166.00           1831.00            297.00             457.75"
      ]
     },
     "execution_count": 10,
     "metadata": {},
     "output_type": "execute_result"
    }
   ],
   "source": [
    "df= pd.DataFrame(pages_and_chunks)\n",
    "df.head()\n",
    "df.describe().round(2)"
   ]
  },
  {
   "cell_type": "code",
   "execution_count": 11,
   "id": "e9dbd2e2",
   "metadata": {},
   "outputs": [
    {
     "name": "stdout",
     "output_type": "stream",
     "text": [
      "chunk token: 9.75 ||sentence chunk: Older Adulthood: The Golden Years | 925\n",
      "chunk token: 16.0 ||sentence chunk: Accessed January 20, 2018. 1032 | The Effect of New Technologies\n",
      "chunk token: 12.75 ||sentence chunk: PART VI CHAPTER 6. PROTEIN Chapter 6. Protein | 357\n",
      "chunk token: 7.0 ||sentence chunk: Water-Soluble Vitamins | 553\n",
      "chunk token: 11.25 ||sentence chunk: Accessed March 17, 2011. 212 | Water Concerns\n"
     ]
    }
   ],
   "source": [
    "min_token_length = 30\n",
    "## almost all of the chunks with under 30 tokens are not useful\n",
    "for row in df[df[\"chunk_token_count\"]< min_token_length].sample(5).iterrows():\n",
    "    print(f\"chunk token: {row[1]['chunk_token_count']} ||sentence chunk: {row[1]['sentence_chunk']}\")"
   ]
  },
  {
   "cell_type": "markdown",
   "id": "53ddceae",
   "metadata": {},
   "source": [
    "### 1.2.3 filter out the chunks with under 30 tokens"
   ]
  },
  {
   "cell_type": "code",
   "execution_count": 12,
   "id": "243ca8ba",
   "metadata": {},
   "outputs": [
    {
     "data": {
      "text/plain": [
       "[{'page_number': -39,\n",
       "  'sentence_chunk': 'Human Nutrition: 2020 Edition UNIVERSITY OF HAWAI‘I AT MĀNOA FOOD SCIENCE AND HUMAN NUTRITION PROGRAM ALAN TITCHENAL, SKYLAR HARA, NOEMI ARCEO CAACBAY, WILLIAM MEINKE-LAU, YA-YUN YANG, MARIE KAINOA FIALKOWSKI REVILLA, JENNIFER DRAPER, GEMADY LANGFELDER, CHERYL GIBBY, CHYNA NICOLE CHUN, AND ALLISON CALABRESE',\n",
       "  'chunk_char_count': 308,\n",
       "  'chunk_word_count': 42,\n",
       "  'chunk_token_count': 77.0},\n",
       " {'page_number': -38,\n",
       "  'sentence_chunk': 'Human Nutrition: 2020 Edition by University of Hawai‘i at Mānoa Food Science and Human Nutrition Program is licensed under a Creative Commons Attribution 4.0 International License, except where otherwise noted.',\n",
       "  'chunk_char_count': 210,\n",
       "  'chunk_word_count': 30,\n",
       "  'chunk_token_count': 52.5}]"
      ]
     },
     "metadata": {},
     "output_type": "display_data"
    },
    {
     "data": {
      "text/plain": [
       "[{'page_number': 766,\n",
       "  'sentence_chunk': 'Note: There may be a few foods that do not fall in either of the 3 food groups, which the SPC regards as not essential or needed in significant amounts to achieve healthy eating. The recommendations for these miscellaneous food items are to “Eat Less” of, but not necessarily to avoid completely as they may have cultural and traditional value. Such food items will have this pin. To learn more about how to use the Pacific Food Guide visit http://manoa.hawaii.edu/ctahr/pacificfoodguide/index.php/ nutritional-guidelines/how-to-use-the-guide/ Learning Activities Technology Note: The second edition of the Human Nutrition Open Educational Resource (OER) textbook features interactive learning activities.\\xa0 These activities are available in the web-based textbook and not available in the downloadable versions (EPUB, Digital PDF, Print_PDF, or Open Document). Learning activities may be used across various mobile devices, however, for the best user experience it is strongly recommended that users complete these activities using a desktop or laptop computer and in Google Chrome. \\xa0 766 | Pacific Based Dietary Guidelines',\n",
       "  'chunk_char_count': 1123,\n",
       "  'chunk_word_count': 164,\n",
       "  'chunk_token_count': 280.75}]"
      ]
     },
     "execution_count": 12,
     "metadata": {},
     "output_type": "execute_result"
    }
   ],
   "source": [
    "\n",
    "pages_and_chunks_over_min_token_length = df[df[\"chunk_token_count\"] >= min_token_length].to_dict(orient=\"records\")\n",
    "display(pages_and_chunks_over_min_token_length[:2])\n",
    "random.sample(pages_and_chunks_over_min_token_length, k=1)"
   ]
  },
  {
   "cell_type": "code",
   "execution_count": null,
   "id": "7706fa89",
   "metadata": {},
   "outputs": [],
   "source": []
  },
  {
   "cell_type": "markdown",
   "id": "cc005a56",
   "metadata": {},
   "source": [
    "## 1.3 Embedding the sentence"
   ]
  },
  {
   "cell_type": "markdown",
   "id": "f59f515e",
   "metadata": {},
   "source": [
    "#### 1.3.1 Embedding model download "
   ]
  },
  {
   "cell_type": "code",
   "execution_count": 13,
   "id": "58083abb",
   "metadata": {},
   "outputs": [
    {
     "name": "stderr",
     "output_type": "stream",
     "text": [
      "/Users/yaukahei/anaconda3/lib/python3.11/site-packages/torchvision/io/image.py:13: UserWarning: Failed to load image Python extension: 'dlopen(/Users/yaukahei/anaconda3/lib/python3.11/site-packages/torchvision/image.so, 0x0006): Symbol not found: __ZN3c1017RegisterOperatorsD1Ev\n",
      "  Referenced from: /Users/yaukahei/anaconda3/lib/python3.11/site-packages/torchvision/image.so\n",
      "  Expected in: /Users/yaukahei/anaconda3/lib/python3.11/site-packages/torch/lib/libtorch_cpu.dylib'If you don't plan on using image functionality from `torchvision.io`, you can ignore this warning. Otherwise, there might be something wrong with your environment. Did you have `libjpeg` or `libpng` installed before building `torchvision` from source?\n",
      "  warn(\n"
     ]
    },
    {
     "data": {
      "application/vnd.jupyter.widget-view+json": {
       "model_id": "6ad0f2bca0864d61958bf3c9e316b623",
       "version_major": 2,
       "version_minor": 0
      },
      "text/plain": [
       "README.md: 0.00B [00:00, ?B/s]"
      ]
     },
     "metadata": {},
     "output_type": "display_data"
    }
   ],
   "source": [
    "import numpy as np\n",
    "from sentence_transformers import SentenceTransformer\n",
    "\n",
    "embedding_model = SentenceTransformer(model_name_or_path= \"all-mpnet-base-v2\", device=\"cpu\")\n"
   ]
  },
  {
   "cell_type": "code",
   "execution_count": 14,
   "id": "126a34f2",
   "metadata": {},
   "outputs": [
    {
     "name": "stdout",
     "output_type": "stream",
     "text": [
      "Sentence: This is a sentence.\n",
      "Embedding(first 5): [ 0.04461049 -0.01864093 -0.00090317  0.02639336 -0.04188507]\n",
      "Embedding shape: (768,)\n",
      "Sentence: This is another one.\n",
      "Embedding(first 5): [ 0.02019227  0.02981547  0.0016782  -0.04361513 -0.03454698]\n",
      "Embedding shape: (768,)\n",
      "Sentence: And this is the last one.\n",
      "Embedding(first 5): [ 0.01193432  0.03599298 -0.02380107 -0.02242428  0.02393363]\n",
      "Embedding shape: (768,)\n"
     ]
    }
   ],
   "source": [
    "\n",
    "sentences = [\"This is a sentence.\", \"This is another one.\", \"And this is the last one.\"]\n",
    "\n",
    "embeddings = embedding_model.encode(sentences)\n",
    "embeddings_dict = dict(zip(sentences, embeddings))\n",
    "\n",
    "for sentence, embedding in embeddings_dict.items():\n",
    "    print(f\"Sentence: {sentence}\")\n",
    "    print(f\"Embedding(first 5): {embedding[:5]}\")\n",
    "    print(f\"Embedding shape: {embedding.shape}\")"
   ]
  },
  {
   "cell_type": "code",
   "execution_count": 23,
   "id": "52a97500",
   "metadata": {},
   "outputs": [
    {
     "data": {
      "text/plain": [
       "(768,)"
      ]
     },
     "execution_count": 23,
     "metadata": {},
     "output_type": "execute_result"
    }
   ],
   "source": [
    "embeddings[0].shape"
   ]
  },
  {
   "cell_type": "markdown",
   "id": "237bc5a4",
   "metadata": {},
   "source": [
    "#### 1.3.2 Embedding chunks one by one with using CPU"
   ]
  },
  {
   "cell_type": "code",
   "execution_count": 27,
   "id": "b15bb55b",
   "metadata": {},
   "outputs": [
    {
     "data": {
      "application/vnd.jupyter.widget-view+json": {
       "model_id": "69eb0384821544f48e74753f44827d63",
       "version_major": 2,
       "version_minor": 0
      },
      "text/plain": [
       "  0%|          | 0/1680 [00:00<?, ?it/s]"
      ]
     },
     "metadata": {},
     "output_type": "display_data"
    },
    {
     "name": "stdout",
     "output_type": "stream",
     "text": [
      "CPU times: user 4min 13s, sys: 44.4 s, total: 4min 57s \n",
      " Wall time: 3min 30s\n"
     ]
    }
   ],
   "source": [
    "#%%time \n",
    "\n",
    "cpu_run = True\n",
    "\n",
    "if cpu_run:\n",
    "    embedding_model.to(\"cpu\")\n",
    "\n",
    "    for item in tqdm(pages_and_chunks_over_min_token_length):\n",
    "        item[\"embedding\"] = embedding_model.encode(item[\"sentence_chunk\"])\n",
    "        item[\"embedding_shape\"] = item[\"embedding\"].shape\n",
    "    \n",
    "print(\"CPU times: user 4min 13s, sys: 44.4 s, total: 4min 57s \\n Wall time: 3min 30s\")## on MacBook Pro M2 Pro 16GB RAM\n"
   ]
  },
  {
   "cell_type": "markdown",
   "id": "6bc723d7",
   "metadata": {},
   "source": [
    "\n",
    "#### 1.3.3 Save embeddings to file ( Don't run it if the embeddings is not ran above)\n"
   ]
  },
  {
   "cell_type": "code",
   "execution_count": 28,
   "id": "4a6585e0",
   "metadata": {},
   "outputs": [],
   "source": [
    "text_chunks_embeddings_df = pd.DataFrame(pages_and_chunks_over_min_token_length)\n",
    "embeddings_df_save_path = \"text_chunks_embeddings_df.csv\"\n",
    "text_chunks_embeddings_df.to_csv(embeddings_df_save_path, index=False)\n"
   ]
  },
  {
   "cell_type": "code",
   "execution_count": 29,
   "id": "ff24b784",
   "metadata": {},
   "outputs": [
    {
     "data": {
      "text/html": [
       "<div>\n",
       "<style scoped>\n",
       "    .dataframe tbody tr th:only-of-type {\n",
       "        vertical-align: middle;\n",
       "    }\n",
       "\n",
       "    .dataframe tbody tr th {\n",
       "        vertical-align: top;\n",
       "    }\n",
       "\n",
       "    .dataframe thead th {\n",
       "        text-align: right;\n",
       "    }\n",
       "</style>\n",
       "<table border=\"1\" class=\"dataframe\">\n",
       "  <thead>\n",
       "    <tr style=\"text-align: right;\">\n",
       "      <th></th>\n",
       "      <th>page_number</th>\n",
       "      <th>sentence_chunk</th>\n",
       "      <th>chunk_char_count</th>\n",
       "      <th>chunk_word_count</th>\n",
       "      <th>chunk_token_count</th>\n",
       "      <th>embedding</th>\n",
       "      <th>embedding_shape</th>\n",
       "    </tr>\n",
       "  </thead>\n",
       "  <tbody>\n",
       "    <tr>\n",
       "      <th>0</th>\n",
       "      <td>-39</td>\n",
       "      <td>Human Nutrition: 2020 Edition UNIVERSITY OF HA...</td>\n",
       "      <td>308</td>\n",
       "      <td>42</td>\n",
       "      <td>77.00</td>\n",
       "      <td>[ 6.74242675e-02  9.02280584e-02 -5.09552285e-...</td>\n",
       "      <td>(768,)</td>\n",
       "    </tr>\n",
       "    <tr>\n",
       "      <th>1</th>\n",
       "      <td>-38</td>\n",
       "      <td>Human Nutrition: 2020 Edition by University of...</td>\n",
       "      <td>210</td>\n",
       "      <td>30</td>\n",
       "      <td>52.50</td>\n",
       "      <td>[ 5.52155972e-02  5.92137724e-02 -1.66167505e-...</td>\n",
       "      <td>(768,)</td>\n",
       "    </tr>\n",
       "    <tr>\n",
       "      <th>2</th>\n",
       "      <td>-37</td>\n",
       "      <td>Contents Preface University of Hawai‘i at Māno...</td>\n",
       "      <td>766</td>\n",
       "      <td>114</td>\n",
       "      <td>191.50</td>\n",
       "      <td>[ 2.79801637e-02  3.39813568e-02 -2.06427071e-...</td>\n",
       "      <td>(768,)</td>\n",
       "    </tr>\n",
       "    <tr>\n",
       "      <th>3</th>\n",
       "      <td>-36</td>\n",
       "      <td>Lifestyles and Nutrition University of Hawai‘i...</td>\n",
       "      <td>941</td>\n",
       "      <td>142</td>\n",
       "      <td>235.25</td>\n",
       "      <td>[ 6.82567060e-02  3.81274000e-02 -8.46859720e-...</td>\n",
       "      <td>(768,)</td>\n",
       "    </tr>\n",
       "    <tr>\n",
       "      <th>4</th>\n",
       "      <td>-35</td>\n",
       "      <td>The Cardiovascular System University of Hawai‘...</td>\n",
       "      <td>998</td>\n",
       "      <td>152</td>\n",
       "      <td>249.50</td>\n",
       "      <td>[ 3.30264121e-02 -8.49774759e-03  9.57154669e-...</td>\n",
       "      <td>(768,)</td>\n",
       "    </tr>\n",
       "  </tbody>\n",
       "</table>\n",
       "</div>"
      ],
      "text/plain": [
       "   page_number                                     sentence_chunk  \\\n",
       "0          -39  Human Nutrition: 2020 Edition UNIVERSITY OF HA...   \n",
       "1          -38  Human Nutrition: 2020 Edition by University of...   \n",
       "2          -37  Contents Preface University of Hawai‘i at Māno...   \n",
       "3          -36  Lifestyles and Nutrition University of Hawai‘i...   \n",
       "4          -35  The Cardiovascular System University of Hawai‘...   \n",
       "\n",
       "   chunk_char_count  chunk_word_count  chunk_token_count  \\\n",
       "0               308                42              77.00   \n",
       "1               210                30              52.50   \n",
       "2               766               114             191.50   \n",
       "3               941               142             235.25   \n",
       "4               998               152             249.50   \n",
       "\n",
       "                                           embedding embedding_shape  \n",
       "0  [ 6.74242675e-02  9.02280584e-02 -5.09552285e-...          (768,)  \n",
       "1  [ 5.52155972e-02  5.92137724e-02 -1.66167505e-...          (768,)  \n",
       "2  [ 2.79801637e-02  3.39813568e-02 -2.06427071e-...          (768,)  \n",
       "3  [ 6.82567060e-02  3.81274000e-02 -8.46859720e-...          (768,)  \n",
       "4  [ 3.30264121e-02 -8.49774759e-03  9.57154669e-...          (768,)  "
      ]
     },
     "execution_count": 29,
     "metadata": {},
     "output_type": "execute_result"
    }
   ],
   "source": [
    "# import saved file and view\n",
    "\n",
    "text_chunks_embeddings_df_load = pd.read_csv(embeddings_df_save_path)\n",
    "text_chunks_embeddings_df_load.head()\n",
    "\n",
    "\n",
    "# notice saving embeddings data to csv file may not be the best way, \n",
    "# in stead of doing that, vectors database is recommended when the data is large"
   ]
  },
  {
   "cell_type": "code",
   "execution_count": null,
   "id": "2834d2f2",
   "metadata": {},
   "outputs": [],
   "source": []
  },
  {
   "cell_type": "markdown",
   "id": "ad8fb0e9",
   "metadata": {},
   "source": [
    "# 2. RAG - Top relevant Search"
   ]
  },
  {
   "cell_type": "markdown",
   "id": "84c5365e",
   "metadata": {},
   "source": [
    "### 2.1 import data"
   ]
  },
  {
   "cell_type": "code",
   "execution_count": 31,
   "id": "58765021",
   "metadata": {},
   "outputs": [
    {
     "data": {
      "text/html": [
       "<div>\n",
       "<style scoped>\n",
       "    .dataframe tbody tr th:only-of-type {\n",
       "        vertical-align: middle;\n",
       "    }\n",
       "\n",
       "    .dataframe tbody tr th {\n",
       "        vertical-align: top;\n",
       "    }\n",
       "\n",
       "    .dataframe thead th {\n",
       "        text-align: right;\n",
       "    }\n",
       "</style>\n",
       "<table border=\"1\" class=\"dataframe\">\n",
       "  <thead>\n",
       "    <tr style=\"text-align: right;\">\n",
       "      <th></th>\n",
       "      <th>page_number</th>\n",
       "      <th>sentence_chunk</th>\n",
       "      <th>chunk_char_count</th>\n",
       "      <th>chunk_word_count</th>\n",
       "      <th>chunk_token_count</th>\n",
       "      <th>embedding</th>\n",
       "      <th>embedding_shape</th>\n",
       "    </tr>\n",
       "  </thead>\n",
       "  <tbody>\n",
       "    <tr>\n",
       "      <th>0</th>\n",
       "      <td>-39</td>\n",
       "      <td>Human Nutrition: 2020 Edition UNIVERSITY OF HA...</td>\n",
       "      <td>308</td>\n",
       "      <td>42</td>\n",
       "      <td>77.00</td>\n",
       "      <td>[0.06742427, 0.09022806, -0.005095523, -0.0317...</td>\n",
       "      <td>(768,)</td>\n",
       "    </tr>\n",
       "    <tr>\n",
       "      <th>1</th>\n",
       "      <td>-38</td>\n",
       "      <td>Human Nutrition: 2020 Edition by University of...</td>\n",
       "      <td>210</td>\n",
       "      <td>30</td>\n",
       "      <td>52.50</td>\n",
       "      <td>[0.055215597, 0.059213772, -0.01661675, -0.020...</td>\n",
       "      <td>(768,)</td>\n",
       "    </tr>\n",
       "    <tr>\n",
       "      <th>2</th>\n",
       "      <td>-37</td>\n",
       "      <td>Contents Preface University of Hawai‘i at Māno...</td>\n",
       "      <td>766</td>\n",
       "      <td>114</td>\n",
       "      <td>191.50</td>\n",
       "      <td>[0.027980164, 0.033981357, -0.020642707, 0.001...</td>\n",
       "      <td>(768,)</td>\n",
       "    </tr>\n",
       "    <tr>\n",
       "      <th>3</th>\n",
       "      <td>-36</td>\n",
       "      <td>Lifestyles and Nutrition University of Hawai‘i...</td>\n",
       "      <td>941</td>\n",
       "      <td>142</td>\n",
       "      <td>235.25</td>\n",
       "      <td>[0.068256706, 0.0381274, -0.008468597, -0.0181...</td>\n",
       "      <td>(768,)</td>\n",
       "    </tr>\n",
       "    <tr>\n",
       "      <th>4</th>\n",
       "      <td>-35</td>\n",
       "      <td>The Cardiovascular System University of Hawai‘...</td>\n",
       "      <td>998</td>\n",
       "      <td>152</td>\n",
       "      <td>249.50</td>\n",
       "      <td>[0.033026412, -0.008497748, 0.009571547, -0.00...</td>\n",
       "      <td>(768,)</td>\n",
       "    </tr>\n",
       "    <tr>\n",
       "      <th>...</th>\n",
       "      <td>...</td>\n",
       "      <td>...</td>\n",
       "      <td>...</td>\n",
       "      <td>...</td>\n",
       "      <td>...</td>\n",
       "      <td>...</td>\n",
       "      <td>...</td>\n",
       "    </tr>\n",
       "    <tr>\n",
       "      <th>1675</th>\n",
       "      <td>1164</td>\n",
       "      <td>Flashcard Images Note: Most images in the flas...</td>\n",
       "      <td>1305</td>\n",
       "      <td>176</td>\n",
       "      <td>326.25</td>\n",
       "      <td>[0.018562289, -0.016427929, -0.012704643, -0.0...</td>\n",
       "      <td>(768,)</td>\n",
       "    </tr>\n",
       "    <tr>\n",
       "      <th>1676</th>\n",
       "      <td>1164</td>\n",
       "      <td>Hazard Analysis Critical Control Points reused...</td>\n",
       "      <td>375</td>\n",
       "      <td>51</td>\n",
       "      <td>93.75</td>\n",
       "      <td>[0.033472236, -0.057044152, 0.015148944, -0.01...</td>\n",
       "      <td>(768,)</td>\n",
       "    </tr>\n",
       "    <tr>\n",
       "      <th>1677</th>\n",
       "      <td>1165</td>\n",
       "      <td>ShareAlike 11. Organs reused “Pancreas Organ A...</td>\n",
       "      <td>1286</td>\n",
       "      <td>173</td>\n",
       "      <td>321.50</td>\n",
       "      <td>[0.0770514, 0.009785434, -0.0121816965, 0.0010...</td>\n",
       "      <td>(768,)</td>\n",
       "    </tr>\n",
       "    <tr>\n",
       "      <th>1678</th>\n",
       "      <td>1165</td>\n",
       "      <td>Sucrose reused “Figure 03 02 05” by OpenStax B...</td>\n",
       "      <td>410</td>\n",
       "      <td>59</td>\n",
       "      <td>102.50</td>\n",
       "      <td>[0.10304509, -0.016470246, 0.00826844, 0.03779...</td>\n",
       "      <td>(768,)</td>\n",
       "    </tr>\n",
       "    <tr>\n",
       "      <th>1679</th>\n",
       "      <td>1166</td>\n",
       "      <td>23. Vitamin D reused “The Functions of Vitamin...</td>\n",
       "      <td>250</td>\n",
       "      <td>37</td>\n",
       "      <td>62.50</td>\n",
       "      <td>[0.086377226, -0.012535895, -0.011274752, 0.04...</td>\n",
       "      <td>(768,)</td>\n",
       "    </tr>\n",
       "  </tbody>\n",
       "</table>\n",
       "<p>1680 rows × 7 columns</p>\n",
       "</div>"
      ],
      "text/plain": [
       "      page_number                                     sentence_chunk  \\\n",
       "0             -39  Human Nutrition: 2020 Edition UNIVERSITY OF HA...   \n",
       "1             -38  Human Nutrition: 2020 Edition by University of...   \n",
       "2             -37  Contents Preface University of Hawai‘i at Māno...   \n",
       "3             -36  Lifestyles and Nutrition University of Hawai‘i...   \n",
       "4             -35  The Cardiovascular System University of Hawai‘...   \n",
       "...           ...                                                ...   \n",
       "1675         1164  Flashcard Images Note: Most images in the flas...   \n",
       "1676         1164  Hazard Analysis Critical Control Points reused...   \n",
       "1677         1165  ShareAlike 11. Organs reused “Pancreas Organ A...   \n",
       "1678         1165  Sucrose reused “Figure 03 02 05” by OpenStax B...   \n",
       "1679         1166  23. Vitamin D reused “The Functions of Vitamin...   \n",
       "\n",
       "      chunk_char_count  chunk_word_count  chunk_token_count  \\\n",
       "0                  308                42              77.00   \n",
       "1                  210                30              52.50   \n",
       "2                  766               114             191.50   \n",
       "3                  941               142             235.25   \n",
       "4                  998               152             249.50   \n",
       "...                ...               ...                ...   \n",
       "1675              1305               176             326.25   \n",
       "1676               375                51              93.75   \n",
       "1677              1286               173             321.50   \n",
       "1678               410                59             102.50   \n",
       "1679               250                37              62.50   \n",
       "\n",
       "                                              embedding embedding_shape  \n",
       "0     [0.06742427, 0.09022806, -0.005095523, -0.0317...          (768,)  \n",
       "1     [0.055215597, 0.059213772, -0.01661675, -0.020...          (768,)  \n",
       "2     [0.027980164, 0.033981357, -0.020642707, 0.001...          (768,)  \n",
       "3     [0.068256706, 0.0381274, -0.008468597, -0.0181...          (768,)  \n",
       "4     [0.033026412, -0.008497748, 0.009571547, -0.00...          (768,)  \n",
       "...                                                 ...             ...  \n",
       "1675  [0.018562289, -0.016427929, -0.012704643, -0.0...          (768,)  \n",
       "1676  [0.033472236, -0.057044152, 0.015148944, -0.01...          (768,)  \n",
       "1677  [0.0770514, 0.009785434, -0.0121816965, 0.0010...          (768,)  \n",
       "1678  [0.10304509, -0.016470246, 0.00826844, 0.03779...          (768,)  \n",
       "1679  [0.086377226, -0.012535895, -0.011274752, 0.04...          (768,)  \n",
       "\n",
       "[1680 rows x 7 columns]"
      ]
     },
     "execution_count": 31,
     "metadata": {},
     "output_type": "execute_result"
    }
   ],
   "source": [
    "text_chunks_embeddings_df"
   ]
  },
  {
   "cell_type": "code",
   "execution_count": 32,
   "id": "e5c4ad58",
   "metadata": {},
   "outputs": [
    {
     "name": "stdout",
     "output_type": "stream",
     "text": [
      "Using device: cpu\n",
      "embeddings : tensor([[ 0.0674,  0.0902, -0.0051,  ..., -0.0221, -0.0232,  0.0126],\n",
      "        [ 0.0552,  0.0592, -0.0166,  ..., -0.0120, -0.0103,  0.0227],\n",
      "        [ 0.0280,  0.0340, -0.0206,  ..., -0.0054,  0.0213,  0.0313],\n",
      "        ...,\n",
      "        [ 0.0771,  0.0098, -0.0122,  ..., -0.0409, -0.0752, -0.0241],\n",
      "        [ 0.1030, -0.0165,  0.0083,  ..., -0.0574, -0.0283, -0.0295],\n",
      "        [ 0.0864, -0.0125, -0.0113,  ..., -0.0522, -0.0337, -0.0299]])\n",
      "embeddings shape: torch.Size([1680, 768])\n"
     ]
    }
   ],
   "source": [
    "import random\n",
    "\n",
    "import torch\n",
    "import numpy as np\n",
    "import pandas as pd\n",
    "\n",
    "device = \"cuda\" if torch.cuda.is_available() else \"cpu\"\n",
    "print(f\"Using device: {device}\")\n",
    "\n",
    "# Load the embeddings from CSV file\n",
    "text_chunks_embeddings_df = pd.read_csv(\"text_chunks_embeddings_df.csv\")\n",
    "\n",
    "#Convert the embeddings from string representation to numpy arrays\n",
    "text_chunks_embeddings_df[\"embedding\"] = text_chunks_embeddings_df[\"embedding\"].apply(\n",
    "    lambda x: np.fromstring(x.strip(\"[]\"), sep=\" \").astype(np.float32)\n",
    ")\n",
    "\n",
    "embeddings = torch.tensor(np.stack(text_chunks_embeddings_df[\"embedding\"].tolist(), \n",
    "                      axis=0))\n",
    "\n",
    "\n",
    "print(f\"embeddings : {embeddings}\")\n",
    "print(f\"embeddings shape: {embeddings.shape}\")\n"
   ]
  },
  {
   "cell_type": "markdown",
   "id": "aed76518",
   "metadata": {},
   "source": [
    "### 2.2 loading embedding model and doing sematic search pipeline\n",
    "\n",
    "Doing sematic search pipeline with the following steps:\n",
    "1. define query\n",
    "2. embedding the query\n",
    "3. cosine similarity with text embeddings and query embedding\n",
    "4. find top k highest similarity from result"
   ]
  },
  {
   "cell_type": "code",
   "execution_count": 33,
   "id": "a3a713d1",
   "metadata": {},
   "outputs": [],
   "source": [
    "from sentence_transformers import SentenceTransformer, util\n",
    "\n",
    "try:\n",
    "    if embedding_model is None:\n",
    "        # Load the embedding model\n",
    "        embedding_model = SentenceTransformer(model_name_or_path= \"all-mpnet-base-v2\", device=device)\n",
    "except NameError:\n",
    "    embedding_model = SentenceTransformer(model_name_or_path= \"all-mpnet-base-v2\", device=device)\n"
   ]
  },
  {
   "cell_type": "code",
   "execution_count": 34,
   "id": "fbdd6a8c",
   "metadata": {},
   "outputs": [
    {
     "name": "stdout",
     "output_type": "stream",
     "text": [
      "Enter query: What is the role of carbohydrates in human nutrition?\n",
      "Query embedding shape: torch.Size([768])\n"
     ]
    }
   ],
   "source": [
    "query = \"What is the role of carbohydrates in human nutrition?\"\n",
    "query_embedding = embedding_model.encode(query, device=device, convert_to_tensor=True)\n",
    "\n",
    "print(f\"Enter query: {query}\")\n",
    "print(f\"Query embedding shape: {query_embedding.shape}\")\n"
   ]
  },
  {
   "cell_type": "code",
   "execution_count": 35,
   "id": "c8eb5aea",
   "metadata": {},
   "outputs": [
    {
     "name": "stdout",
     "output_type": "stream",
     "text": [
      "torch.Size([1680])\n",
      "top 5 results: tensor([389, 381, 390, 347,  41])\n",
      "CPU times: user 1.95 ms, sys: 2.83 ms, total: 4.78 ms\n",
      "Wall time: 8.35 ms\n"
     ]
    }
   ],
   "source": [
    "%%time\n",
    "\n",
    "k=5\n",
    "## Perform semantic search by dot product with no normalization\n",
    "\n",
    "dot_scores = util.dot_score(query_embedding, embeddings)[0]\n",
    "print(dot_scores.shape)\n",
    "\n",
    "top_k = torch.topk(dot_scores, k=k)\n",
    "print(f\"top {k} results: {top_k.indices}\")"
   ]
  },
  {
   "cell_type": "markdown",
   "id": "b6fe13e8",
   "metadata": {},
   "source": []
  },
  {
   "cell_type": "markdown",
   "id": "63ed7185",
   "metadata": {},
   "source": []
  },
  {
   "cell_type": "code",
   "execution_count": 36,
   "id": "62f47a36",
   "metadata": {},
   "outputs": [],
   "source": [
    "## checking local memoery\n",
    "import torch\n",
    "if torch.cuda.is_available():\n",
    "    torch.cuda.get_device_properties(0)"
   ]
  },
  {
   "cell_type": "code",
   "execution_count": 37,
   "id": "36c9b129",
   "metadata": {},
   "outputs": [
    {
     "name": "stdout",
     "output_type": "stream",
     "text": [
      "Processor: arm\n",
      "Machine: arm64\n",
      "Platform: macOS-12.4-arm64-arm-64bit\n",
      "CPU cores (physical): 8\n",
      "CPU cores (total): 8\n",
      "CPU frequency (MHz): <module 'psutil' from '/Users/yaukahei/anaconda3/lib/python3.11/site-packages/psutil/__init__.py'>\n"
     ]
    }
   ],
   "source": [
    "import platform\n",
    "import psutil\n",
    "\n",
    "print(\"Processor:\", platform.processor())\n",
    "print(\"Machine:\", platform.machine())\n",
    "print(\"Platform:\", platform.platform())\n",
    "print(\"CPU cores (physical):\", psutil.cpu_count(logical=False))\n",
    "print(\"CPU cores (total):\", psutil.cpu_count(logical=True))\n",
    "print(\"CPU frequency (MHz):\", psutil)"
   ]
  },
  {
   "cell_type": "markdown",
   "id": "54ea63d1",
   "metadata": {},
   "source": [
    "### 2.3 show the pages for the result with following steps:\n",
    "\n",
    "1. open the pdf in image\n",
    "2. show the image with matplotlib"
   ]
  },
  {
   "cell_type": "code",
   "execution_count": 38,
   "id": "c44b6c66",
   "metadata": {},
   "outputs": [],
   "source": [
    "import fitz\n",
    "import matplotlib.pyplot as plt\n",
    "\n",
    "\n",
    "def pdf_img_show(num_page: int):\n",
    "\n",
    "    pdf_path = \"human-nutrution-text.pdf\"\n",
    "    doc = fitz.open(pdf_path)\n",
    "    page = doc.load_page(num_page+41)\n",
    "\n",
    "    img = page.get_pixmap(dpi=300)\n",
    "\n",
    "    doc.close()\n",
    "\n",
    "    img_array = np.frombuffer(img.samples_mv, dtype=np.uint8).reshape((img.h, img.w, img.n))\n",
    "    \n",
    "    plt.figure(figsize= (13,10))\n",
    "    plt.imshow(img_array)\n",
    "    plt.axis(\"off\")\n",
    "    plt.show()\n",
    "\n",
    "#pdf_img_show(50)\n"
   ]
  },
  {
   "cell_type": "code",
   "execution_count": 39,
   "id": "3f6b89b7",
   "metadata": {},
   "outputs": [
    {
     "name": "stdout",
     "output_type": "stream",
     "text": [
      "Query : What is the role of carbohydrates in human nutrition?\n",
      "\n",
      "Top 1 relevant result (from page299): \n",
      "Without energy none of the other life processes are performed\n",
      " Although our bodies can synthesize glucose it comes at the cost of protein destruction\n",
      " As with all nutrients though, carbohydrates are to be consumed in moderation as having too much or too little in the diet may lead to health problems\n",
      " Learning Activities Technology Note: The second edition of the Human Nutrition Open Educational Resource (OER) textbook features interactive learning activities\n",
      "  These activities are available in the web-based textbook and not available in the downloadable versions (EPUB, Digital PDF, Print_PDF, or Open Document)\n",
      " 258 | The Functions of Carbohydrates in the Body\n",
      "\n",
      "\n",
      "\n",
      "Top 2 relevant result (from page294): \n",
      "The Functions of Carbohydrates in the Body UNIVERSITY OF HAWAI‘I AT MĀNOA FOOD SCIENCE AND HUMAN NUTRITION PROGRAM AND HUMAN NUTRITION PROGRAM There are five primary functions of carbohydrates in the human body\n",
      " They are energy production, energy storage, building macromolecules, sparing protein, and assisting in lipid metabolism\n",
      " Energy Production The primary role of carbohydrates is to supply energy to all cells in the body\n",
      " Many cells prefer glucose as a source of energy versus other compounds like fatty acids\n",
      " Some cells, such as red blood cells, are only able to produce cellular energy from glucose\n",
      " The brain is also highly sensitive to low blood-glucose levels because it uses only glucose to produce energy and function (unless under extreme starvation conditions)\n",
      " About 70 percent of the glucose entering the body from digestion is redistributed (by the liver) back into the blood for use by other tissues\n",
      " Cells that require energy remove the glucose from the blood with a transport protein in their membranes\n",
      " The energy from glucose comes from the chemical bonds between the carbon atoms\n",
      " Sunlight energy was required to produce these high-energy bonds in the process of photosynthesis\n",
      "\n",
      "\n",
      "\n",
      "\n",
      "Top 3 relevant result (from page300): \n",
      "Learning activities may be used across various mobile devices, however, for the best user experience it is strongly recommended that users complete these activities using a desktop or laptop computer and in Google Chrome\n",
      "   An interactive or media element has been excluded from this version of the text\n",
      " You can view it online here: http://pressbooks\n",
      "oer\n",
      "hawaii\n",
      "edu/ humannutrition2/?p=187   An interactive or media element has been excluded from this version of the text\n",
      " You can view it online here: http://pressbooks\n",
      "oer\n",
      "hawaii\n",
      "edu/ humannutrition2/?p=187 The Functions of Carbohydrates in the Body | 259\n",
      "\n",
      "\n",
      "\n",
      "Top 4 relevant result (from page271): \n",
      "• Describe the different types of simple and complex carbohydrates • Describe the process of carbohydrate digestion and absorption • Describe the functions of carbohydrates in the body • Describe the body’s carbohydrate needs and how personal choices can lead to health benefits or consequences Throughout history, carbohydrates have and continue to be a major source of people’s diets worldwide\n",
      " In ancient Hawai‘i the Hawaiians obtained the majority of their calories from carbohydrate rich plants like the ‘uala (sweet potato), ulu (breadfruit) and kalo (taro)\n",
      " For example, mashed kalo or poi was a staple to meals for Hawaiians\n",
      " Research suggests that almost 78 percent of the diet was made up of these fiber rich carbohydrate foods\n",
      "1 Carbohydrates are the perfect nutrient to meet your body’s nutritional needs\n",
      " They nourish your brain and nervous system, provide energy to all of your cells when within proper caloric limits, and help keep your body fit and lean\n",
      " Specifically, digestible carbohydrates provide bulk in foods, vitamins, and minerals, while 1\n",
      " Fujita R, Braun KL, Hughes CK\n",
      " (2004)\n",
      " The traditional Hawaiian diet: a review of the literature\n",
      " Pacific Health Dialogue, 11(2)\n",
      "\n",
      "\n",
      "\n",
      "\n",
      "Top 5 relevant result (from page45): \n",
      "Learning Objectives By the end of this chapter, you will be able to: • Describe basic concepts in nutrition • Describe factors that affect your nutritional needs • Describe the importance of research and scientific methods to understanding nutrition What are Nutrients? The foods we eat contain nutrients\n",
      " Nutrients are substances required by the body to perform its basic functions\n",
      " Nutrients must be obtained from our diet, since the human body does not synthesize or produce them\n",
      " Nutrients have one or more of three basic functions: they provide energy, contribute to body structure, and/or regulate chemical processes in the body\n",
      " These basic functions allow us to detect and respond to environmental surroundings, move, excrete wastes, respire (breathe), grow, and reproduce\n",
      " There are six classes of nutrients required for the body to function and maintain overall health\n",
      " These are carbohydrates, lipids, proteins, water, vitamins, and minerals\n",
      " Foods also contain non-nutrients that may be harmful (such as natural toxins common in plant foods and additives like some dyes and preservatives) or beneficial (such as antioxidants)\n",
      " 4 | Introduction\n",
      "\n",
      "\n",
      "\n",
      "Total token count: 1207.75\n",
      "Total word count: 742\n"
     ]
    }
   ],
   "source": [
    "# show the top k result in text\n",
    "top_k_embeddings = embeddings[top_k.indices]\n",
    "\n",
    "print(f\"Query : {query}\\n\")\n",
    "\n",
    "total_token_count = 0\n",
    "total_word_count = 0\n",
    "\n",
    "for i, idx in enumerate(top_k.indices):\n",
    "    page_number = text_chunks_embeddings_df[\"page_number\"].iloc[int(idx)]+41\n",
    "    print(f\"Top {i+1} relevant result (from page{page_number}): \")\n",
    "    \n",
    "    text_chunks = text_chunks_embeddings_df[\"sentence_chunk\"].iloc[int(idx)]\n",
    "    total_token_count += text_chunks_embeddings_df[\"chunk_token_count\"].iloc[int(idx)]\n",
    "    total_word_count += text_chunks_embeddings_df[\"chunk_word_count\"].iloc[int(idx)]\n",
    "    \n",
    "    for sentence in [ n for n in text_chunks.split(\".\")]:\n",
    "        print(sentence)\n",
    "    print(\"\\n\\n\")\n",
    "    \n",
    "print(f\"Total token count: {total_token_count}\")\n",
    "print(f\"Total word count: {total_word_count}\")"
   ]
  },
  {
   "cell_type": "code",
   "execution_count": 40,
   "id": "7a1a460c",
   "metadata": {},
   "outputs": [],
   "source": [
    "def retrival_search(query : str,\n",
    "             top_k : int = 5,\n",
    "             embeddings : torch.tensor = embeddings,\n",
    "             embedding_model : SentenceTransformer = embedding_model,\n",
    "             \n",
    "             device: str = device):\n",
    "    \n",
    "    #step 1: Turn query to embedding\n",
    "    query_embedding = embedding_model.encode(query, device=device, convert_to_tensor=True)\n",
    "    \n",
    "    #step 2: Find top k <query_embedding, embeddings>\n",
    "    dot_scores = util.dot_score(query_embedding, embeddings)[0]\n",
    "    top_k = torch.topk(dot_scores, k=top_k+1)\n",
    "    \n",
    "    #step 3: text_chunk_df[top_k.indices]\n",
    "    indices = top_k.indices\n",
    "    scores = top_k.values\n",
    "    \n",
    "    return indices, scores\n",
    "    "
   ]
  },
  {
   "cell_type": "code",
   "execution_count": 41,
   "id": "9625d5b9",
   "metadata": {},
   "outputs": [
    {
     "name": "stdout",
     "output_type": "stream",
     "text": [
      "CPU times: user 48.6 ms, sys: 21.1 ms, total: 69.7 ms\n",
      "Wall time: 69.1 ms\n"
     ]
    },
    {
     "data": {
      "text/plain": [
       "(tensor([389, 381, 390, 347,  41,  47]),\n",
       " tensor([0.7348, 0.7205, 0.7136, 0.6789, 0.6650, 0.6602]))"
      ]
     },
     "execution_count": 41,
     "metadata": {},
     "output_type": "execute_result"
    }
   ],
   "source": [
    "%%time\n",
    "retrival_search(query)"
   ]
  },
  {
   "cell_type": "markdown",
   "id": "b5ddd4aa",
   "metadata": {},
   "source": [
    "### 2.3 Funtionalization"
   ]
  },
  {
   "cell_type": "code",
   "execution_count": 42,
   "id": "8f3f6e0c",
   "metadata": {},
   "outputs": [],
   "source": [
    "import textwrap\n",
    "\n",
    "def print_top_results(query : str,        \n",
    "                      top_k : int = 5,\n",
    "                      embeddings : torch.tensor = embeddings,\n",
    "                      embedding_model : SentenceTransformer = embedding_model,\n",
    "                      text_chunk_df : pd.DataFrame = text_chunks_embeddings_df,\n",
    "                      show_result = True):\n",
    "    \n",
    "    ## find top k relevant text chunk\n",
    "    indices , scores = retrival_search(query, top_k, embeddings, embedding_model)\n",
    "    \n",
    "    top_k_relevant_text = [text_chunk_df[\"sentence_chunk\"].iloc[int(idx)] for idx in indices]\n",
    "    \n",
    "    if show_result:\n",
    "        print(f\"Query: {query}\\n\")\n",
    "        print(\"---\"*40)\n",
    "    \n",
    "    relevant_texts = list()\n",
    "    \n",
    "    for i, idx in enumerate(indices):\n",
    "        text = text_chunk_df[\"sentence_chunk\"].iloc[int(idx)]\n",
    "        relevant_texts.append(text)\n",
    "        page_number = int(text_chunks_embeddings_df[\"page_number\"].iloc[int(idx)])\n",
    "        \n",
    "        if show_result:\n",
    "            pdf_img_show(page_number)\n",
    "            print(f\"Top {i+1} relevant text\")\n",
    "            print(textwrap.fill(text, 80)+\"\\n\")\n",
    "            print(f\"Source page: {page_number}\")\n",
    "            print(\"---\"*40)\n",
    "        \n",
    "    return relevant_texts"
   ]
  },
  {
   "cell_type": "code",
   "execution_count": 43,
   "id": "680b77f5",
   "metadata": {},
   "outputs": [
    {
     "data": {
      "text/plain": [
       "['Without energy none of the other life processes are performed. Although our bodies can synthesize glucose it comes at the cost of protein destruction. As with all nutrients though, carbohydrates are to be consumed in moderation as having too much or too little in the diet may lead to health problems. Learning Activities Technology Note: The second edition of the Human Nutrition Open Educational Resource (OER) textbook features interactive learning activities.\\xa0 These activities are available in the web-based textbook and not available in the downloadable versions (EPUB, Digital PDF, Print_PDF, or Open Document). 258 | The Functions of Carbohydrates in the Body',\n",
       " 'The Functions of Carbohydrates in the Body UNIVERSITY OF HAWAI‘I AT MĀNOA FOOD SCIENCE AND HUMAN NUTRITION PROGRAM AND HUMAN NUTRITION PROGRAM There are five primary functions of carbohydrates in the human body. They are energy production, energy storage, building macromolecules, sparing protein, and assisting in lipid metabolism. Energy Production The primary role of carbohydrates is to supply energy to all cells in the body. Many cells prefer glucose as a source of energy versus other compounds like fatty acids. Some cells, such as red blood cells, are only able to produce cellular energy from glucose. The brain is also highly sensitive to low blood-glucose levels because it uses only glucose to produce energy and function (unless under extreme starvation conditions). About 70 percent of the glucose entering the body from digestion is redistributed (by the liver) back into the blood for use by other tissues. Cells that require energy remove the glucose from the blood with a transport protein in their membranes. The energy from glucose comes from the chemical bonds between the carbon atoms. Sunlight energy was required to produce these high-energy bonds in the process of photosynthesis.',\n",
       " 'Learning activities may be used across various mobile devices, however, for the best user experience it is strongly recommended that users complete these activities using a desktop or laptop computer and in Google Chrome. \\xa0 An interactive or media element has been excluded from this version of the text. You can view it online here: http://pressbooks.oer.hawaii.edu/ humannutrition2/?p=187 \\xa0 An interactive or media element has been excluded from this version of the text. You can view it online here: http://pressbooks.oer.hawaii.edu/ humannutrition2/?p=187 The Functions of Carbohydrates in the Body | 259',\n",
       " '• Describe the different types of simple and complex carbohydrates • Describe the process of carbohydrate digestion and absorption • Describe the functions of carbohydrates in the body • Describe the body’s carbohydrate needs and how personal choices can lead to health benefits or consequences Throughout history, carbohydrates have and continue to be a major source of people’s diets worldwide. In ancient Hawai‘i the Hawaiians obtained the majority of their calories from carbohydrate rich plants like the ‘uala (sweet potato), ulu (breadfruit) and kalo (taro). For example, mashed kalo or poi was a staple to meals for Hawaiians. Research suggests that almost 78 percent of the diet was made up of these fiber rich carbohydrate foods.1 Carbohydrates are the perfect nutrient to meet your body’s nutritional needs. They nourish your brain and nervous system, provide energy to all of your cells when within proper caloric limits, and help keep your body fit and lean. Specifically, digestible carbohydrates provide bulk in foods, vitamins, and minerals, while 1.\\xa0Fujita R, Braun KL, Hughes CK. (2004). The traditional Hawaiian diet: a review of the literature. Pacific Health Dialogue, 11(2).',\n",
       " 'Learning Objectives By the end of this chapter, you will be able to: • Describe basic concepts in nutrition • Describe factors that affect your nutritional needs • Describe the importance of research and scientific methods to understanding nutrition What are Nutrients? The foods we eat contain nutrients. Nutrients are substances required by the body to perform its basic functions. Nutrients must be obtained from our diet, since the human body does not synthesize or produce them. Nutrients have one or more of three basic functions: they provide energy, contribute to body structure, and/or regulate chemical processes in the body. These basic functions allow us to detect and respond to environmental surroundings, move, excrete wastes, respire (breathe), grow, and reproduce. There are six classes of nutrients required for the body to function and maintain overall health. These are carbohydrates, lipids, proteins, water, vitamins, and minerals. Foods also contain non-nutrients that may be harmful (such as natural toxins common in plant foods and additives like some dyes and preservatives) or beneficial (such as antioxidants). 4 | Introduction',\n",
       " 'Water There is one other nutrient that we must have in large quantities: water. Water does not contain carbon, but is composed of two hydrogens and one oxygen per molecule of water. More than 60 percent of your total body weight is water. Without it, nothing could be transported in or out of the body, chemical reactions would not occur, organs would not be cushioned, and body temperature would fluctuate widely. On average, an adult consumes just over two liters of water per day from food and drink combined. Since water is so critical for life’s basic processes, the amount of water input and output is supremely important, a topic we will explore in detail in Chapter 4. Micronutrients Micronutrients are nutrients required by the body in lesser amounts, but are still essential for carrying out bodily functions. Micronutrients include all the essential minerals and vitamins. There are sixteen essential minerals and thirteen vitamins (See Table 1.1 “Minerals and Their Major Functions” and Table 1.2 “Vitamins and Their Major Functions” for a complete list and their major functions). In contrast to carbohydrates, lipids, and proteins, micronutrients are not sources of energy (calories), but they assist in the process as cofactors or components of enzymes (i.e., coenzymes).']"
      ]
     },
     "execution_count": 43,
     "metadata": {},
     "output_type": "execute_result"
    }
   ],
   "source": [
    "print_top_results(\"What is the role of carbohydrates in human nutrition?\", show_result = False)"
   ]
  },
  {
   "cell_type": "code",
   "execution_count": null,
   "id": "0871a964",
   "metadata": {},
   "outputs": [],
   "source": []
  },
  {
   "cell_type": "code",
   "execution_count": null,
   "id": "01f4e85a",
   "metadata": {},
   "outputs": [],
   "source": []
  },
  {
   "cell_type": "code",
   "execution_count": null,
   "id": "6487b2ca",
   "metadata": {},
   "outputs": [],
   "source": []
  },
  {
   "cell_type": "code",
   "execution_count": null,
   "id": "452d4d4c",
   "metadata": {},
   "outputs": [],
   "source": []
  },
  {
   "cell_type": "code",
   "execution_count": null,
   "id": "145e7866",
   "metadata": {},
   "outputs": [],
   "source": []
  }
 ],
 "metadata": {
  "kernelspec": {
   "display_name": "base",
   "language": "python",
   "name": "python3"
  },
  "language_info": {
   "codemirror_mode": {
    "name": "ipython",
    "version": 3
   },
   "file_extension": ".py",
   "mimetype": "text/x-python",
   "name": "python",
   "nbconvert_exporter": "python",
   "pygments_lexer": "ipython3",
   "version": "3.11.5"
  }
 },
 "nbformat": 4,
 "nbformat_minor": 5
}
